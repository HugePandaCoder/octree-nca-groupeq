{
 "cells": [
  {
   "cell_type": "code",
   "execution_count": 4,
   "metadata": {},
   "outputs": [],
   "source": [
    "import os, tqdm\n",
    "import numpy as np\n",
    "import matplotlib.pyplot as plt\n",
    "import zarr, openslide\n",
    "import pickle as pkl"
   ]
  },
  {
   "cell_type": "code",
   "execution_count": 2,
   "metadata": {},
   "outputs": [],
   "source": [
    "OCTREE_PATH = \"/local/scratch/clmn1/octree_study_new/Experiments/pesoLarge_loss2_contd_OctreeNCA2DSegmentation/temp\"\n",
    "UNET_PATH = \"/local/scratch/clmn1/octree_study_new/Experiments/peso_UNet_resnet18_0_MinUNet2DSegmentation/temp\"\n",
    "\n",
    "images_path = \"/local/scratch/PESO/peso_training\"\n",
    "img_level = 1\n",
    "size = (320, 320)"
   ]
  },
  {
   "cell_type": "code",
   "execution_count": 3,
   "metadata": {},
   "outputs": [
    {
     "name": "stderr",
     "output_type": "stream",
     "text": [
      "100%|██████████| 77800/77800 [16:46<00:00, 77.28it/s]\n"
     ]
    }
   ],
   "source": [
    "d = {}\n",
    "for file_name in tqdm.tqdm(os.listdir(OCTREE_PATH)):\n",
    "    octree_pred = os.path.join(OCTREE_PATH, file_name)\n",
    "    unet_pred = os.path.join(UNET_PATH, file_name)\n",
    "    octree_pred = np.load(octree_pred)\n",
    "    unet_pred = np.load(unet_pred)\n",
    "    disagreement = np.logical_xor((octree_pred[0] > 0), (unet_pred[0] > 0)).sum()\n",
    "    d[file_name[:-len(\".npy\")]] = disagreement"
   ]
  },
  {
   "cell_type": "code",
   "execution_count": 11,
   "metadata": {},
   "outputs": [],
   "source": [
    "out_path = os.path.join(\"/local/scratch/clmn1/octree_study_new/Experiments/pesoLarge_loss2_contd_OctreeNCA2DSegmentation\", \"computed_disagreement.pkl\")\n",
    "\n",
    "with open(out_path, \"wb\") as f:\n",
    "    pkl.dump(d, f)"
   ]
  },
  {
   "cell_type": "code",
   "execution_count": 8,
   "metadata": {},
   "outputs": [
    {
     "data": {
      "text/plain": [
       "['pds_3_HE_15680_29120.npy',\n",
       " 'pds_37_HE_3520_31040.npy',\n",
       " 'pds_8_HE_8960_20800.npy',\n",
       " 'pds_34_HE_16320_38720.npy',\n",
       " 'pds_26_HE_960_42240.npy',\n",
       " 'pds_44_HE_10560_30080.npy',\n",
       " 'pds_24_HE_13760_21440.npy',\n",
       " 'pds_31_HE_8320_36800.npy',\n",
       " 'pds_12_HE_16960_30400.npy',\n",
       " 'pds_32_HE_13440_24960.npy']"
      ]
     },
     "execution_count": 8,
     "metadata": {},
     "output_type": "execute_result"
    }
   ],
   "source": [
    "list(d.keys())[:10]"
   ]
  },
  {
   "cell_type": "code",
   "execution_count": null,
   "metadata": {},
   "outputs": [],
   "source": [
    "d2 = {}\n",
    "for k, v in d.items():\n",
    "    d2[k] = 0\n",
    "d2[d.keys()[0]] = 1\n",
    "out_path = os.path.join(\"/local/scratch/clmn1/octree_study_new/Experiments/pesoLarge_loss2_contd_OctreeNCA2DSegmentation\", \"computed_disagreement_test.pkl\")\n",
    "\n",
    "with open(out_path, \"wb\") as f:\n",
    "    pkl.dump(d, f)"
   ]
  }
 ],
 "metadata": {
  "kernelspec": {
   "display_name": "Python 3",
   "language": "python",
   "name": "python3"
  },
  "language_info": {
   "codemirror_mode": {
    "name": "ipython",
    "version": 3
   },
   "file_extension": ".py",
   "mimetype": "text/x-python",
   "name": "python",
   "nbconvert_exporter": "python",
   "pygments_lexer": "ipython3",
   "version": "3.10.14"
  }
 },
 "nbformat": 4,
 "nbformat_minor": 2
}
