{
 "cells": [
  {
   "cell_type": "code",
   "execution_count": 8,
   "metadata": {},
   "outputs": [
    {
     "data": {
      "text/plain": [
       "<torch.autograd.grad_mode.set_grad_enabled at 0x7be7d389a7d0>"
      ]
     },
     "execution_count": 8,
     "metadata": {},
     "output_type": "execute_result"
    }
   ],
   "source": [
    "import configs, torch\n",
    "from src.models.Model_OctreeNCA_2d_patching2 import OctreeNCA2DPatch2\n",
    "import time, json\n",
    "from src.models.UNetWrapper2D import UNetWrapper2D\n",
    "from unet import UNet2D\n",
    "\n",
    "\n",
    "torch.set_grad_enabled(False)"
   ]
  },
  {
   "cell_type": "code",
   "execution_count": 9,
   "metadata": {},
   "outputs": [],
   "source": [
    "study_config = {\n",
    "    'experiment.name': r'pesoXXXS',\n",
    "    'experiment.description': \"UNet2DSegmentation\",\n",
    "\n",
    "    'model.output_channels': 1,\n",
    "}\n",
    "study_config = study_config | configs.models.peso_unet.peso_unet_model_config\n",
    "study_config = study_config | configs.trainers.nca.nca_trainer_config\n",
    "study_config = study_config | configs.datasets.peso.peso_dataset_config\n",
    "study_config = study_config | configs.tasks.segmentation.segmentation_task_config\n",
    "study_config = study_config | configs.default.default_config\n",
    "\n",
    "study_config['experiment.logging.also_eval_on_train'] = False\n",
    "study_config['experiment.logging.evaluate_interval'] = study_config['trainer.n_epochs']+1\n",
    "study_config['experiment.task.score'] = [\"src.scores.PatchwiseDiceScore.PatchwiseDiceScore\",\n",
    "                                         \"src.scores.PatchwiseIoUScore.PatchwiseIoUScore\"]\n",
    "\n",
    "\n",
    "study_config['trainer.ema'] = False\n",
    "study_config['trainer.batch_size'] = 10\n",
    "\n",
    "\n",
    "\n",
    "#study_config['model.num_encoding_blocks'] = 3\n",
    "#study_config['model.out_channels_first_layer'] = 8\n",
    "\n",
    "\n",
    "\n",
    "study_config['experiment.device'] = \"cpu\"\n",
    "\n",
    "config = study_config\n",
    "\n",
    "model_params = {k.replace(\"model.\", \"\"): v for k, v in config.items() if k.startswith('model.')}\n",
    "model_params.pop(\"output_channels\")\n",
    "model_params.pop(\"input_channels\")\n",
    "model = UNet2D(in_channels=config['model.input_channels'], out_classes=config['model.output_channels'], padding=1, **model_params)\n",
    "model = UNetWrapper2D(model).eval()"
   ]
  },
  {
   "cell_type": "code",
   "execution_count": 12,
   "metadata": {},
   "outputs": [],
   "source": [
    "def perform_inference_and_measure_time(img_dim):\n",
    "    input_img = torch.rand(1, 3, img_dim, img_dim)  #this must be BCHW\n",
    "    dummy_seg = torch.rand(1, 3, img_dim, img_dim)  #this must be BCHW\n",
    "    start = time.time()\n",
    "    out = model(input_img, dummy_seg)\n",
    "    end = time.time()\n",
    "    assert out['logits'].shape[1:3] == (img_dim, img_dim)\n",
    "    return end-start\n"
   ]
  },
  {
   "cell_type": "code",
   "execution_count": 13,
   "metadata": {},
   "outputs": [
    {
     "name": "stdout",
     "output_type": "stream",
     "text": [
      "320\n",
      "run 0\n",
      "run 1\n",
      "run 2\n",
      "640\n",
      "run 0\n",
      "run 1\n",
      "run 2\n",
      "960\n",
      "run 0\n",
      "run 1\n",
      "run 2\n",
      "1280\n",
      "run 0\n",
      "run 1\n",
      "run 2\n",
      "1600\n",
      "run 0\n",
      "run 1\n",
      "run 2\n"
     ]
    }
   ],
   "source": [
    "results = {}\n",
    "for img_dim in [320, 320*2, 320*3, 320*4]:\n",
    "    print(img_dim)\n",
    "    timings = []\n",
    "    for i in range(3):\n",
    "        print(\"run\", i)\n",
    "        timings.append(perform_inference_and_measure_time(img_dim))\n",
    "\n",
    "    results[img_dim] = timings "
   ]
  },
  {
   "cell_type": "code",
   "execution_count": 7,
   "metadata": {},
   "outputs": [],
   "source": [
    "with open(\"john_timing_results_unet_pi.json\", \"w\") as f:\n",
    "    json.dump(results, f, indent=4)"
   ]
  }
 ],
 "metadata": {
  "kernelspec": {
   "display_name": "Python 3",
   "language": "python",
   "name": "python3"
  },
  "language_info": {
   "codemirror_mode": {
    "name": "ipython",
    "version": 3
   },
   "file_extension": ".py",
   "mimetype": "text/x-python",
   "name": "python",
   "nbconvert_exporter": "python",
   "pygments_lexer": "ipython3",
   "version": "3.10.14"
  }
 },
 "nbformat": 4,
 "nbformat_minor": 2
}
