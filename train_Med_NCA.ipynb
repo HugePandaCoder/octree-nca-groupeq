{
 "cells": [
  {
   "attachments": {},
   "cell_type": "markdown",
   "metadata": {},
   "source": [
    "# Med-NCA: Robust and Lightweight Segmentation with Neural Cellular Automata \n",
    "### John Kalkhof, Camila González, Anirban Mukhopadhyay\n",
    "__https://arxiv.org/pdf/2302.03473.pdf__\n",
    "\n",
    "\n",
    "\n",
    "***"
   ]
  },
  {
   "attachments": {},
   "cell_type": "markdown",
   "metadata": {},
   "source": [
    "## __The Backbone Model__\n",
    "<div>\n",
    "<img src=\"src/images/model_MedNCA.png\" width=\"600\"/>\n",
    "</div>"
   ]
  },
  {
   "attachments": {},
   "cell_type": "markdown",
   "metadata": {},
   "source": [
    "## _1. Imports_"
   ]
  },
  {
   "cell_type": "code",
   "execution_count": 1,
   "metadata": {},
   "outputs": [],
   "source": [
    "import torch\n",
    "from src.datasets.Nii_Gz_Dataset_3D import Dataset_NiiGz_3D\n",
    "from src.models.Model_BackboneNCA import BackboneNCA\n",
    "from src.losses.LossFunctions import DiceBCELoss\n",
    "from src.utils.Experiment import Experiment\n",
    "from src.agents.Agent_Med_NCA import Agent_Med_NCA"
   ]
  },
  {
   "attachments": {},
   "cell_type": "markdown",
   "metadata": {},
   "source": [
    "## _2. Configure experiment_\n",
    "- __AutoReload__\n",
    "    - If an experiment already exists in _model\\_path_ the config will __always__ be overwritten with the existing one\n",
    "    - Additionally if the model has been saved previously, this state will be reloaded\n",
    "- Download _prostate_ data from 'http://medicaldecathlon.com/' and adapt 'img_path' and 'label_path'"
   ]
  },
  {
   "cell_type": "code",
   "execution_count": 2,
   "metadata": {},
   "outputs": [],
   "source": [
    "config = [{\n",
    "    'img_path': r\"/home/jkalkhof_locale/Documents/Data/Task04_Hippocampus/train/imagesTr/\",\n",
    "    'label_path': r\"/home/jkalkhof_locale/Documents/Data/Task04_Hippocampus/train/labelsTr/\",\n",
    "    'name': r'Med_NCA_Run1',\n",
    "    'device':\"cuda:0\",\n",
    "    'unlock_CPU': True,\n",
    "    # Optimizer\n",
    "    'lr': 16e-4,\n",
    "    'lr_gamma': 0.9999,\n",
    "    'betas': (0.5, 0.5),\n",
    "    # Training\n",
    "    'save_interval': 10,\n",
    "    'evaluate_interval': 10,\n",
    "    'n_epoch': 1000,\n",
    "    'batch_size': 20,\n",
    "    # Model\n",
    "    'channel_n': 32,        # Number of CA state channels\n",
    "    'inference_steps': 64,\n",
    "    'cell_fire_rate': 0.5,\n",
    "    'input_channels': 1,\n",
    "    'output_channels': 1,\n",
    "    'hidden_size': 128,\n",
    "    'train_model':1,\n",
    "    # Data\n",
    "    'input_size': [(16, 16), (64, 64)],\n",
    "    'data_split': [0.7, 0, 0.3], \n",
    "}\n",
    "]"
   ]
  },
  {
   "attachments": {},
   "cell_type": "markdown",
   "metadata": {},
   "source": [
    "## _3. Choose architecture, dataset and training agent_\n",
    "\n",
    "- _Dataset\\_Nii\\_Gz\\_3D_ loads 3D files. If you pass a _slice_ it will be split along the according axis."
   ]
  },
  {
   "cell_type": "code",
   "execution_count": 3,
   "metadata": {},
   "outputs": [
    {
     "name": "stdout",
     "output_type": "stream",
     "text": [
      "Datasplit-> train entries: 139, val entries: 0, test entries: 59\n",
      "Datasplit-> train entries: 139, val entries: 0, test entries: 59\n"
     ]
    }
   ],
   "source": [
    "dataset = Dataset_NiiGz_3D(slice=2)\n",
    "device = torch.device(config[0]['device'])\n",
    "ca1 = BackboneNCA(config[0]['channel_n'], config[0]['cell_fire_rate'], device, hidden_size=config[0]['hidden_size'], input_channels=config[0]['input_channels']).to(device)\n",
    "ca2 = BackboneNCA(config[0]['channel_n'], config[0]['cell_fire_rate'], device, hidden_size=config[0]['hidden_size'], input_channels=config[0]['input_channels']).to(device)\n",
    "ca = [ca1, ca2]\n",
    "agent = Agent_Med_NCA(ca)\n",
    "exp = Experiment(config, dataset, ca, agent)\n",
    "dataset.set_experiment(exp)\n",
    "exp.set_model_state('train')\n",
    "data_loader = torch.utils.data.DataLoader(dataset, shuffle=True, batch_size=exp.get_from_config('batch_size'))\n",
    "\n",
    "loss_function = DiceBCELoss() "
   ]
  },
  {
   "attachments": {},
   "cell_type": "markdown",
   "metadata": {},
   "source": [
    "## _4. Run training_"
   ]
  },
  {
   "cell_type": "code",
   "execution_count": 4,
   "metadata": {},
   "outputs": [
    {
     "name": "stdout",
     "output_type": "stream",
     "text": [
      "Epoch: 1\n",
      "Dataset size: 249\n"
     ]
    },
    {
     "ename": "RuntimeError",
     "evalue": "CUDA out of memory. Tried to allocate 10.00 MiB (GPU 0; 23.69 GiB total capacity; 5.97 GiB already allocated; 7.00 MiB free; 6.47 GiB reserved in total by PyTorch) If reserved memory is >> allocated memory try setting max_split_size_mb to avoid fragmentation.  See documentation for Memory Management and PYTORCH_CUDA_ALLOC_CONF",
     "output_type": "error",
     "traceback": [
      "\u001b[0;31m---------------------------------------------------------------------------\u001b[0m",
      "\u001b[0;31mRuntimeError\u001b[0m                              Traceback (most recent call last)",
      "\u001b[1;32m/home/jkalkhof_locale/Documents/GitHub/NCA/train_Med_NCA.ipynb Cell 10\u001b[0m in \u001b[0;36m<cell line: 1>\u001b[0;34m()\u001b[0m\n\u001b[0;32m----> <a href='vscode-notebook-cell://ssh-remote%2B7b22686f73744e616d65223a22504333313130227d/home/jkalkhof_locale/Documents/GitHub/NCA/train_Med_NCA.ipynb#X12sdnNjb2RlLXJlbW90ZQ%3D%3D?line=0'>1</a>\u001b[0m agent\u001b[39m.\u001b[39;49mtrain(data_loader, loss_function)\n",
      "File \u001b[0;32m~/Documents/GitHub/NCA/src/agents/Agent.py:190\u001b[0m, in \u001b[0;36mBaseAgent.train\u001b[0;34m(self, dataloader, loss_f)\u001b[0m\n\u001b[1;32m    188\u001b[0m \u001b[39mprint\u001b[39m(\u001b[39m'\u001b[39m\u001b[39mDataset size: \u001b[39m\u001b[39m'\u001b[39m \u001b[39m+\u001b[39m \u001b[39mstr\u001b[39m(\u001b[39mlen\u001b[39m(dataloader)))\n\u001b[1;32m    189\u001b[0m \u001b[39mfor\u001b[39;00m i, data \u001b[39min\u001b[39;00m \u001b[39menumerate\u001b[39m(dataloader):\n\u001b[0;32m--> 190\u001b[0m     loss_item \u001b[39m=\u001b[39m \u001b[39mself\u001b[39;49m\u001b[39m.\u001b[39;49mbatch_step(data, loss_f)\n\u001b[1;32m    191\u001b[0m     \u001b[39mfor\u001b[39;00m key \u001b[39min\u001b[39;00m loss_item\u001b[39m.\u001b[39mkeys():\n\u001b[1;32m    192\u001b[0m         loss_log[key]\u001b[39m.\u001b[39mappend(loss_item[key])\n",
      "File \u001b[0;32m~/Documents/GitHub/NCA/src/agents/Agent_Multi_NCA.py:17\u001b[0m, in \u001b[0;36mAgent_Multi_NCA.batch_step\u001b[0;34m(self, data, loss_f)\u001b[0m\n\u001b[1;32m      9\u001b[0m \u001b[39mr\u001b[39m\u001b[39m\"\"\"Execute a single batch training step\u001b[39;00m\n\u001b[1;32m     10\u001b[0m \u001b[39m    #Args\u001b[39;00m\n\u001b[1;32m     11\u001b[0m \u001b[39m        data (tensor, tensor): inputs, targets\u001b[39;00m\n\u001b[0;32m   (...)\u001b[0m\n\u001b[1;32m     14\u001b[0m \u001b[39m        loss item\u001b[39;00m\n\u001b[1;32m     15\u001b[0m \u001b[39m\"\"\"\u001b[39;00m\n\u001b[1;32m     16\u001b[0m data \u001b[39m=\u001b[39m \u001b[39mself\u001b[39m\u001b[39m.\u001b[39mprepare_data(data)\n\u001b[0;32m---> 17\u001b[0m outputs, targets \u001b[39m=\u001b[39m \u001b[39mself\u001b[39;49m\u001b[39m.\u001b[39;49mget_outputs(data)\n\u001b[1;32m     18\u001b[0m \u001b[39mfor\u001b[39;00m m \u001b[39min\u001b[39;00m \u001b[39mrange\u001b[39m(\u001b[39mself\u001b[39m\u001b[39m.\u001b[39mexp\u001b[39m.\u001b[39mget_from_config(\u001b[39m'\u001b[39m\u001b[39mtrain_model\u001b[39m\u001b[39m'\u001b[39m)\u001b[39m+\u001b[39m\u001b[39m1\u001b[39m):\n\u001b[1;32m     19\u001b[0m     \u001b[39mself\u001b[39m\u001b[39m.\u001b[39moptimizer[m]\u001b[39m.\u001b[39mzero_grad()\n",
      "File \u001b[0;32m~/Documents/GitHub/NCA/src/agents/Agent_Med_NCA.py:52\u001b[0m, in \u001b[0;36mAgent_Med_NCA.get_outputs\u001b[0;34m(self, data, full_img, **kwargs)\u001b[0m\n\u001b[1;32m     50\u001b[0m     outputs \u001b[39m=\u001b[39m \u001b[39mself\u001b[39m\u001b[39m.\u001b[39mmodel[m](inputs_loc, steps\u001b[39m=\u001b[39m\u001b[39mself\u001b[39m\u001b[39m.\u001b[39mgetInferenceSteps(), fire_rate\u001b[39m=\u001b[39m\u001b[39mself\u001b[39m\u001b[39m.\u001b[39mexp\u001b[39m.\u001b[39mget_from_config(\u001b[39m'\u001b[39m\u001b[39mcell_fire_rate\u001b[39m\u001b[39m'\u001b[39m))\n\u001b[1;32m     51\u001b[0m \u001b[39melse\u001b[39;00m:\n\u001b[0;32m---> 52\u001b[0m     outputs \u001b[39m=\u001b[39m \u001b[39mself\u001b[39;49m\u001b[39m.\u001b[39;49mmodel[m](inputs_loc, steps\u001b[39m=\u001b[39;49m\u001b[39mself\u001b[39;49m\u001b[39m.\u001b[39;49mgetInferenceSteps(), fire_rate\u001b[39m=\u001b[39;49m\u001b[39mself\u001b[39;49m\u001b[39m.\u001b[39;49mexp\u001b[39m.\u001b[39;49mget_from_config(\u001b[39m'\u001b[39;49m\u001b[39mcell_fire_rate\u001b[39;49m\u001b[39m'\u001b[39;49m))\n\u001b[1;32m     54\u001b[0m     \u001b[39m# Upscale lowres features to high res\u001b[39;00m\n\u001b[1;32m     55\u001b[0m     up \u001b[39m=\u001b[39m torch\u001b[39m.\u001b[39mnn\u001b[39m.\u001b[39mUpsample(scale_factor\u001b[39m=\u001b[39m\u001b[39m4\u001b[39m, mode\u001b[39m=\u001b[39m\u001b[39m'\u001b[39m\u001b[39mnearest\u001b[39m\u001b[39m'\u001b[39m)\n",
      "File \u001b[0;32m~/anaconda3/envs/NCA/lib/python3.8/site-packages/torch/nn/modules/module.py:1130\u001b[0m, in \u001b[0;36mModule._call_impl\u001b[0;34m(self, *input, **kwargs)\u001b[0m\n\u001b[1;32m   1126\u001b[0m \u001b[39m# If we don't have any hooks, we want to skip the rest of the logic in\u001b[39;00m\n\u001b[1;32m   1127\u001b[0m \u001b[39m# this function, and just call forward.\u001b[39;00m\n\u001b[1;32m   1128\u001b[0m \u001b[39mif\u001b[39;00m \u001b[39mnot\u001b[39;00m (\u001b[39mself\u001b[39m\u001b[39m.\u001b[39m_backward_hooks \u001b[39mor\u001b[39;00m \u001b[39mself\u001b[39m\u001b[39m.\u001b[39m_forward_hooks \u001b[39mor\u001b[39;00m \u001b[39mself\u001b[39m\u001b[39m.\u001b[39m_forward_pre_hooks \u001b[39mor\u001b[39;00m _global_backward_hooks\n\u001b[1;32m   1129\u001b[0m         \u001b[39mor\u001b[39;00m _global_forward_hooks \u001b[39mor\u001b[39;00m _global_forward_pre_hooks):\n\u001b[0;32m-> 1130\u001b[0m     \u001b[39mreturn\u001b[39;00m forward_call(\u001b[39m*\u001b[39;49m\u001b[39minput\u001b[39;49m, \u001b[39m*\u001b[39;49m\u001b[39m*\u001b[39;49mkwargs)\n\u001b[1;32m   1131\u001b[0m \u001b[39m# Do not call functions when jit is used\u001b[39;00m\n\u001b[1;32m   1132\u001b[0m full_backward_hooks, non_full_backward_hooks \u001b[39m=\u001b[39m [], []\n",
      "File \u001b[0;32m~/Documents/GitHub/NCA/src/models/Model_BasicNCA.py:89\u001b[0m, in \u001b[0;36mBasicNCA.forward\u001b[0;34m(self, x, steps, fire_rate)\u001b[0m\n\u001b[1;32m     82\u001b[0m \u001b[39mr\u001b[39m\u001b[39m\"\"\"Forward function applies update function s times leaving input channels unchanged\u001b[39;00m\n\u001b[1;32m     83\u001b[0m \u001b[39m    #Args:\u001b[39;00m\n\u001b[1;32m     84\u001b[0m \u001b[39m        x: image\u001b[39;00m\n\u001b[1;32m     85\u001b[0m \u001b[39m        steps: number of steps to run update\u001b[39;00m\n\u001b[1;32m     86\u001b[0m \u001b[39m        fire_rate: random activation rate of each cell\u001b[39;00m\n\u001b[1;32m     87\u001b[0m \u001b[39m\"\"\"\u001b[39;00m\n\u001b[1;32m     88\u001b[0m \u001b[39mfor\u001b[39;00m step \u001b[39min\u001b[39;00m \u001b[39mrange\u001b[39m(steps):\n\u001b[0;32m---> 89\u001b[0m     x2 \u001b[39m=\u001b[39m \u001b[39mself\u001b[39;49m\u001b[39m.\u001b[39;49mupdate(x, fire_rate)\u001b[39m.\u001b[39mclone() \u001b[39m#[...,3:][...,3:]\u001b[39;00m\n\u001b[1;32m     90\u001b[0m     x \u001b[39m=\u001b[39m torch\u001b[39m.\u001b[39mconcat((x[\u001b[39m.\u001b[39m\u001b[39m.\u001b[39m\u001b[39m.\u001b[39m,:\u001b[39mself\u001b[39m\u001b[39m.\u001b[39minput_channels], x2[\u001b[39m.\u001b[39m\u001b[39m.\u001b[39m\u001b[39m.\u001b[39m,\u001b[39mself\u001b[39m\u001b[39m.\u001b[39minput_channels:]), \u001b[39m3\u001b[39m)\n\u001b[1;32m     91\u001b[0m \u001b[39mreturn\u001b[39;00m x\n",
      "File \u001b[0;32m~/Documents/GitHub/NCA/src/models/Model_BasicNCA.py:63\u001b[0m, in \u001b[0;36mBasicNCA.update\u001b[0;34m(self, x_in, fire_rate)\u001b[0m\n\u001b[1;32m     56\u001b[0m \u001b[39mr\u001b[39m\u001b[39m\"\"\"Update function runs same nca rule on each cell of an image with a random activation\u001b[39;00m\n\u001b[1;32m     57\u001b[0m \u001b[39m    #Args:\u001b[39;00m\n\u001b[1;32m     58\u001b[0m \u001b[39m        x_in: image\u001b[39;00m\n\u001b[1;32m     59\u001b[0m \u001b[39m        fire_rate: random activation of cells\u001b[39;00m\n\u001b[1;32m     60\u001b[0m \u001b[39m\"\"\"\u001b[39;00m\n\u001b[1;32m     61\u001b[0m x \u001b[39m=\u001b[39m x_in\u001b[39m.\u001b[39mtranspose(\u001b[39m1\u001b[39m,\u001b[39m3\u001b[39m)\n\u001b[0;32m---> 63\u001b[0m dx \u001b[39m=\u001b[39m \u001b[39mself\u001b[39;49m\u001b[39m.\u001b[39;49mperceive(x)\n\u001b[1;32m     64\u001b[0m dx \u001b[39m=\u001b[39m dx\u001b[39m.\u001b[39mtranspose(\u001b[39m1\u001b[39m,\u001b[39m3\u001b[39m)\n\u001b[1;32m     65\u001b[0m dx \u001b[39m=\u001b[39m \u001b[39mself\u001b[39m\u001b[39m.\u001b[39mfc0(dx)\n",
      "File \u001b[0;32m~/Documents/GitHub/NCA/src/models/Model_BackboneNCA.py:27\u001b[0m, in \u001b[0;36mBackboneNCA.perceive\u001b[0;34m(self, x)\u001b[0m\n\u001b[1;32m     22\u001b[0m \u001b[39mr\u001b[39m\u001b[39m\"\"\"Perceptive function, combines 2 conv outputs with the identity of the cell\u001b[39;00m\n\u001b[1;32m     23\u001b[0m \u001b[39m    #Args:\u001b[39;00m\n\u001b[1;32m     24\u001b[0m \u001b[39m        x: image\u001b[39;00m\n\u001b[1;32m     25\u001b[0m \u001b[39m\"\"\"\u001b[39;00m\n\u001b[1;32m     26\u001b[0m y1 \u001b[39m=\u001b[39m \u001b[39mself\u001b[39m\u001b[39m.\u001b[39mp0(x)\n\u001b[0;32m---> 27\u001b[0m y2 \u001b[39m=\u001b[39m \u001b[39mself\u001b[39;49m\u001b[39m.\u001b[39;49mp1(x)\n\u001b[1;32m     28\u001b[0m y \u001b[39m=\u001b[39m torch\u001b[39m.\u001b[39mcat((x,y1,y2),\u001b[39m1\u001b[39m)\n\u001b[1;32m     29\u001b[0m \u001b[39mreturn\u001b[39;00m y\n",
      "File \u001b[0;32m~/anaconda3/envs/NCA/lib/python3.8/site-packages/torch/nn/modules/module.py:1130\u001b[0m, in \u001b[0;36mModule._call_impl\u001b[0;34m(self, *input, **kwargs)\u001b[0m\n\u001b[1;32m   1126\u001b[0m \u001b[39m# If we don't have any hooks, we want to skip the rest of the logic in\u001b[39;00m\n\u001b[1;32m   1127\u001b[0m \u001b[39m# this function, and just call forward.\u001b[39;00m\n\u001b[1;32m   1128\u001b[0m \u001b[39mif\u001b[39;00m \u001b[39mnot\u001b[39;00m (\u001b[39mself\u001b[39m\u001b[39m.\u001b[39m_backward_hooks \u001b[39mor\u001b[39;00m \u001b[39mself\u001b[39m\u001b[39m.\u001b[39m_forward_hooks \u001b[39mor\u001b[39;00m \u001b[39mself\u001b[39m\u001b[39m.\u001b[39m_forward_pre_hooks \u001b[39mor\u001b[39;00m _global_backward_hooks\n\u001b[1;32m   1129\u001b[0m         \u001b[39mor\u001b[39;00m _global_forward_hooks \u001b[39mor\u001b[39;00m _global_forward_pre_hooks):\n\u001b[0;32m-> 1130\u001b[0m     \u001b[39mreturn\u001b[39;00m forward_call(\u001b[39m*\u001b[39;49m\u001b[39minput\u001b[39;49m, \u001b[39m*\u001b[39;49m\u001b[39m*\u001b[39;49mkwargs)\n\u001b[1;32m   1131\u001b[0m \u001b[39m# Do not call functions when jit is used\u001b[39;00m\n\u001b[1;32m   1132\u001b[0m full_backward_hooks, non_full_backward_hooks \u001b[39m=\u001b[39m [], []\n",
      "File \u001b[0;32m~/anaconda3/envs/NCA/lib/python3.8/site-packages/torch/nn/modules/conv.py:457\u001b[0m, in \u001b[0;36mConv2d.forward\u001b[0;34m(self, input)\u001b[0m\n\u001b[1;32m    456\u001b[0m \u001b[39mdef\u001b[39;00m \u001b[39mforward\u001b[39m(\u001b[39mself\u001b[39m, \u001b[39minput\u001b[39m: Tensor) \u001b[39m-\u001b[39m\u001b[39m>\u001b[39m Tensor:\n\u001b[0;32m--> 457\u001b[0m     \u001b[39mreturn\u001b[39;00m \u001b[39mself\u001b[39;49m\u001b[39m.\u001b[39;49m_conv_forward(\u001b[39minput\u001b[39;49m, \u001b[39mself\u001b[39;49m\u001b[39m.\u001b[39;49mweight, \u001b[39mself\u001b[39;49m\u001b[39m.\u001b[39;49mbias)\n",
      "File \u001b[0;32m~/anaconda3/envs/NCA/lib/python3.8/site-packages/torch/nn/modules/conv.py:450\u001b[0m, in \u001b[0;36mConv2d._conv_forward\u001b[0;34m(self, input, weight, bias)\u001b[0m\n\u001b[1;32m    448\u001b[0m \u001b[39mdef\u001b[39;00m \u001b[39m_conv_forward\u001b[39m(\u001b[39mself\u001b[39m, \u001b[39minput\u001b[39m: Tensor, weight: Tensor, bias: Optional[Tensor]):\n\u001b[1;32m    449\u001b[0m     \u001b[39mif\u001b[39;00m \u001b[39mself\u001b[39m\u001b[39m.\u001b[39mpadding_mode \u001b[39m!=\u001b[39m \u001b[39m'\u001b[39m\u001b[39mzeros\u001b[39m\u001b[39m'\u001b[39m:\n\u001b[0;32m--> 450\u001b[0m         \u001b[39mreturn\u001b[39;00m F\u001b[39m.\u001b[39mconv2d(F\u001b[39m.\u001b[39;49mpad(\u001b[39minput\u001b[39;49m, \u001b[39mself\u001b[39;49m\u001b[39m.\u001b[39;49m_reversed_padding_repeated_twice, mode\u001b[39m=\u001b[39;49m\u001b[39mself\u001b[39;49m\u001b[39m.\u001b[39;49mpadding_mode),\n\u001b[1;32m    451\u001b[0m                         weight, bias, \u001b[39mself\u001b[39m\u001b[39m.\u001b[39mstride,\n\u001b[1;32m    452\u001b[0m                         _pair(\u001b[39m0\u001b[39m), \u001b[39mself\u001b[39m\u001b[39m.\u001b[39mdilation, \u001b[39mself\u001b[39m\u001b[39m.\u001b[39mgroups)\n\u001b[1;32m    453\u001b[0m     \u001b[39mreturn\u001b[39;00m F\u001b[39m.\u001b[39mconv2d(\u001b[39minput\u001b[39m, weight, bias, \u001b[39mself\u001b[39m\u001b[39m.\u001b[39mstride,\n\u001b[1;32m    454\u001b[0m                     \u001b[39mself\u001b[39m\u001b[39m.\u001b[39mpadding, \u001b[39mself\u001b[39m\u001b[39m.\u001b[39mdilation, \u001b[39mself\u001b[39m\u001b[39m.\u001b[39mgroups)\n",
      "\u001b[0;31mRuntimeError\u001b[0m: CUDA out of memory. Tried to allocate 10.00 MiB (GPU 0; 23.69 GiB total capacity; 5.97 GiB already allocated; 7.00 MiB free; 6.47 GiB reserved in total by PyTorch) If reserved memory is >> allocated memory try setting max_split_size_mb to avoid fragmentation.  See documentation for Memory Management and PYTORCH_CUDA_ALLOC_CONF"
     ]
    }
   ],
   "source": [
    "agent.train(data_loader, loss_function)"
   ]
  },
  {
   "attachments": {},
   "cell_type": "markdown",
   "metadata": {},
   "source": [
    "## _5. Evaluate test data_"
   ]
  },
  {
   "cell_type": "code",
   "execution_count": null,
   "metadata": {},
   "outputs": [],
   "source": [
    "agent.getAverageDiceScore()"
   ]
  }
 ],
 "metadata": {
  "kernelspec": {
   "display_name": "NCA",
   "language": "python",
   "name": "python3"
  },
  "language_info": {
   "codemirror_mode": {
    "name": "ipython",
    "version": 3
   },
   "file_extension": ".py",
   "mimetype": "text/x-python",
   "name": "python",
   "nbconvert_exporter": "python",
   "pygments_lexer": "ipython3",
   "version": "3.8.13"
  },
  "orig_nbformat": 4,
  "vscode": {
   "interpreter": {
    "hash": "c6635efb78202fbdfae87e948587324e55e71e265e0cd827d1e5c05e66be9040"
   }
  }
 },
 "nbformat": 4,
 "nbformat_minor": 2
}
