{
 "cells": [
  {
   "attachments": {},
   "cell_type": "markdown",
   "metadata": {},
   "source": [
    "# Med-NCA: Robust and Lightweight Segmentation with Neural Cellular Automata \n",
    "### John Kalkhof, Camila González, Anirban Mukhopadhyay\n",
    "__https://arxiv.org/pdf/2302.03473.pdf__\n",
    "\n",
    "\n",
    "\n",
    "***"
   ]
  },
  {
   "attachments": {},
   "cell_type": "markdown",
   "metadata": {},
   "source": [
    "## __The Backbone Model__\n",
    "<div>\n",
    "<img src=\"src/images/model_MedNCA.png\" width=\"600\"/>\n",
    "</div>"
   ]
  },
  {
   "attachments": {},
   "cell_type": "markdown",
   "metadata": {},
   "source": [
    "## _1. Imports_"
   ]
  },
  {
   "cell_type": "code",
   "execution_count": 1,
   "metadata": {},
   "outputs": [
    {
     "ename": "TypeError",
     "evalue": "unsupported operand type(s) for |: 'type' and 'type'",
     "output_type": "error",
     "traceback": [
      "\u001b[0;31m---------------------------------------------------------------------------\u001b[0m",
      "\u001b[0;31mTypeError\u001b[0m                                 Traceback (most recent call last)",
      "\u001b[1;32m/home/jkalkhof_locale/Documents/GitHub/NCA/train_Med_NCA.ipynb Cell 4\u001b[0m in \u001b[0;36m<cell line: 2>\u001b[0;34m()\u001b[0m\n\u001b[1;32m      <a href='vscode-notebook-cell:/home/jkalkhof_locale/Documents/GitHub/NCA/train_Med_NCA.ipynb#W3sZmlsZQ%3D%3D?line=0'>1</a>\u001b[0m \u001b[39mimport\u001b[39;00m \u001b[39mtorch\u001b[39;00m\n\u001b[0;32m----> <a href='vscode-notebook-cell:/home/jkalkhof_locale/Documents/GitHub/NCA/train_Med_NCA.ipynb#W3sZmlsZQ%3D%3D?line=1'>2</a>\u001b[0m \u001b[39mfrom\u001b[39;00m \u001b[39msrc\u001b[39;00m\u001b[39m.\u001b[39;00m\u001b[39mdatasets\u001b[39;00m\u001b[39m.\u001b[39;00m\u001b[39mNii_Gz_Dataset_3D\u001b[39;00m \u001b[39mimport\u001b[39;00m Dataset_NiiGz_3D\n\u001b[1;32m      <a href='vscode-notebook-cell:/home/jkalkhof_locale/Documents/GitHub/NCA/train_Med_NCA.ipynb#W3sZmlsZQ%3D%3D?line=2'>3</a>\u001b[0m \u001b[39mfrom\u001b[39;00m \u001b[39msrc\u001b[39;00m\u001b[39m.\u001b[39;00m\u001b[39mmodels\u001b[39;00m\u001b[39m.\u001b[39;00m\u001b[39mModel_BackboneNCA\u001b[39;00m \u001b[39mimport\u001b[39;00m BackboneNCA\n\u001b[1;32m      <a href='vscode-notebook-cell:/home/jkalkhof_locale/Documents/GitHub/NCA/train_Med_NCA.ipynb#W3sZmlsZQ%3D%3D?line=3'>4</a>\u001b[0m \u001b[39mfrom\u001b[39;00m \u001b[39msrc\u001b[39;00m\u001b[39m.\u001b[39;00m\u001b[39mlosses\u001b[39;00m\u001b[39m.\u001b[39;00m\u001b[39mLossFunctions\u001b[39;00m \u001b[39mimport\u001b[39;00m DiceBCELoss\n",
      "File \u001b[0;32m~/Documents/GitHub/NCA/src/datasets/Nii_Gz_Dataset_3D.py:1\u001b[0m, in \u001b[0;36m<module>\u001b[0;34m\u001b[0m\n\u001b[0;32m----> 1\u001b[0m \u001b[39mfrom\u001b[39;00m \u001b[39msrc\u001b[39;00m\u001b[39m.\u001b[39;00m\u001b[39mdatasets\u001b[39;00m\u001b[39m.\u001b[39;00m\u001b[39mDataset_3D\u001b[39;00m \u001b[39mimport\u001b[39;00m Dataset_3D\n\u001b[1;32m      2\u001b[0m \u001b[39mimport\u001b[39;00m \u001b[39mnibabel\u001b[39;00m \u001b[39mas\u001b[39;00m \u001b[39mnib\u001b[39;00m\n\u001b[1;32m      3\u001b[0m \u001b[39mimport\u001b[39;00m \u001b[39mos\u001b[39;00m\n",
      "File \u001b[0;32m~/Documents/GitHub/NCA/src/datasets/Dataset_3D.py:1\u001b[0m, in \u001b[0;36m<module>\u001b[0;34m\u001b[0m\n\u001b[0;32m----> 1\u001b[0m \u001b[39mfrom\u001b[39;00m \u001b[39msrc\u001b[39;00m\u001b[39m.\u001b[39;00m\u001b[39mdatasets\u001b[39;00m\u001b[39m.\u001b[39;00m\u001b[39mDataset_Base\u001b[39;00m \u001b[39mimport\u001b[39;00m Dataset_Base\n\u001b[1;32m      2\u001b[0m \u001b[39mimport\u001b[39;00m \u001b[39mcv2\u001b[39;00m\n\u001b[1;32m      3\u001b[0m \u001b[39mimport\u001b[39;00m \u001b[39mnumpy\u001b[39;00m \u001b[39mas\u001b[39;00m \u001b[39mnp\u001b[39;00m\n",
      "File \u001b[0;32m~/Documents/GitHub/NCA/src/datasets/Dataset_Base.py:2\u001b[0m, in \u001b[0;36m<module>\u001b[0;34m\u001b[0m\n\u001b[1;32m      1\u001b[0m \u001b[39mfrom\u001b[39;00m \u001b[39mtorch\u001b[39;00m\u001b[39m.\u001b[39;00m\u001b[39mutils\u001b[39;00m\u001b[39m.\u001b[39;00m\u001b[39mdata\u001b[39;00m \u001b[39mimport\u001b[39;00m Dataset\n\u001b[0;32m----> 2\u001b[0m \u001b[39mfrom\u001b[39;00m \u001b[39msrc\u001b[39;00m\u001b[39m.\u001b[39;00m\u001b[39mdatasets\u001b[39;00m\u001b[39m.\u001b[39;00m\u001b[39mData_Instance\u001b[39;00m \u001b[39mimport\u001b[39;00m Data_Container\n\u001b[1;32m      3\u001b[0m \u001b[39mfrom\u001b[39;00m \u001b[39msrc\u001b[39;00m\u001b[39m.\u001b[39;00m\u001b[39mutils\u001b[39;00m\u001b[39m.\u001b[39;00m\u001b[39mExperiment\u001b[39;00m \u001b[39mimport\u001b[39;00m Experiment\n\u001b[1;32m      5\u001b[0m \u001b[39mclass\u001b[39;00m \u001b[39mDataset_Base\u001b[39;00m(Dataset):\n",
      "File \u001b[0;32m~/Documents/GitHub/NCA/src/datasets/Data_Instance.py:3\u001b[0m, in \u001b[0;36m<module>\u001b[0;34m\u001b[0m\n\u001b[0;32m----> 3\u001b[0m \u001b[39mclass\u001b[39;00m \u001b[39mData_Container\u001b[39;00m():\n\u001b[1;32m      4\u001b[0m     \u001b[39mr\u001b[39m\u001b[39m\"\"\"The data container stores all the data after it has been loaded and preprocessed, so that this \u001b[39;00m\n\u001b[1;32m      5\u001b[0m \u001b[39m        only needs to be done once.\u001b[39;00m\n\u001b[1;32m      6\u001b[0m \u001b[39m    \"\"\"\u001b[39;00m\n\u001b[1;32m      8\u001b[0m     \u001b[39mdef\u001b[39;00m \u001b[39m__init__\u001b[39m(\u001b[39mself\u001b[39m) \u001b[39m-\u001b[39m\u001b[39m>\u001b[39m \u001b[39mNone\u001b[39;00m:\n",
      "File \u001b[0;32m~/Documents/GitHub/NCA/src/datasets/Data_Instance.py:11\u001b[0m, in \u001b[0;36mData_Container\u001b[0;34m()\u001b[0m\n\u001b[1;32m      8\u001b[0m \u001b[39mdef\u001b[39;00m \u001b[39m__init__\u001b[39m(\u001b[39mself\u001b[39m) \u001b[39m-\u001b[39m\u001b[39m>\u001b[39m \u001b[39mNone\u001b[39;00m:\n\u001b[1;32m      9\u001b[0m     \u001b[39mself\u001b[39m\u001b[39m.\u001b[39mdata \u001b[39m=\u001b[39m {}\n\u001b[0;32m---> 11\u001b[0m \u001b[39mdef\u001b[39;00m \u001b[39mget_data\u001b[39m(\u001b[39mself\u001b[39m, key: \u001b[39mstr\u001b[39m) \u001b[39m-\u001b[39m\u001b[39m>\u001b[39m \u001b[39mtuple\u001b[39;49m \u001b[39m|\u001b[39;49m \u001b[39mbool\u001b[39;49m:\n\u001b[1;32m     12\u001b[0m     \u001b[39mr\u001b[39m\u001b[39m\"\"\"Try to get data that has already been processed\u001b[39;00m\n\u001b[1;32m     13\u001b[0m \u001b[39m        #Args\u001b[39;00m\n\u001b[1;32m     14\u001b[0m \u001b[39m            key: The key of the data\u001b[39;00m\n\u001b[1;32m     15\u001b[0m \u001b[39m            data: The data to be loaded\u001b[39;00m\n\u001b[1;32m     16\u001b[0m \u001b[39m    \"\"\"\u001b[39;00m\n\u001b[1;32m     17\u001b[0m     \u001b[39mif\u001b[39;00m key \u001b[39min\u001b[39;00m \u001b[39mself\u001b[39m\u001b[39m.\u001b[39mdata:\n",
      "\u001b[0;31mTypeError\u001b[0m: unsupported operand type(s) for |: 'type' and 'type'"
     ]
    }
   ],
   "source": [
    "import torch\n",
    "from src.datasets.Nii_Gz_Dataset_3D import Dataset_NiiGz_3D\n",
    "from src.models.Model_BackboneNCA import BackboneNCA\n",
    "from src.losses.LossFunctions import DiceBCELoss\n",
    "from src.utils.Experiment import Experiment\n",
    "from src.agents.Agent_Med_NCA import Agent_Med_NCA"
   ]
  },
  {
   "attachments": {},
   "cell_type": "markdown",
   "metadata": {},
   "source": [
    "## _2. Configure experiment_\n",
    "- __AutoReload__\n",
    "    - If an experiment already exists in _model\\_path_ the config will __always__ be overwritten with the existing one\n",
    "    - Additionally if the model has been saved previously, this state will be reloaded\n",
    "- Download _prostate_ data from 'http://medicaldecathlon.com/' and adapt 'img_path' and 'label_path'"
   ]
  },
  {
   "cell_type": "code",
   "execution_count": null,
   "metadata": {},
   "outputs": [],
   "source": [
    "config = [{\n",
    "    'img_path': r\"/home/jkalkhof_locale/Documents/Data/Task04_Hippocampus/train/imagesTr/\",\n",
    "    'label_path': r\"/home/jkalkhof_locale/Documents/Data/Task04_Hippocampus/train/labelsTr/\",\n",
    "    'name': r'Med_NCA_Run17',\n",
    "    'device':\"cuda:0\",\n",
    "    'unlock_CPU': True,\n",
    "    # Optimizer\n",
    "    'lr': 16e-4,\n",
    "    'lr_gamma': 0.9999,\n",
    "    'betas': (0.5, 0.5),\n",
    "    # Training\n",
    "    'save_interval': 1,\n",
    "    'evaluate_interval': 1,\n",
    "    'n_epoch': 1000,\n",
    "    'batch_size': 20,\n",
    "    # Model\n",
    "    'channel_n': 32,        # Number of CA state channels\n",
    "    'inference_steps': 64,\n",
    "    'cell_fire_rate': 0.5,\n",
    "    'input_channels': 1,\n",
    "    'output_channels': 1,\n",
    "    'hidden_size': 128,\n",
    "    'train_model':1,\n",
    "    # Data\n",
    "    'input_size': [(16, 16), (64, 64)],\n",
    "    'data_split': [0.7, 0, 0.3], \n",
    "}\n",
    "]"
   ]
  },
  {
   "attachments": {},
   "cell_type": "markdown",
   "metadata": {},
   "source": [
    "## _3. Choose architecture, dataset and training agent_\n",
    "\n",
    "- _Dataset\\_Nii\\_Gz\\_3D_ loads 3D files. If you pass a _slice_ it will be split along the according axis."
   ]
  },
  {
   "cell_type": "code",
   "execution_count": null,
   "metadata": {},
   "outputs": [],
   "source": [
    "dataset = Dataset_NiiGz_3D(slice=2)\n",
    "device = torch.device(config[0]['device'])\n",
    "ca1 = BackboneNCA(config[0]['channel_n'], config[0]['cell_fire_rate'], device, hidden_size=config[0]['hidden_size'], input_channels=config[0]['input_channels']).to(device)\n",
    "ca2 = BackboneNCA(config[0]['channel_n'], config[0]['cell_fire_rate'], device, hidden_size=config[0]['hidden_size'], input_channels=config[0]['input_channels']).to(device)\n",
    "ca = [ca1, ca2]\n",
    "agent = Agent_Med_NCA(ca)\n",
    "exp = Experiment(config, dataset, ca, agent)\n",
    "dataset.set_experiment(exp)\n",
    "exp.set_model_state('train')\n",
    "data_loader = torch.utils.data.DataLoader(dataset, shuffle=True, batch_size=exp.get_from_config('batch_size'))\n",
    "\n",
    "loss_function = DiceBCELoss() "
   ]
  },
  {
   "attachments": {},
   "cell_type": "markdown",
   "metadata": {},
   "source": [
    "## _4. Run training_"
   ]
  },
  {
   "cell_type": "code",
   "execution_count": null,
   "metadata": {},
   "outputs": [],
   "source": [
    "agent.train(data_loader, loss_function)"
   ]
  },
  {
   "attachments": {},
   "cell_type": "markdown",
   "metadata": {},
   "source": [
    "## _5. Evaluate test data_"
   ]
  },
  {
   "cell_type": "code",
   "execution_count": null,
   "metadata": {},
   "outputs": [],
   "source": [
    "agent.getAverageDiceScore()"
   ]
  }
 ],
 "metadata": {
  "kernelspec": {
   "display_name": "NCA",
   "language": "python",
   "name": "python3"
  },
  "language_info": {
   "codemirror_mode": {
    "name": "ipython",
    "version": 3
   },
   "file_extension": ".py",
   "mimetype": "text/x-python",
   "name": "python",
   "nbconvert_exporter": "python",
   "pygments_lexer": "ipython3",
   "version": "3.8.13"
  },
  "orig_nbformat": 4,
  "vscode": {
   "interpreter": {
    "hash": "c6635efb78202fbdfae87e948587324e55e71e265e0cd827d1e5c05e66be9040"
   }
  }
 },
 "nbformat": 4,
 "nbformat_minor": 2
}
