{
 "cells": [
  {
   "cell_type": "code",
   "execution_count": 1,
   "metadata": {},
   "outputs": [
    {
     "name": "stderr",
     "output_type": "stream",
     "text": [
      "/home/nlemke/remote/miniconda3/envs/nca3/lib/python3.10/site-packages/tqdm/auto.py:21: TqdmWarning: IProgress not found. Please update jupyter and ipywidgets. See https://ipywidgets.readthedocs.io/en/stable/user_install.html\n",
      "  from .autonotebook import tqdm as notebook_tqdm\n",
      "/home/nlemke/remote/miniconda3/envs/nca3/lib/python3.10/site-packages/transformers/utils/generic.py:441: UserWarning: torch.utils._pytree._register_pytree_node is deprecated. Please use torch.utils._pytree.register_pytree_node instead.\n",
      "  _torch_pytree._register_pytree_node(\n"
     ]
    }
   ],
   "source": [
    "from src.models.Model_OctreeNCA_3d_patching2 import OctreeNCA3DPatch2\n",
    "import torch"
   ]
  },
  {
   "cell_type": "code",
   "execution_count": 2,
   "metadata": {},
   "outputs": [],
   "source": [
    "config ={\n",
    "    'model.train.loss_weighted_patching': False,\n",
    "    'model.train.patch_sizes': [None] * 2,\n",
    "    'model.channel_n': 16,\n",
    "    'model.input_channels': 1,\n",
    "    'model.output_channels': 1,\n",
    "    'experiment.device': \"cuda\",\n",
    "    'model.fire_rate': 0.5,\n",
    "    'model.octree.res_and_steps': [[[40,40,4], 5], [[10,10,1], 20]],\n",
    "    'model.octree.separate_models': True,\n",
    "    'model.kernel_size': [3] * 2,\n",
    "    'performance.compile': True,\n",
    "    'model.batchnorm_track_running_stats': False,\n",
    "    'model.hidden_size': 64,\n",
    "    'model.vitca': False,\n",
    "\n",
    "    'performance.inplace_operations': True,\n",
    "}\n",
    "\n",
    "\n",
    "model = OctreeNCA3DPatch2(config)\n",
    "\n",
    "adam = torch.optim.Adam(model.parameters(), lr=1e-3)    "
   ]
  },
  {
   "cell_type": "code",
   "execution_count": null,
   "metadata": {},
   "outputs": [],
   "source": []
  }
 ],
 "metadata": {
  "kernelspec": {
   "display_name": "Python 3",
   "language": "python",
   "name": "python3"
  },
  "language_info": {
   "codemirror_mode": {
    "name": "ipython",
    "version": 3
   },
   "file_extension": ".py",
   "mimetype": "text/x-python",
   "name": "python",
   "nbconvert_exporter": "python",
   "pygments_lexer": "ipython3",
   "version": "3.10.14"
  }
 },
 "nbformat": 4,
 "nbformat_minor": 2
}
