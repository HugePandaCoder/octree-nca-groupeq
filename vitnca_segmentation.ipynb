{
 "cells": [
  {
   "cell_type": "code",
   "execution_count": null,
   "metadata": {},
   "outputs": [],
   "source": [
    "import imageio, json, os, torch, einops, math, tqdm\n",
    "import numpy as np\n",
    "import torch.nn.functional as F\n",
    "import cv2\n",
    "import matplotlib.pyplot as plt\n",
    "\n",
    "from src.datasets.Dataset_CholecSeg_preprocessed import Dataset_CholecSeg_preprocessed\n",
    "from src.utils.BaselineConfigs import EXP_OctreeNCA3D\n",
    "\n",
    "torch.set_grad_enabled(False)\n",
    "from src.datasets.Nii_Gz_Dataset_3D import Dataset_NiiGz_3D\n",
    "from src.models.Model_OctreeNCA_3d_patching2 import OctreeNCA3DPatch2\n",
    "from src.utils.BaselineConfigs import EXP_OctreeNCA3D_superres"
   ]
  },
  {
   "cell_type": "code",
   "execution_count": null,
   "metadata": {},
   "outputs": [],
   "source": [
    "model_path = \"/local/scratch/clmn1/octree_study/Experiments/prostate_vitca_6_OctreeNCASuperresolution\"\n",
    "with open(os.path.join(model_path, \"config.json\")) as f:\n",
    "    config = json.load(f)\n",
    "\n",
    "config.pop(\"experiment.run_hash\")\n",
    "\n",
    "exp = EXP_OctreeNCA3D_superres().createExperiment(config, detail_config={}, dataset_class=Dataset_NiiGz_3D, dataset_args={})\n",
    "\n",
    "model: OctreeNCA3DPatch2 = exp.model\n",
    "assert isinstance(model, OctreeNCA3DPatch2)\n",
    "model.eval()"
   ]
  },
  {
   "cell_type": "code",
   "execution_count": null,
   "metadata": {},
   "outputs": [],
   "source": [
    "from src.utils.patchwise_inference import patchwise_inference3d\n",
    "\n",
    "\n",
    "out = patchwise_inference3d(torch.randn(1, 320,320,24,1), model, [[80, 80, 6], [80, 80, 6], None, None, None])"
   ]
  }
 ],
 "metadata": {
  "kernelspec": {
   "display_name": "Python 3",
   "language": "python",
   "name": "python3"
  },
  "language_info": {
   "codemirror_mode": {
    "name": "ipython",
    "version": 3
   },
   "file_extension": ".py",
   "mimetype": "text/x-python",
   "name": "python",
   "nbconvert_exporter": "python",
   "pygments_lexer": "ipython3",
   "version": "3.10.14"
  }
 },
 "nbformat": 4,
 "nbformat_minor": 2
}
