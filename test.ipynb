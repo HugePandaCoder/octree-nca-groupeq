{
 "cells": [
  {
   "cell_type": "code",
   "execution_count": 1,
   "metadata": {},
   "outputs": [],
   "source": [
    "import numpy as np\n",
    "import torch"
   ]
  },
  {
   "cell_type": "code",
   "execution_count": 2,
   "metadata": {},
   "outputs": [
    {
     "data": {
      "text/plain": [
       "array([[[ 1,  2,  3],\n",
       "        [ 4,  5,  6]],\n",
       "\n",
       "       [[ 1,  2,  3],\n",
       "        [ 4,  5,  6]],\n",
       "\n",
       "       [[10, 20, 30],\n",
       "        [40, 50, 60]],\n",
       "\n",
       "       [[ 0,  2,  3],\n",
       "        [ 3,  5,  6]]])"
      ]
     },
     "execution_count": 2,
     "metadata": {},
     "output_type": "execute_result"
    }
   ],
   "source": [
    "current_patch = np.array([[[1,2,3], [4,5,6]],\n",
    "                          [[1,2,3], [4,5,6]],\n",
    "                          [[10,20,30], [40,50,60]],\n",
    "                          [[0,2,3], [3,5,6]],\n",
    "                          ])# shape: B, Min, Max\n",
    "scale_factor = np.array([2,2,3])\n",
    "current_patch"
   ]
  },
  {
   "cell_type": "code",
   "execution_count": 3,
   "metadata": {},
   "outputs": [
    {
     "data": {
      "text/plain": [
       "array([[[  2,   4,   9],\n",
       "        [  8,  10,  18]],\n",
       "\n",
       "       [[  2,   4,   9],\n",
       "        [  8,  10,  18]],\n",
       "\n",
       "       [[ 20,  40,  90],\n",
       "        [ 80, 100, 180]],\n",
       "\n",
       "       [[  0,   4,   9],\n",
       "        [  6,  10,  18]]])"
      ]
     },
     "execution_count": 3,
     "metadata": {},
     "output_type": "execute_result"
    }
   ],
   "source": [
    "current_patch * scale_factor"
   ]
  },
  {
   "cell_type": "code",
   "execution_count": 4,
   "metadata": {},
   "outputs": [],
   "source": [
    "current_patch[0] = np.array([[1,2,3], [4,5,6]])"
   ]
  },
  {
   "cell_type": "code",
   "execution_count": 9,
   "metadata": {},
   "outputs": [
    {
     "data": {
      "text/plain": [
       "(None, None, None)"
      ]
     },
     "execution_count": 9,
     "metadata": {},
     "output_type": "execute_result"
    }
   ],
   "source": [
    "temp = torch.tensor(current_patch) \n",
    "temp.names = ['B', 'Min', 'Max']\n",
    "temp.names = [None, None, None]\n",
    "temp.permute(1,2,0).shape\n",
    "temp.names"
   ]
  }
 ],
 "metadata": {
  "kernelspec": {
   "display_name": "Python 3",
   "language": "python",
   "name": "python3"
  },
  "language_info": {
   "codemirror_mode": {
    "name": "ipython",
    "version": 3
   },
   "file_extension": ".py",
   "mimetype": "text/x-python",
   "name": "python",
   "nbconvert_exporter": "python",
   "pygments_lexer": "ipython3",
   "version": "3.10.14"
  }
 },
 "nbformat": 4,
 "nbformat_minor": 2
}
