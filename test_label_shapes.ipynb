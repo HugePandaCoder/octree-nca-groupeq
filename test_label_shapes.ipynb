{
 "cells": [
  {
   "cell_type": "code",
   "execution_count": null,
   "metadata": {},
   "outputs": [],
   "source": [
    "import openslide, zarr, pickle as pkl\n",
    "import matplotlib.pyplot as plt\n",
    "import numpy as np\n",
    "import PIL, PIL.Image as Image\n",
    "PIL.Image.MAX_IMAGE_PIXELS = None"
   ]
  },
  {
   "cell_type": "code",
   "execution_count": null,
   "metadata": {},
   "outputs": [],
   "source": [
    "data_split = pkl.load(open('/local/scratch/clmn1/octree_study/Experiments/aggc_22_OctreeNCA/data_split.dt', 'rb'))"
   ]
  },
  {
   "cell_type": "code",
   "execution_count": null,
   "metadata": {},
   "outputs": [],
   "source": [
    "data_split.images"
   ]
  },
  {
   "cell_type": "code",
   "execution_count": null,
   "metadata": {},
   "outputs": [],
   "source": [
    "img = openslide.OpenSlide(\"/local/scratch/AGGC/AGGC2022_train/Subset1_Train_image/Subset1_Train_19.tiff\")\n",
    "lbl = zarr.open(\"/local/scratch/clmn1/data/AGGC3/AGGC2022_train/Subset1_Train_annotations/Subset1_Train_19/Stroma_Mask.zarr\")\n",
    "print(img.level_dimensions[0])\n",
    "assert img.level_dimensions[0] == lbl.shape\n",
    "\n",
    "x, y = 14000, 30000\n",
    "patch_size = 8000\n",
    "\n",
    "img = img.read_region((y, x), 0, (patch_size, patch_size // 2))\n",
    "lbl = lbl[x:x+patch_size, y:y+patch_size // 2]"
   ]
  },
  {
   "cell_type": "code",
   "execution_count": null,
   "metadata": {},
   "outputs": [],
   "source": [
    "np.count_nonzero(lbl) / (patch_size*patch_size)"
   ]
  },
  {
   "cell_type": "code",
   "execution_count": null,
   "metadata": {},
   "outputs": [],
   "source": [
    "lbl = np.swapaxes(lbl, 0, 1)"
   ]
  },
  {
   "cell_type": "code",
   "execution_count": null,
   "metadata": {},
   "outputs": [],
   "source": [
    "plt.imshow(img)\n",
    "plt.imshow(lbl, alpha=0.5)"
   ]
  },
  {
   "cell_type": "code",
   "execution_count": null,
   "metadata": {},
   "outputs": [],
   "source": [
    "img = zarr.open(\"/local/scratch/clmn1/data/AGGC4/AGGC2022_train/Subset1_Train_image/Subset1_Train_61.zarr\")\n",
    "lbl = zarr.open(\"/local/scratch/clmn1/data/AGGC4/AGGC2022_train/Subset1_Train_annotations/Subset1_Train_61/Stroma_Mask.zarr\")\n",
    "\n",
    "x, y = 5300, 20000\n",
    "patch_size = 8000\n",
    "\n",
    "img = img[x:x+patch_size, y:y+patch_size]\n",
    "lbl = lbl[x:x+patch_size, y:y+patch_size]"
   ]
  },
  {
   "cell_type": "code",
   "execution_count": null,
   "metadata": {},
   "outputs": [],
   "source": [
    "img = zarr.open(\"/local/scratch/clmn1/data/AGGC4/AGGC2022_train/Subset1_Train_image/Subset1_Train_61.zarr\")\n",
    "for x in range(0, img.shape[0], patch_size):\n",
    "    for y in range(0, img.shape[1], patch_size):\n",
    "        lbl = zarr.open(\"/local/scratch/clmn1/data/AGGC4/AGGC2022_train/Subset1_Train_annotations/Subset1_Train_61/Stroma_Mask.zarr\")\n",
    "        lbl = lbl[x:x+patch_size, y:y+patch_size]\n",
    "        print(x,y, np.count_nonzero(lbl))"
   ]
  },
  {
   "cell_type": "code",
   "execution_count": null,
   "metadata": {},
   "outputs": [],
   "source": [
    "plt.imshow(img)\n",
    "plt.imshow(lbl, alpha=0.5)"
   ]
  },
  {
   "cell_type": "code",
   "execution_count": null,
   "metadata": {},
   "outputs": [],
   "source": [
    "img = Image.open(\"/local/scratch/AGGC/AGGC2022_train/Subset1_Train_image/Subset1_Train_96.tiff\")"
   ]
  },
  {
   "cell_type": "code",
   "execution_count": null,
   "metadata": {},
   "outputs": [],
   "source": [
    "img"
   ]
  },
  {
   "cell_type": "code",
   "execution_count": null,
   "metadata": {},
   "outputs": [],
   "source": [
    "import tifffile"
   ]
  },
  {
   "cell_type": "code",
   "execution_count": null,
   "metadata": {},
   "outputs": [],
   "source": [
    "img = Image.open(\"/local/scratch/BCSS/BCSS_TIF/masks/TCGA-A1-A0SK-DX1_xmin45749_ymin25055_MPP-0.2300.tif\")"
   ]
  },
  {
   "cell_type": "code",
   "execution_count": null,
   "metadata": {},
   "outputs": [],
   "source": [
    "np.unique(img, return_counts=True)"
   ]
  },
  {
   "cell_type": "code",
   "execution_count": null,
   "metadata": {},
   "outputs": [],
   "source": [
    "np.count_nonzero(img) / (img.shape[0]*img.shape[1])"
   ]
  },
  {
   "cell_type": "code",
   "execution_count": null,
   "metadata": {},
   "outputs": [],
   "source": []
  }
 ],
 "metadata": {
  "kernelspec": {
   "display_name": "Python 3",
   "language": "python",
   "name": "python3"
  },
  "language_info": {
   "codemirror_mode": {
    "name": "ipython",
    "version": 3
   },
   "file_extension": ".py",
   "mimetype": "text/x-python",
   "name": "python",
   "nbconvert_exporter": "python",
   "pygments_lexer": "ipython3",
   "version": "3.10.14"
  }
 },
 "nbformat": 4,
 "nbformat_minor": 2
}
