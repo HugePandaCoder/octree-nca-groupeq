{
 "cells": [
  {
   "cell_type": "code",
   "execution_count": 1,
   "metadata": {},
   "outputs": [],
   "source": [
    "import einops, numpy as np\n",
    "import torch, os, openslide\n",
    "import matplotlib.pyplot as plt\n",
    "from mpl_toolkits.axes_grid1.inset_locator import inset_axes"
   ]
  },
  {
   "cell_type": "code",
   "execution_count": 2,
   "metadata": {},
   "outputs": [],
   "source": [
    "#subject = \"14\" #6,22,42,27,28,41,10,14,39\n",
    "#subject, pos_x, pos_y = \"14\", 5000, 28000\n",
    "#subject, pos_x, pos_y = \"28\", 5000, 23000\n",
    "#subject, pos_x, pos_y = \"41\", 5000, 28000\n",
    "subject, pos_x, pos_y = \"22\", 5000, 18000\n",
    "\n",
    "size = (850*16, 850*16)\n",
    "if os.path.exists(f\"/local/scratch/PESO/peso_training/pds_{subject}_HE_training_mask_corrected.tif\"):\n",
    "    gt = openslide.open_slide(f\"/local/scratch/PESO/peso_training/pds_{subject}_HE_training_mask_corrected.tif\")\n",
    "else:\n",
    "    gt = openslide.open_slide(f\"/local/scratch/PESO/peso_training/pds_{subject}_HE_training_mask.tif\")\n",
    "gt = gt.read_region((int(pos_x * gt.level_downsamples[1]),\n",
    "                           int(pos_y * gt.level_downsamples[1])), 1, size)\n",
    "slide = openslide.open_slide(f\"/local/scratch/PESO/peso_training/pds_{subject}_HE.tif\")\n",
    "slide = slide.read_region((int(pos_x * slide.level_downsamples[1]),\n",
    "                           int(pos_y * slide.level_downsamples[1])), 1, size)\n",
    "gt = np.array(gt)[:,:,0]\n",
    "gt = gt == 2\n",
    "slide = np.array(slide)[:,:,:3]"
   ]
  },
  {
   "cell_type": "code",
   "execution_count": 3,
   "metadata": {},
   "outputs": [],
   "source": [
    "inset = {\n",
    "    \"14\": (6_000,6_000),\n",
    "    \"28\": (900,6_000 - 2880),\n",
    "    \"41\": (900 + 3500,6_000 + 2000),\n",
    "    \"22\": (900 + 3500 + 2*2880,6_000 + 2000 + 2880),\n",
    "}[subject]"
   ]
  },
  {
   "cell_type": "code",
   "execution_count": 4,
   "metadata": {},
   "outputs": [],
   "source": [
    "def dice(pred, gt):\n",
    "    intersection = np.logical_and(pred, gt).sum()\n",
    "    return 2 * intersection / (pred.sum() + gt.sum())"
   ]
  },
  {
   "cell_type": "code",
   "execution_count": 4,
   "metadata": {},
   "outputs": [],
   "source": [
    "oct_seg = np.load(\"/local/scratch/clmn1/octree_study_new/qualitative/inference2_peso_oct.npy\")"
   ]
  },
  {
   "cell_type": "code",
   "execution_count": 16,
   "metadata": {},
   "outputs": [],
   "source": [
    "unet_seg = np.load(\"/local/scratch/clmn1/octree_study_new/qualitative/patchwise_inference_peso_unet.npy\")"
   ]
  },
  {
   "cell_type": "code",
   "execution_count": null,
   "metadata": {},
   "outputs": [],
   "source": [
    "med_seg = np.load(\"/local/scratch/clmn1/octree_study_new/qualitative/patchwise_inference_peso_med.npy\")\n",
    "dice(med_seg, gt)"
   ]
  },
  {
   "cell_type": "code",
   "execution_count": null,
   "metadata": {},
   "outputs": [],
   "source": [
    "dice(med_seg, gt)"
   ]
  },
  {
   "cell_type": "code",
   "execution_count": null,
   "metadata": {},
   "outputs": [],
   "source": [
    "oct_seg.shape, unet_seg.shape"
   ]
  },
  {
   "cell_type": "code",
   "execution_count": null,
   "metadata": {},
   "outputs": [],
   "source": [
    "dice(oct_seg, gt), dice(unet_seg, gt)"
   ]
  },
  {
   "cell_type": "code",
   "execution_count": null,
   "metadata": {},
   "outputs": [],
   "source": [
    "plt.imshow(slide)\n",
    "unet_seg_w_alpha = np.repeat(unet_seg[:, :, None], 4, axis=2).astype(float)\n",
    "unet_seg_w_alpha[unet_seg == gt,:3] *= np.array([0, 1, 0]) #TP\n",
    "unet_seg_w_alpha[unet_seg != gt,:3] *= np.array([1, 0, 0]) #FP\n",
    "\n",
    "\n",
    "plt.imshow(unet_seg_w_alpha)\n",
    "PATCH_SIZE = (180*16, 180*16)\n",
    "for i in range(PATCH_SIZE[0], size[0], PATCH_SIZE[0]):\n",
    "    for j in range(PATCH_SIZE[1], size[1], PATCH_SIZE[1]):\n",
    "        plt.axhline(j, color='red')\n",
    "        plt.axvline(i, color='red')\n",
    "#plt.tick_params(axis='both', which='both', bottom=False, top=False, left=False, right=False, labelbottom=False, labelleft=False)\n",
    "plt.xticks([])\n",
    "plt.yticks([i*PATCH_SIZE[0]/4 for i  in range(5)])\n",
    "plt.gca().add_patch(plt.Rectangle(tuple(inset), 500, 500, fill=False, edgecolor='blue', lw=2))\n",
    "inset_ax = inset_axes(plt.gca(),\n",
    "                    width=\"30%\", # width = 30% of parent_bbox\n",
    "                    height=\"30%\", # height : 1 inch\n",
    "                    loc=3)\n",
    "inset_ax.imshow(slide[inset[0]:inset[0]+500, inset[1]:inset[1]+500])\n",
    "inset_ax.imshow(unet_seg_w_alpha[inset[0]:inset[0]+500, inset[1]:inset[1]+500])\n",
    "#inset_ax.tick_params(axis='both', which='both', bottom=False, top=False, left=False, right=False, labelbottom=False, labelleft=False)\n",
    "inset_ax.set_xticks([])\n",
    "inset_ax.set_yticks([0,250,500])\n",
    "\n",
    "plt.savefig(\"figures/qualitative/unet_peso.png\", bbox_inches='tight', pad_inches=0, dpi=300)"
   ]
  },
  {
   "cell_type": "code",
   "execution_count": 6,
   "metadata": {},
   "outputs": [],
   "source": [
    "def my_plot(seg, name, show_grid=False):\n",
    "    plt.imshow(slide)\n",
    "    seg_w_alpha = np.repeat(seg[:, :, None], 4, axis=2).astype(float)\n",
    "    seg_w_alpha[seg == gt,:3] *= np.array([0, 1, 0]) #TP\n",
    "    seg_w_alpha[seg != gt,:3] *= np.array([1, 0, 0]) #FP\n",
    "\n",
    "\n",
    "    plt.imshow(seg_w_alpha)\n",
    "    if show_grid == \"unet\":\n",
    "        PATCH_SIZE = (180*16, 180*16)\n",
    "    else:\n",
    "        assert show_grid == \"med\"\n",
    "        PATCH_SIZE = (330*16, 330*16)\n",
    "    if show_grid is not False:\n",
    "        for i in range(PATCH_SIZE[0], size[0], PATCH_SIZE[0]):\n",
    "            for j in range(PATCH_SIZE[1], size[1], PATCH_SIZE[1]):\n",
    "                plt.axhline(j, color='red')\n",
    "                plt.axvline(i, color='red')\n",
    "    plt.tick_params(axis='both', which='both', bottom=False, top=False, left=False, right=False, labelbottom=False, labelleft=False)\n",
    "    plt.gca().add_patch(plt.Rectangle(tuple(inset), 500, 500, fill=False, edgecolor='blue', lw=2))\n",
    "    inset_ax = inset_axes(plt.gca(),\n",
    "                        width=\"30%\", # width = 30% of parent_bbox\n",
    "                        height=\"30%\", # height : 1 inch\n",
    "                        loc=3)\n",
    "    inset_ax.imshow(slide[inset[1]:inset[1]+500, inset[0]:inset[0]+500])\n",
    "    inset_ax.imshow(seg_w_alpha[inset[1]:inset[1]+500, inset[0]:inset[0]+500])\n",
    "    inset_ax.tick_params(axis='both', which='both', bottom=False, top=False, left=False, right=False, labelbottom=False, labelleft=False)\n",
    "    return plt.savefig(f\"figures/qualitative/{name}.png\", bbox_inches='tight', pad_inches=0, dpi=300)"
   ]
  },
  {
   "cell_type": "code",
   "execution_count": null,
   "metadata": {},
   "outputs": [],
   "source": [
    "my_plot(unet_seg, f\"unet_peso{subject}\", show_grid='unet')"
   ]
  },
  {
   "cell_type": "code",
   "execution_count": null,
   "metadata": {},
   "outputs": [],
   "source": [
    "my_plot(gt, f\"gt_peso{subject}\")"
   ]
  },
  {
   "cell_type": "code",
   "execution_count": null,
   "metadata": {},
   "outputs": [],
   "source": [
    "my_plot(oct_seg, f\"oct_peso{subject}\")"
   ]
  },
  {
   "cell_type": "code",
   "execution_count": null,
   "metadata": {},
   "outputs": [],
   "source": [
    "my_plot(med_seg, f\"med_peso{subject}\", show_grid='med')"
   ]
  },
  {
   "cell_type": "code",
   "execution_count": null,
   "metadata": {},
   "outputs": [],
   "source": [
    "plt.imshow(slide)\n",
    "oct_seg_w_alpha = np.repeat(oct_seg[:, :, None], 4, axis=2).astype(float)\n",
    "oct_seg_w_alpha[oct_seg == gt,:3] *= np.array([0, 1, 0])\n",
    "oct_seg_w_alpha[oct_seg != gt,:3] *= np.array([1, 0, 0])\n",
    "\n",
    "\n",
    "plt.imshow(oct_seg_w_alpha)"
   ]
  }
 ],
 "metadata": {
  "kernelspec": {
   "display_name": "nca3",
   "language": "python",
   "name": "python3"
  },
  "language_info": {
   "codemirror_mode": {
    "name": "ipython",
    "version": 3
   },
   "file_extension": ".py",
   "mimetype": "text/x-python",
   "name": "python",
   "nbconvert_exporter": "python",
   "pygments_lexer": "ipython3",
   "version": "3.10.14"
  }
 },
 "nbformat": 4,
 "nbformat_minor": 2
}
