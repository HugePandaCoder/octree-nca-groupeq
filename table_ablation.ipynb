{
 "cells": [
  {
   "cell_type": "code",
   "execution_count": 28,
   "metadata": {},
   "outputs": [],
   "source": [
    "import pandas as pd, os, json\n",
    "import numpy as np"
   ]
  },
  {
   "cell_type": "code",
   "execution_count": 29,
   "metadata": {},
   "outputs": [],
   "source": [
    "ROOT_FOLDER = \"/local/scratch/clmn1/octree_study_new/Experiments\""
   ]
  },
  {
   "cell_type": "code",
   "execution_count": 30,
   "metadata": {},
   "outputs": [],
   "source": [
    "def get_results(task, norm, steps, alpha, model, batch, dice_weight, ema_decay):\n",
    "\n",
    "    if task == \"prostate\":\n",
    "        if ema_decay == 0.99:\n",
    "            path = os.path.join(ROOT_FOLDER, f\"{task}fAbl_{norm}_{steps}_{alpha}_{model}_{batch}_{dice_weight}_OctreeNCASegmentation\")\n",
    "        else:\n",
    "            path = os.path.join(ROOT_FOLDER, f\"{task}fAbl_{norm}_{steps}_{alpha}_{model}_{batch}_{dice_weight}_{ema_decay}_OctreeNCASegmentation\")\n",
    "    elif task == \"peso\":\n",
    "        path = os.path.join(ROOT_FOLDER, f\"{task}fAbl_{norm}_{steps}_{alpha}_{model}_{batch}_{dice_weight}_{ema_decay}_OctreeNCA2DSegmentation\")\n",
    "    elif task == \"cholec\":\n",
    "        #path = os.path.join(ROOT_FOLDER, f\"{task}fAbl_{norm}_{steps}_{alpha}_{model}_{batch}_{dice_weight}_{ema_decay}_OctreeNCASegmentation\")\n",
    "        path = os.path.join(ROOT_FOLDER, f\"{task}fFixAbl_{norm}_{steps}_{alpha}_{model}_{batch}_{dice_weight}_{ema_decay}_OctreeNCASegmentation\")\n",
    "        \n",
    "\n",
    "\n",
    "    mem_in_gb = json.load(open(os.path.join(path, \"mem_allocation.json\")))[\"byte\"] / 1000 / 1000 / 1000\n",
    "\n",
    "    if not os.path.exists(os.path.join(path, \"eval\", \"standard.csv\")):\n",
    "        return {\n",
    "            \"D\": None,\n",
    "            \"M\": mem_in_gb\n",
    "        }\n",
    "    seg_results = pd.read_csv(os.path.join(path, \"eval\", \"standard.csv\"), sep=\"\\t\")\n",
    "    \n",
    "    if task == 'cholec':\n",
    "        nan_template = pd.read_csv(f\"/local/scratch/clmn1/octree_study_new/Experiments/cholec_sam_Sam3DSegmentation/eval/standard.csv\", sep='\\t')\n",
    "        nan_template.set_index('Unnamed: 0', inplace=True)\n",
    "        seg_results.set_index('Unnamed: 0', inplace=True)\n",
    "        seg_results[nan_template.isna()] = np.nan\n",
    "\n",
    "\n",
    "    #mean_dice = seg_results.mean(numeric_only=True)[\"DiceScore/5\"]\n",
    "\n",
    "    mean_dice = seg_results.mean(numeric_only=True)\n",
    "    mean_dice = mean_dice.filter(like=\"DiceScore\").mean()\n",
    "\n",
    "    return{\n",
    "        \"D\": mean_dice,\n",
    "        \"M\": mem_in_gb\n",
    "    }"
   ]
  },
  {
   "cell_type": "code",
   "execution_count": 31,
   "metadata": {},
   "outputs": [],
   "source": [
    "def preprocess(x):\n",
    "    # find best 'D'\n",
    "    ds = [e[\"D\"] for e in x]\n",
    "    ds_sorted = [e[\"D\"] for e in x]\n",
    "    ds_sorted.sort(reverse=True)\n",
    "    best_d, sbest_d = ds_sorted[0], ds_sorted[1]\n",
    "    best_d_idx, sbest_d_idx = ds.index(best_d), ds.index(sbest_d)\n",
    "    \n",
    "    # find best 'M'\n",
    "    ms = [e[\"M\"] for e in x]\n",
    "    ms_sorted = [e[\"M\"] for e in x]\n",
    "    ms_sorted.sort()\n",
    "    best_m, sbest_m = ms_sorted[0], ms_sorted[1]\n",
    "    best_m_idx, sbest_m_idx = ms.index(best_m), ms.index(sbest_m)\n",
    "    if ms.count(best_m) > 1:\n",
    "        best_m_idx = None\n",
    "    if ms.count(sbest_m) > 1:\n",
    "        sbest_m_idx = None\n",
    "\n",
    "\n",
    "    out = []\n",
    "    for i, e in enumerate(x):\n",
    "        d = round(100 * e[\"D\"], 1)\n",
    "        m = round(e[\"M\"], 1)\n",
    "        if i == best_d_idx:\n",
    "            d = \"#best\" + f\"{d}\"\n",
    "        elif i == sbest_d_idx:\n",
    "            d = \"#sbest\" + f\"{d}\"\n",
    "        \n",
    "        if i == best_m_idx:\n",
    "            m = \"#best\" + f\"{m}\"\n",
    "        elif i == sbest_m_idx:\n",
    "            m = \"#sbest\" + f\"{m}\"\n",
    "        out.append({\n",
    "            \"ablation\": e[\"ablation\"],\n",
    "            \"D\": str(d),\n",
    "            \"M\": str(m),\n",
    "        })\n",
    "    return out"
   ]
  },
  {
   "cell_type": "code",
   "execution_count": 32,
   "metadata": {},
   "outputs": [],
   "source": [
    "def get_evaluations(task):\n",
    "    evaluations = []\n",
    "    norm = \"none\"\n",
    "    steps = 10\n",
    "    alpha = 1.0\n",
    "    model = 16\n",
    "    batch = 3\n",
    "    dice_weight = 1.0\n",
    "    ema_decay = 0.99\n",
    "\n",
    "    temp = []\n",
    "    for norm in [\"none\", \"batch\", \"group\"]:\n",
    "        res = get_results(task, norm, steps, alpha, model, batch, dice_weight, ema_decay)\n",
    "        res[\"ablation\"] = norm\n",
    "        temp.append(res)\n",
    "    evaluations.extend(preprocess(temp))\n",
    "    norm = \"none\"\n",
    "\n",
    "    temp = []\n",
    "    for steps in [5, 10, 20]:\n",
    "        res = get_results(task, norm, steps, alpha, model, batch, dice_weight, ema_decay)\n",
    "        res[\"ablation\"] = steps\n",
    "        temp.append(res)\n",
    "    evaluations.extend(preprocess(temp))\n",
    "    steps = 10\n",
    "\n",
    "    temp = []\n",
    "    for alpha in [1.0, 1.5, 2.0]:\n",
    "        res = get_results(task, norm, steps, alpha, model, batch, dice_weight, ema_decay)\n",
    "        res[\"ablation\"] = alpha\n",
    "        temp.append(res)\n",
    "    evaluations.extend(preprocess(temp))\n",
    "    alpha = 1.0\n",
    "\n",
    "    temp = []\n",
    "    for model in [12, 16, 20]:\n",
    "        res = get_results(task, norm, steps, alpha, model, batch, dice_weight, ema_decay)\n",
    "        res[\"ablation\"] = model\n",
    "        temp.append(res)\n",
    "    evaluations.extend(preprocess(temp))\n",
    "    model = 16\n",
    "\n",
    "    temp = []\n",
    "    for batch in [1, 3, 5]:\n",
    "        res = get_results(task, norm, steps, alpha, model, batch, dice_weight, ema_decay)\n",
    "        res[\"ablation\"] = batch\n",
    "        temp.append(res)\n",
    "    evaluations.extend(preprocess(temp))\n",
    "    batch = 3\n",
    "\n",
    "    temp = []\n",
    "    for dice_weight in [0.0, 1.0, 1.2, 1.5]:\n",
    "        res = get_results(task, norm, steps, alpha, model, batch, dice_weight, ema_decay)\n",
    "        res[\"ablation\"] = dice_weight\n",
    "        temp.append(res)\n",
    "    evaluations.extend(preprocess(temp))\n",
    "    dice_weight = 1.0\n",
    "\n",
    "    temp = []\n",
    "    for ema_decay in [0.0, 0.9, 0.99]:\n",
    "        res = get_results(task, norm, steps, alpha, model, batch, dice_weight, ema_decay)\n",
    "        res[\"ablation\"] = ema_decay\n",
    "        temp.append(res)\n",
    "    evaluations.extend(preprocess(temp))\n",
    "    ema_decay = 0.99\n",
    "    return pd.DataFrame(evaluations)"
   ]
  },
  {
   "cell_type": "code",
   "execution_count": 33,
   "metadata": {},
   "outputs": [],
   "source": [
    "#task = \"prostate\"\n",
    "#task = \"peso\"\n",
    "task = \"cholec\""
   ]
  },
  {
   "cell_type": "code",
   "execution_count": 34,
   "metadata": {},
   "outputs": [],
   "source": [
    "df_peso = get_evaluations(\"peso\")\n",
    "df_prostate = get_evaluations(\"prostate\")\n",
    "df_cholec = get_evaluations(\"cholec\")\n",
    "\n",
    "assert np.all(df_peso['ablation'] == df_prostate['ablation'])\n",
    "assert np.all(df_peso['ablation'] == df_cholec['ablation'])\n",
    "\n",
    "dfs = [df_peso, df_prostate, df_cholec]\n",
    "dfs = [df.drop(columns=[\"ablation\"]) for df in dfs]\n",
    "df = pd.concat(dfs, keys=[\"peso\", \"prostate\", \"cholec\"], axis=1)"
   ]
  },
  {
   "cell_type": "code",
   "execution_count": 35,
   "metadata": {},
   "outputs": [
    {
     "name": "stdout",
     "output_type": "stream",
     "text": [
      "          peso               prostate                 cholec           \n",
      "             D          M           D          M           D          M\n",
      "0   #sbest86.3   #best2.4   #best79.2   #best2.3        56.4   #best7.7\n",
      "1         84.5        3.5  #sbest78.1        3.4   #best63.7       10.8\n",
      "2    #best86.5        3.5        66.7        3.4  #sbest56.8       10.8\n",
      "3         85.6   #best1.4   #best80.0   #best1.4        55.3   #best4.5\n",
      "4   #sbest86.3  #sbest2.4        79.2  #sbest2.3  #sbest56.4  #sbest7.7\n",
      "5    #best86.6        4.6  #sbest79.8        4.5   #best58.5       14.0\n",
      "6   #sbest86.3        2.4        79.2   #best2.3   #best56.4   #best7.7\n",
      "7         86.2   #best2.4   #best82.3  #sbest2.4  #sbest55.1  #sbest7.7\n",
      "8    #best86.3  #sbest2.4  #sbest80.3        2.5        54.4        7.8\n",
      "9         85.8   #best1.8        76.3   #best1.8        53.0   #best6.1\n",
      "10  #sbest86.3  #sbest2.4   #best79.2  #sbest2.3  #sbest56.4  #sbest7.7\n",
      "11   #best86.6        3.3  #sbest78.4        3.2   #best64.1       10.3\n",
      "12        85.6   #best0.9   #best81.8   #best0.9   #best65.0   #best2.6\n",
      "13  #sbest86.3  #sbest2.4        79.2  #sbest2.3  #sbest56.4  #sbest7.7\n",
      "14   #best86.4        3.9  #sbest79.5        3.9        56.1       12.8\n",
      "15        86.1        2.3        75.0        2.3   #best57.2        7.7\n",
      "16        86.3        2.4  #sbest79.2        2.3        56.4        7.7\n",
      "17   #best86.3        2.3   #best80.7        2.4        56.9        7.7\n",
      "18  #sbest86.3        2.3        77.9        2.3  #sbest57.0        7.7\n",
      "19        86.1        2.3        74.9        2.3        56.2        7.7\n",
      "20   #best86.3        2.3  #sbest78.8        2.3   #best60.4        7.7\n",
      "21  #sbest86.3        2.4   #best79.2        2.3  #sbest56.4        7.7\n"
     ]
    }
   ],
   "source": [
    "print(df)"
   ]
  },
  {
   "cell_type": "code",
   "execution_count": 36,
   "metadata": {},
   "outputs": [
    {
     "data": {
      "text/plain": [
       "{'D': np.float64(0.6501711024035185), 'M': 2.59057664}"
      ]
     },
     "execution_count": 36,
     "metadata": {},
     "output_type": "execute_result"
    }
   ],
   "source": [
    "norm = \"none\"\n",
    "steps = 10\n",
    "alpha = 1.0\n",
    "model = 16\n",
    "batch = 3\n",
    "dice_weight = 1.0\n",
    "ema_decay = 0.99\n",
    "get_results(\"cholec\", norm, steps, alpha, model, 1, dice_weight, ema_decay)"
   ]
  },
  {
   "cell_type": "code",
   "execution_count": 37,
   "metadata": {},
   "outputs": [],
   "source": [
    "path = \"/local/scratch/clmn1/octree_study_new/Experiments/cholecfFixAbl_none_10_1.0_16_1_1.0_0.99_OctreeNCASegmentation\"\n",
    "seg_results = pd.read_csv(os.path.join(path, \"eval\", \"standard.csv\"), sep=\"\\t\")"
   ]
  },
  {
   "cell_type": "code",
   "execution_count": 38,
   "metadata": {},
   "outputs": [],
   "source": [
    "\n",
    "score = seg_results.loc[:, [\"DiceScore/0\", \"DiceScore/1\", \"DiceScore/2\", \"DiceScore/3\", \"DiceScore/4\"]]\n",
    "score = score.mean(axis=1)\n",
    "score = score.mean() * 100"
   ]
  },
  {
   "cell_type": "code",
   "execution_count": 39,
   "metadata": {},
   "outputs": [
    {
     "data": {
      "text/plain": [
       "np.float64(60.168864942740555)"
      ]
     },
     "execution_count": 39,
     "metadata": {},
     "output_type": "execute_result"
    }
   ],
   "source": [
    "score"
   ]
  }
 ],
 "metadata": {
  "kernelspec": {
   "display_name": "Python 3",
   "language": "python",
   "name": "python3"
  },
  "language_info": {
   "codemirror_mode": {
    "name": "ipython",
    "version": 3
   },
   "file_extension": ".py",
   "mimetype": "text/x-python",
   "name": "python",
   "nbconvert_exporter": "python",
   "pygments_lexer": "ipython3",
   "version": "3.10.14"
  }
 },
 "nbformat": 4,
 "nbformat_minor": 2
}
