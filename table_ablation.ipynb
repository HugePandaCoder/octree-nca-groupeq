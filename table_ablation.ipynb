{
 "cells": [
  {
   "cell_type": "code",
   "execution_count": 1,
   "metadata": {},
   "outputs": [],
   "source": [
    "import pandas as pd, os, json"
   ]
  },
  {
   "cell_type": "code",
   "execution_count": 2,
   "metadata": {},
   "outputs": [],
   "source": [
    "ROOT_FOLDER = \"/local/scratch/clmn1/octree_study_new/Experiments\""
   ]
  },
  {
   "cell_type": "code",
   "execution_count": 3,
   "metadata": {},
   "outputs": [],
   "source": [
    "task = \"prostate\"\n",
    "task = \"peso\""
   ]
  },
  {
   "cell_type": "code",
   "execution_count": 4,
   "metadata": {},
   "outputs": [],
   "source": [
    "def get_results(norm, steps, alpha, model, batch, dice_weight, ema_decay):\n",
    "\n",
    "    if task == \"prostate\":\n",
    "        if ema_decay == 0.99:\n",
    "            path = os.path.join(ROOT_FOLDER, f\"{task}fAbl_{norm}_{steps}_{alpha}_{model}_{batch}_{dice_weight}_OctreeNCASegmentation\")\n",
    "        else:\n",
    "            path = os.path.join(ROOT_FOLDER, f\"{task}fAbl_{norm}_{steps}_{alpha}_{model}_{batch}_{dice_weight}_{ema_decay}_OctreeNCASegmentation\")\n",
    "    elif task == \"peso\":\n",
    "        path = os.path.join(ROOT_FOLDER, f\"{task}fAbl_{norm}_{steps}_{alpha}_{model}_{batch}_{dice_weight}_{ema_decay}_OctreeNCA2DSegmentation\")\n",
    "        \n",
    "\n",
    "    #if task == \"prostate\" and ema_decay == 0.99:\n",
    "    #    path = os.path.join(ROOT_FOLDER, f\"{task}fAbl_{norm}_{steps}_{alpha}_{model}_{batch}_{dice_weight}_OctreeNCASegmentation\")\n",
    "    #else:\n",
    "    #    path = os.path.join(ROOT_FOLDER, f\"{task}fAbl_{norm}_{steps}_{alpha}_{model}_{batch}_{dice_weight}_{ema_decay}_OctreeNCASegmentation\")\n",
    "\n",
    "\n",
    "    mem_in_gb = json.load(open(os.path.join(path, \"mem_allocation.json\")))[\"byte\"] / 1000 / 1000 / 1000\n",
    "\n",
    "    if not os.path.exists(os.path.join(path, \"eval\", \"standard.csv\")):\n",
    "        return {\n",
    "            \"D\": None,\n",
    "            \"M\": mem_in_gb\n",
    "        }\n",
    "    seg_results = pd.read_csv(os.path.join(path, \"eval\", \"standard.csv\"), sep=\"\\t\")\n",
    "    mean_dice = seg_results.mean(numeric_only=True)#[\"DiceScore/0\"]\n",
    "\n",
    "    mean_dice = mean_dice.filter(like=\"DiceScore\").mean()\n",
    "\n",
    "    return{\n",
    "        \"D\": mean_dice,\n",
    "        \"M\": mem_in_gb\n",
    "    }"
   ]
  },
  {
   "cell_type": "code",
   "execution_count": 5,
   "metadata": {},
   "outputs": [],
   "source": [
    "evaluations = []\n",
    "steps = 10\n",
    "alpha = 1.0\n",
    "model = 16\n",
    "batch = 3\n",
    "dice_weight = 1.0\n",
    "ema_decay = 0.99\n",
    "\n",
    "for norm in [\"none\", \"batch\", \"group\"]:\n",
    "    res = get_results(norm, steps, alpha, model, batch, dice_weight, ema_decay)\n",
    "    res[\"ablation\"] = norm\n",
    "    evaluations.append(res)\n",
    "norm = \"none\"\n",
    "\n",
    "for steps in [5, 10, 20]:\n",
    "    res = get_results(norm, steps, alpha, model, batch, dice_weight, ema_decay)\n",
    "    res[\"ablation\"] = steps\n",
    "    evaluations.append(res)\n",
    "steps = 10\n",
    "\n",
    "for alpha in [1.0, 1.5, 2.0]:\n",
    "    res = get_results(norm, steps, alpha, model, batch, dice_weight, ema_decay)\n",
    "    res[\"ablation\"] = alpha\n",
    "    evaluations.append(res)\n",
    "alpha = 1.0\n",
    "\n",
    "for model in [12, 16, 20]:\n",
    "    res = get_results(norm, steps, alpha, model, batch, dice_weight, ema_decay)\n",
    "    res[\"ablation\"] = model\n",
    "    evaluations.append(res)\n",
    "model = 16\n",
    "\n",
    "for batch in [1, 3, 5]:\n",
    "    res = get_results(norm, steps, alpha, model, batch, dice_weight, ema_decay)\n",
    "    res[\"ablation\"] = batch\n",
    "    evaluations.append(res)\n",
    "batch = 3\n",
    "\n",
    "for dice_weight in [0.0, 1.0, 1.2, 1.5]:\n",
    "    res = get_results(norm, steps, alpha, model, batch, dice_weight, ema_decay)\n",
    "    res[\"ablation\"] = dice_weight\n",
    "    evaluations.append(res)\n",
    "dice_weight = 1.0\n",
    "\n",
    "for ema_decay in [0.0, 0.9, 0.99]:\n",
    "    res = get_results(norm, steps, alpha, model, batch, dice_weight, ema_decay)\n",
    "    res[\"ablation\"] = ema_decay\n",
    "    evaluations.append(res)\n",
    "ema_decay = 0.99"
   ]
  },
  {
   "cell_type": "code",
   "execution_count": null,
   "metadata": {},
   "outputs": [
    {
     "name": "stdout",
     "output_type": "stream",
     "text": [
      "       D    M ablation\n",
      "0   86.3  2.4     none\n",
      "1   84.5  3.5    batch\n",
      "2   86.5  3.5    group\n",
      "3   85.6  1.4        5\n",
      "4   86.3  2.4       10\n",
      "5   86.6  4.6       20\n",
      "6   86.3  2.4      1.0\n",
      "7   86.2  2.4      1.5\n",
      "8   86.3  2.4      2.0\n",
      "9   85.8  1.8       12\n",
      "10  86.3  2.4       16\n",
      "11  86.6  3.3       20\n",
      "12  85.6  0.9        1\n",
      "13  86.3  2.4        3\n",
      "14  86.4  3.9        5\n",
      "15  86.1  2.3      0.0\n",
      "16  86.3  2.4      1.0\n",
      "17  86.3  2.3      1.2\n",
      "18  86.3  2.3      1.5\n",
      "19  86.1  2.3      0.0\n",
      "20  86.3  2.3      0.9\n",
      "21  86.3  2.4     0.99\n"
     ]
    }
   ],
   "source": [
    "evaluations = pd.DataFrame(evaluations)\n",
    "evaluations['D'] = evaluations['D'].apply(lambda x: round(100 * x, 1))\n",
    "evaluations['M'] = evaluations['M'].apply(lambda x: round(x, 1))\n",
    "print(evaluations)"
   ]
  }
 ],
 "metadata": {
  "kernelspec": {
   "display_name": "Python 3",
   "language": "python",
   "name": "python3"
  },
  "language_info": {
   "codemirror_mode": {
    "name": "ipython",
    "version": 3
   },
   "file_extension": ".py",
   "mimetype": "text/x-python",
   "name": "python",
   "nbconvert_exporter": "python",
   "pygments_lexer": "ipython3",
   "version": "3.10.14"
  }
 },
 "nbformat": 4,
 "nbformat_minor": 2
}
