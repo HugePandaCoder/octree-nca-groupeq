{
 "cells": [
  {
   "cell_type": "code",
   "execution_count": 21,
   "metadata": {},
   "outputs": [],
   "source": [
    "import openslide, os\n",
    "import numpy as np\n",
    "import nibabel as nib"
   ]
  },
  {
   "cell_type": "code",
   "execution_count": null,
   "metadata": {},
   "outputs": [],
   "source": [
    "resolutions = []\n",
    "\n",
    "for file_name in os.listdir(\"/local/scratch/PESO/peso_training\"):\n",
    "    if file_name.endswith(\"_HE.tif\"):\n",
    "        slide = openslide.OpenSlide(\"/local/scratch/PESO/peso_training/\" + file_name)\n",
    "        resolutions.append(slide.level_dimensions[1])\n",
    "        slide.close()\n",
    "resolutions = np.array(resolutions)\n",
    "print(resolutions.max(axis=0))\n",
    "print(resolutions.min(axis=0))"
   ]
  },
  {
   "cell_type": "code",
   "execution_count": null,
   "metadata": {},
   "outputs": [
    {
     "name": "stdout",
     "output_type": "stream",
     "text": [
      "[384 384  24   2]\n",
      "[256 256  11   2]\n"
     ]
    }
   ],
   "source": [
    "resolutions = []\n",
    "\n",
    "for file_name in os.listdir(\"/local/scratch/jkalkhof/Data/Prostate_MEDSeg/imagesTr\"):\n",
    "    resolutions.append(nib.load(\"/local/scratch/jkalkhof/Data/Prostate_MEDSeg/imagesTr/\" + file_name).get_fdata().shape)\n",
    "resolutions = np.array(resolutions)\n",
    "print(resolutions.max(axis=0))\n",
    "print(resolutions.min(axis=0))\n",
    "print(np.median(resolutions, axis=0))"
   ]
  }
 ],
 "metadata": {
  "kernelspec": {
   "display_name": "Python 3",
   "language": "python",
   "name": "python3"
  },
  "language_info": {
   "codemirror_mode": {
    "name": "ipython",
    "version": 3
   },
   "file_extension": ".py",
   "mimetype": "text/x-python",
   "name": "python",
   "nbconvert_exporter": "python",
   "pygments_lexer": "ipython3",
   "version": "3.10.14"
  }
 },
 "nbformat": 4,
 "nbformat_minor": 2
}
