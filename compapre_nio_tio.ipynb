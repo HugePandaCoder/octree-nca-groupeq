{
 "cells": [
  {
   "cell_type": "code",
   "execution_count": 1,
   "metadata": {},
   "outputs": [],
   "source": [
    "import numpy as np\n",
    "from src.numpyio.RescaleIntensity import RescaleIntensity\n",
    "from src.numpyio.ZNormalization import ZNormalization\n",
    "import torchio as tio\n",
    "import timeit"
   ]
  },
  {
   "cell_type": "code",
   "execution_count": 2,
   "metadata": {},
   "outputs": [
    {
     "name": "stdout",
     "output_type": "stream",
     "text": [
      "RescaleIntensity line 69\n",
      "RescaleIntensity line 71\n",
      "RescaleIntensity line 82\n",
      "RescaleIntensity line 94\n",
      "RescaleIntensity line 96\n",
      "RescaleIntensity line 101\n",
      "RescaleIntensity line 110\n",
      "RescaleIntensity line 116\n",
      "RescaleIntensity line 73\n",
      "True\n"
     ]
    }
   ],
   "source": [
    "test_data = np.random.rand(2, 10, 10, 10)\n",
    "tio_rescale = tio.RescaleIntensity(out_min_max=(0,1), percentiles=(0.5, 99.5))\n",
    "nio_rescale = RescaleIntensity(out_min_max=(0,1), percentiles=(0.5, 99.5))\n",
    "test_data_tio = test_data.copy()\n",
    "test_data_nio = test_data.copy()\n",
    "\n",
    "test_data_tio = tio_rescale(test_data_tio)\n",
    "test_data_nio = nio_rescale(test_data_nio)\n",
    "print(np.allclose(test_data_tio, test_data_nio))"
   ]
  },
  {
   "cell_type": "code",
   "execution_count": 3,
   "metadata": {},
   "outputs": [
    {
     "name": "stdout",
     "output_type": "stream",
     "text": [
      "True\n",
      "-1.9073486e-08 0.99974996\n"
     ]
    }
   ],
   "source": [
    "test_data = np.random.rand(2, 10, 10, 10)\n",
    "tio_rescale = tio.ZNormalization()\n",
    "nio_rescale = ZNormalization()\n",
    "test_data_tio = test_data.copy()\n",
    "test_data_nio = test_data.copy()\n",
    "\n",
    "test_data_tio = tio_rescale(test_data_tio)\n",
    "test_data_nio = nio_rescale(test_data_nio)\n",
    "print(np.allclose(test_data_tio, test_data_nio, atol=1e-3))\n",
    "\n",
    "print(test_data_tio.mean(), test_data_tio.std())"
   ]
  },
  {
   "cell_type": "code",
   "execution_count": 7,
   "metadata": {},
   "outputs": [
    {
     "data": {
      "text/plain": [
       "0.13298251800006256"
      ]
     },
     "execution_count": 7,
     "metadata": {},
     "output_type": "execute_result"
    }
   ],
   "source": [
    "timeit.timeit('tio_rescale(test_data_tio)', globals=globals(), number=2000)"
   ]
  },
  {
   "cell_type": "code",
   "execution_count": 8,
   "metadata": {},
   "outputs": [
    {
     "data": {
      "text/plain": [
       "0.03623276299913414"
      ]
     },
     "execution_count": 8,
     "metadata": {},
     "output_type": "execute_result"
    }
   ],
   "source": [
    "timeit.timeit('nio_rescale(test_data_nio)', globals=globals(), number=2000)"
   ]
  }
 ],
 "metadata": {
  "kernelspec": {
   "display_name": "Python 3",
   "language": "python",
   "name": "python3"
  },
  "language_info": {
   "codemirror_mode": {
    "name": "ipython",
    "version": 3
   },
   "file_extension": ".py",
   "mimetype": "text/x-python",
   "name": "python",
   "nbconvert_exporter": "python",
   "pygments_lexer": "ipython3",
   "version": "3.10.14"
  }
 },
 "nbformat": 4,
 "nbformat_minor": 2
}
