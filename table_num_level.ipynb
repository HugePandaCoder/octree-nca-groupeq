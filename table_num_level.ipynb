{
 "cells": [
  {
   "cell_type": "code",
   "execution_count": 11,
   "metadata": {},
   "outputs": [],
   "source": [
    "import pandas as pd\n",
    "import os, json"
   ]
  },
  {
   "cell_type": "code",
   "execution_count": 12,
   "metadata": {},
   "outputs": [],
   "source": [
    "m3d_nca_lvl_to_exp = {\n",
    "    2: \"/local/scratch/clmn1/octree_study_new/Experiments/prostate_m3d_M3dSegmentation/\",\n",
    "    3: \"/local/scratch/clmn1/octree_study_new/Experiments/prostate_m3d_3lvl_M3dSegmentation/\",\n",
    "    4: \"/local/scratch/clmn1/octree_study_new/Experiments/prostate_m3d_4lvl_M3dSegmentation/\",\n",
    "    5: \"/local/scratch/clmn1/octree_study_new/Experiments/prostate_m3d_5lvl_M3dSegmentation/\"\n",
    "}\n",
    "oct_nca_lvl_to_exp = {\n",
    "    2: \"/local/scratch/clmn1/octree_study_new/Experiments/prostatefAbl_none_10_1.0_16_3_1.0_0.99_2lvl_OctreeNCASegmentation\",\n",
    "    3: \"/local/scratch/clmn1/octree_study_new/Experiments/prostatefAbl_none_10_1.0_16_3_1.0_0.99_3lvl_OctreeNCASegmentation/\",\n",
    "    4: \"/local/scratch/clmn1/octree_study_new/Experiments/prostatefAbl_none_10_1.0_16_3_1.0_0.99_4lvl_OctreeNCASegmentation/\",\n",
    "    5: \"/local/scratch/clmn1/octree_study_new/Experiments/prostatefAbl_none_10_1.0_16_OctreeNCASegmentation/\",\n",
    "}"
   ]
  },
  {
   "cell_type": "code",
   "execution_count": 13,
   "metadata": {},
   "outputs": [],
   "source": [
    "def get_dice(exp):\n",
    "    df = pd.read_csv(os.path.join(exp, \"eval\", \"standard.csv\"), sep=\"\\t\")\n",
    "    return df[\"DiceScore/0\"].mean()\n",
    "\n",
    "def get_vram(exp):\n",
    "    jj = json.load(open(os.path.join(exp, \"mem_allocation.json\")))\n",
    "    return jj[\"MiB\"]\n",
    "\n",
    "def get_num_params(exp):\n",
    "    jj = json.load(open(os.path.join(exp, \"num_params.json\")))\n",
    "    return jj[\"num_params\"]"
   ]
  },
  {
   "cell_type": "code",
   "execution_count": 14,
   "metadata": {},
   "outputs": [
    {
     "name": "stdout",
     "output_type": "stream",
     "text": [
      "M3D NCA 2: 80.5, 14.34 GiB, 12480\n",
      "M3D NCA 3: 81.8, 14.49 GiB, 16000\n",
      "M3D NCA 4: 79.2, 11.08 GiB, 16160\n",
      "M3D NCA 5: 80.9, 11.11 GiB, 19808\n"
     ]
    }
   ],
   "source": [
    "for lvl in [2, 3, 4, 5]:\n",
    "    d = get_dice(m3d_nca_lvl_to_exp[lvl])\n",
    "    v = get_vram(m3d_nca_lvl_to_exp[lvl]) / 1024\n",
    "    p = get_num_params(m3d_nca_lvl_to_exp[lvl])\n",
    "    print(f\"M3D NCA {lvl}: {d * 100:.1f}, {v:.2f} GiB, {p}\")"
   ]
  },
  {
   "cell_type": "code",
   "execution_count": 15,
   "metadata": {},
   "outputs": [
    {
     "name": "stdout",
     "output_type": "stream",
     "text": [
      "Oct NCA 2: 77.3, 10.04 GiB, 7040\n",
      "Oct NCA 3: 77.6, 5.98 GiB, 10560\n",
      "Oct NCA 4: 77.3, 2.50 GiB, 14080\n",
      "Oct NCA 5: 82.5, 2.18 GiB, 17600\n"
     ]
    }
   ],
   "source": [
    "for lvl in [2, 3, 4, 5]:\n",
    "    d = get_dice(oct_nca_lvl_to_exp[lvl])\n",
    "    v = get_vram(oct_nca_lvl_to_exp[lvl]) / 1024\n",
    "    p = get_num_params(oct_nca_lvl_to_exp[lvl])\n",
    "    print(f\"Oct NCA {lvl}: {d * 100:.1f}, {v:.2f} GiB, {p}\")"
   ]
  }
 ],
 "metadata": {
  "kernelspec": {
   "display_name": "nca3",
   "language": "python",
   "name": "python3"
  },
  "language_info": {
   "codemirror_mode": {
    "name": "ipython",
    "version": 3
   },
   "file_extension": ".py",
   "mimetype": "text/x-python",
   "name": "python",
   "nbconvert_exporter": "python",
   "pygments_lexer": "ipython3",
   "version": "3.10.14"
  }
 },
 "nbformat": 4,
 "nbformat_minor": 2
}
