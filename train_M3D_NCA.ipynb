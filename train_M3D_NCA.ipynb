{
 "cells": [
  {
   "attachments": {},
   "cell_type": "markdown",
   "metadata": {},
   "source": [
    "# M3D-NCA: Robust 3D Segmentation with Built-in Quality Control\n",
    "### John Kalkhof, Anirban Mukhopadhyay\n",
    "__TBD__\n",
    "\n",
    "\n",
    "\n",
    "***"
   ]
  },
  {
   "attachments": {},
   "cell_type": "markdown",
   "metadata": {},
   "source": [
    "## __The Backbone Model__\n",
    "<div>\n",
    "<img src=\"src/images/model_M3DNCA.png\" width=\"600\"/>\n",
    "</div>"
   ]
  },
  {
   "attachments": {},
   "cell_type": "markdown",
   "metadata": {},
   "source": [
    "## _1. Imports_"
   ]
  },
  {
   "cell_type": "code",
   "execution_count": 1,
   "metadata": {},
   "outputs": [],
   "source": [
    "import torch\n",
    "from src.datasets.Nii_Gz_Dataset_3D import Dataset_NiiGz_3D\n",
    "from src.models.Model_BasicNCA3D import BasicNCA3D\n",
    "from src.losses.LossFunctions import DiceFocalLoss\n",
    "from src.utils.Experiment import Experiment\n",
    "from src.agents.Agent_M3D_NCA import Agent_M3D_NCA"
   ]
  },
  {
   "attachments": {},
   "cell_type": "markdown",
   "metadata": {},
   "source": [
    "## _2. Configure experiment_\n",
    "- __AutoReload__\n",
    "    - If an experiment already exists in _model\\_path_ the config will __always__ be overwritten with the existing one\n",
    "    - Additionally if the model has been saved previously, this state will be reloaded\n",
    "- Download _hippocampus_ data from 'http://medicaldecathlon.com/' and adapt 'img_path' and 'label_path'"
   ]
  },
  {
   "cell_type": "code",
   "execution_count": 2,
   "metadata": {},
   "outputs": [],
   "source": [
    "config = [{\n",
    "    'img_path': r\"/home/jkalkhof_locale/Documents/Data/Task04_Hippocampus/train/imagesTr/\",\n",
    "    'label_path': r\"/home/jkalkhof_locale/Documents/Data/Task04_Hippocampus/train/labelsTr/\",\n",
    "    'model_path': r'M:/Models/M3D_NCA_Run1',\n",
    "    'device':\"cuda:0\",\n",
    "    'unlock_CPU': True,\n",
    "    # Optimizer\n",
    "    'lr': 16e-4,\n",
    "    'lr_gamma': 0.9999,\n",
    "    'betas': (0.9, 0.99),\n",
    "    # Training\n",
    "    'save_interval': 10,\n",
    "    'evaluate_interval': 10,\n",
    "    'n_epoch': 1000,\n",
    "    'batch_duplication': 1,\n",
    "    # Model\n",
    "    'channel_n': 16,        # Number of CA state channels\n",
    "    'inference_steps': [20, 40],\n",
    "    'cell_fire_rate': 0.5,\n",
    "    'batch_size': 4,\n",
    "    'input_channels': 1,\n",
    "    'output_channels': 1,\n",
    "    'hidden_size': 64,\n",
    "    'train_model':1,\n",
    "    # Data\n",
    "    'input_size': [(80, 80, 6),(320, 320, 24)], # \n",
    "    'scaling_factor': 4,\n",
    "    'data_split': [0.7, 0, 0.3], \n",
    "    'keep_original_scale': True,\n",
    "}\n",
    "]"
   ]
  },
  {
   "attachments": {},
   "cell_type": "markdown",
   "metadata": {},
   "source": [
    "## _3. Choose architecture, dataset and training agent_\n",
    "\n",
    "- _Dataset\\_Nii\\_Gz\\_3D_ loads 3D files. If you pass a _slice_ it will be split along the according axis."
   ]
  },
  {
   "cell_type": "code",
   "execution_count": 3,
   "metadata": {},
   "outputs": [
    {
     "name": "stdout",
     "output_type": "stream",
     "text": [
      "Datasplit-> train entries: 139, val entries: 0, test entries: 59\n",
      "Datasplit-> train entries: 139, val entries: 0, test entries: 59\n"
     ]
    }
   ],
   "source": [
    "dataset = Dataset_NiiGz_3D()\n",
    "device = torch.device(config[0]['device'])\n",
    "ca1 = BasicNCA3D(config[0]['channel_n'], config[0]['cell_fire_rate'], device, hidden_size=config[0]['hidden_size'], kernel_size=7, input_channels=config[0]['input_channels']).to(device)\n",
    "ca2 = BasicNCA3D(config[0]['channel_n'], config[0]['cell_fire_rate'], device, hidden_size=config[0]['hidden_size'], kernel_size=3, input_channels=config[0]['input_channels']).to(device)\n",
    "ca = [ca1, ca2]\n",
    "agent = Agent_M3D_NCA(ca)\n",
    "exp = Experiment(config, dataset, ca, agent)\n",
    "dataset.set_experiment(exp)\n",
    "exp.set_model_state('train')\n",
    "data_loader = torch.utils.data.DataLoader(dataset, shuffle=True, batch_size=exp.get_from_config('batch_size'))\n",
    "\n",
    "loss_function = DiceFocalLoss() "
   ]
  },
  {
   "attachments": {},
   "cell_type": "markdown",
   "metadata": {},
   "source": [
    "## _4. Run training_"
   ]
  },
  {
   "cell_type": "code",
   "execution_count": 4,
   "metadata": {},
   "outputs": [
    {
     "name": "stdout",
     "output_type": "stream",
     "text": [
      "Epoch: 1\n",
      "Dataset size: 35\n",
      "1 loss = 0.9068353363445827\n",
      "Epoch: 2\n",
      "Dataset size: 35\n",
      "2 loss = 0.4928062983921596\n",
      "Epoch: 3\n",
      "Dataset size: 35\n",
      "3 loss = 0.42579537885529656\n",
      "Epoch: 4\n",
      "Dataset size: 35\n",
      "4 loss = 0.3793342462607792\n",
      "Epoch: 5\n",
      "Dataset size: 35\n",
      "5 loss = 0.330070218869618\n",
      "Epoch: 6\n",
      "Dataset size: 35\n",
      "6 loss = 0.31675498059817725\n",
      "Epoch: 7\n",
      "Dataset size: 35\n",
      "7 loss = 0.29276063442230227\n",
      "Epoch: 8\n",
      "Dataset size: 35\n",
      "8 loss = 0.2905227175780705\n",
      "Epoch: 9\n",
      "Dataset size: 35\n",
      "9 loss = 0.2789324824299131\n",
      "Epoch: 10\n",
      "Dataset size: 35\n"
     ]
    },
    {
     "ename": "KeyboardInterrupt",
     "evalue": "",
     "output_type": "error",
     "traceback": [
      "\u001b[0;31m---------------------------------------------------------------------------\u001b[0m",
      "\u001b[0;31mKeyboardInterrupt\u001b[0m                         Traceback (most recent call last)",
      "\u001b[1;32m/home/jkalkhof_locale/Documents/GitHub/NCA/train_M3D_NCA.ipynb Cell 10\u001b[0m in \u001b[0;36m<cell line: 1>\u001b[0;34m()\u001b[0m\n\u001b[0;32m----> <a href='vscode-notebook-cell://ssh-remote%2B7b22686f73744e616d65223a22504333313130227d/home/jkalkhof_locale/Documents/GitHub/NCA/train_M3D_NCA.ipynb#X12sdnNjb2RlLXJlbW90ZQ%3D%3D?line=0'>1</a>\u001b[0m agent\u001b[39m.\u001b[39;49mtrain(data_loader, loss_function)\n",
      "File \u001b[0;32m~/Documents/GitHub/NCA/src/agents/Agent.py:190\u001b[0m, in \u001b[0;36mBaseAgent.train\u001b[0;34m(self, dataloader, loss_f)\u001b[0m\n\u001b[1;32m    188\u001b[0m \u001b[39mprint\u001b[39m(\u001b[39m'\u001b[39m\u001b[39mDataset size: \u001b[39m\u001b[39m'\u001b[39m \u001b[39m+\u001b[39m \u001b[39mstr\u001b[39m(\u001b[39mlen\u001b[39m(dataloader)))\n\u001b[1;32m    189\u001b[0m \u001b[39mfor\u001b[39;00m i, data \u001b[39min\u001b[39;00m \u001b[39menumerate\u001b[39m(dataloader):\n\u001b[0;32m--> 190\u001b[0m     loss_item \u001b[39m=\u001b[39m \u001b[39mself\u001b[39;49m\u001b[39m.\u001b[39;49mbatch_step(data, loss_f)\n\u001b[1;32m    191\u001b[0m     \u001b[39mfor\u001b[39;00m key \u001b[39min\u001b[39;00m loss_item\u001b[39m.\u001b[39mkeys():\n\u001b[1;32m    192\u001b[0m         loss_log[key]\u001b[39m.\u001b[39mappend(loss_item[key])\n",
      "File \u001b[0;32m~/Documents/GitHub/NCA/src/agents/Agent_Multi_NCA.py:17\u001b[0m, in \u001b[0;36mAgent_Multi_NCA.batch_step\u001b[0;34m(self, data, loss_f)\u001b[0m\n\u001b[1;32m      9\u001b[0m \u001b[39mr\u001b[39m\u001b[39m\"\"\"Execute a single batch training step\u001b[39;00m\n\u001b[1;32m     10\u001b[0m \u001b[39m    #Args\u001b[39;00m\n\u001b[1;32m     11\u001b[0m \u001b[39m        data (tensor, tensor): inputs, targets\u001b[39;00m\n\u001b[0;32m   (...)\u001b[0m\n\u001b[1;32m     14\u001b[0m \u001b[39m        loss item\u001b[39;00m\n\u001b[1;32m     15\u001b[0m \u001b[39m\"\"\"\u001b[39;00m\n\u001b[1;32m     16\u001b[0m data \u001b[39m=\u001b[39m \u001b[39mself\u001b[39m\u001b[39m.\u001b[39mprepare_data(data)\n\u001b[0;32m---> 17\u001b[0m outputs, targets \u001b[39m=\u001b[39m \u001b[39mself\u001b[39;49m\u001b[39m.\u001b[39;49mget_outputs(data)\n\u001b[1;32m     18\u001b[0m \u001b[39mfor\u001b[39;00m m \u001b[39min\u001b[39;00m \u001b[39mrange\u001b[39m(\u001b[39mself\u001b[39m\u001b[39m.\u001b[39mexp\u001b[39m.\u001b[39mget_from_config(\u001b[39m'\u001b[39m\u001b[39mtrain_model\u001b[39m\u001b[39m'\u001b[39m)\u001b[39m+\u001b[39m\u001b[39m1\u001b[39m):\n\u001b[1;32m     19\u001b[0m     \u001b[39mself\u001b[39m\u001b[39m.\u001b[39moptimizer[m]\u001b[39m.\u001b[39mzero_grad()\n",
      "File \u001b[0;32m~/Documents/GitHub/NCA/src/agents/Agent_M3D_NCA.py:177\u001b[0m, in \u001b[0;36mAgent_M3D_NCA.get_outputs\u001b[0;34m(self, data, full_img, tag, **kwargs)\u001b[0m\n\u001b[1;32m    174\u001b[0m     next_res_gt \u001b[39m=\u001b[39m next_res_gt\u001b[39m.\u001b[39mtranspose(\u001b[39m1\u001b[39m,\u001b[39m4\u001b[39m)\n\u001b[1;32m    176\u001b[0m \u001b[39m# Run model inference on patch\u001b[39;00m\n\u001b[0;32m--> 177\u001b[0m outputs \u001b[39m=\u001b[39m \u001b[39mself\u001b[39;49m\u001b[39m.\u001b[39;49mmodel[m](inputs_loc, steps\u001b[39m=\u001b[39;49m\u001b[39mself\u001b[39;49m\u001b[39m.\u001b[39;49mgetInferenceSteps()[m], fire_rate\u001b[39m=\u001b[39;49m\u001b[39mself\u001b[39;49m\u001b[39m.\u001b[39;49mexp\u001b[39m.\u001b[39;49mget_from_config(\u001b[39m'\u001b[39;49m\u001b[39mcell_fire_rate\u001b[39;49m\u001b[39m'\u001b[39;49m))\n\u001b[1;32m    179\u001b[0m \u001b[39m# Upscale lowres features to next level\u001b[39;00m\n\u001b[1;32m    180\u001b[0m up \u001b[39m=\u001b[39m torch\u001b[39m.\u001b[39mnn\u001b[39m.\u001b[39mUpsample(scale_factor\u001b[39m=\u001b[39mscale_fac, mode\u001b[39m=\u001b[39m\u001b[39m'\u001b[39m\u001b[39mnearest\u001b[39m\u001b[39m'\u001b[39m)\n",
      "File \u001b[0;32m~/anaconda3/envs/NCA/lib/python3.8/site-packages/torch/nn/modules/module.py:1130\u001b[0m, in \u001b[0;36mModule._call_impl\u001b[0;34m(self, *input, **kwargs)\u001b[0m\n\u001b[1;32m   1126\u001b[0m \u001b[39m# If we don't have any hooks, we want to skip the rest of the logic in\u001b[39;00m\n\u001b[1;32m   1127\u001b[0m \u001b[39m# this function, and just call forward.\u001b[39;00m\n\u001b[1;32m   1128\u001b[0m \u001b[39mif\u001b[39;00m \u001b[39mnot\u001b[39;00m (\u001b[39mself\u001b[39m\u001b[39m.\u001b[39m_backward_hooks \u001b[39mor\u001b[39;00m \u001b[39mself\u001b[39m\u001b[39m.\u001b[39m_forward_hooks \u001b[39mor\u001b[39;00m \u001b[39mself\u001b[39m\u001b[39m.\u001b[39m_forward_pre_hooks \u001b[39mor\u001b[39;00m _global_backward_hooks\n\u001b[1;32m   1129\u001b[0m         \u001b[39mor\u001b[39;00m _global_forward_hooks \u001b[39mor\u001b[39;00m _global_forward_pre_hooks):\n\u001b[0;32m-> 1130\u001b[0m     \u001b[39mreturn\u001b[39;00m forward_call(\u001b[39m*\u001b[39;49m\u001b[39minput\u001b[39;49m, \u001b[39m*\u001b[39;49m\u001b[39m*\u001b[39;49mkwargs)\n\u001b[1;32m   1131\u001b[0m \u001b[39m# Do not call functions when jit is used\u001b[39;00m\n\u001b[1;32m   1132\u001b[0m full_backward_hooks, non_full_backward_hooks \u001b[39m=\u001b[39m [], []\n",
      "File \u001b[0;32m~/Documents/GitHub/NCA/src/models/Model_BasicNCA3D.py:87\u001b[0m, in \u001b[0;36mBasicNCA3D.forward\u001b[0;34m(self, x, steps, fire_rate)\u001b[0m\n\u001b[1;32m     80\u001b[0m \u001b[39mr\u001b[39m\u001b[39m\"\"\"Forward function applies update function s times leaving input channels unchanged\u001b[39;00m\n\u001b[1;32m     81\u001b[0m \u001b[39m    #Args:\u001b[39;00m\n\u001b[1;32m     82\u001b[0m \u001b[39m        x: image\u001b[39;00m\n\u001b[1;32m     83\u001b[0m \u001b[39m        steps: number of steps to run update\u001b[39;00m\n\u001b[1;32m     84\u001b[0m \u001b[39m        fire_rate: random activation rate of each cell\u001b[39;00m\n\u001b[1;32m     85\u001b[0m \u001b[39m\"\"\"\u001b[39;00m\n\u001b[1;32m     86\u001b[0m \u001b[39mfor\u001b[39;00m step \u001b[39min\u001b[39;00m \u001b[39mrange\u001b[39m(steps):\n\u001b[0;32m---> 87\u001b[0m     x2 \u001b[39m=\u001b[39m \u001b[39mself\u001b[39;49m\u001b[39m.\u001b[39;49mupdate(x, fire_rate)\u001b[39m.\u001b[39mclone() \u001b[39m#[...,3:][...,3:]\u001b[39;00m\n\u001b[1;32m     88\u001b[0m     x \u001b[39m=\u001b[39m torch\u001b[39m.\u001b[39mconcat((x[\u001b[39m.\u001b[39m\u001b[39m.\u001b[39m\u001b[39m.\u001b[39m,\u001b[39m0\u001b[39m:\u001b[39mself\u001b[39m\u001b[39m.\u001b[39minput_channels], x2[\u001b[39m.\u001b[39m\u001b[39m.\u001b[39m\u001b[39m.\u001b[39m,\u001b[39mself\u001b[39m\u001b[39m.\u001b[39minput_channels:]), \u001b[39m4\u001b[39m)\n\u001b[1;32m     89\u001b[0m \u001b[39mreturn\u001b[39;00m x\n",
      "File \u001b[0;32m~/Documents/GitHub/NCA/src/models/Model_BasicNCA3D.py:59\u001b[0m, in \u001b[0;36mBasicNCA3D.update\u001b[0;34m(self, x_in, fire_rate)\u001b[0m\n\u001b[1;32m     57\u001b[0m x \u001b[39m=\u001b[39m x_in\u001b[39m.\u001b[39mtranspose(\u001b[39m1\u001b[39m,\u001b[39m4\u001b[39m)\n\u001b[1;32m     58\u001b[0m dx \u001b[39m=\u001b[39m \u001b[39mself\u001b[39m\u001b[39m.\u001b[39mperceive(x)\n\u001b[0;32m---> 59\u001b[0m dx \u001b[39m=\u001b[39m dx\u001b[39m.\u001b[39;49mtranspose(\u001b[39m1\u001b[39;49m,\u001b[39m4\u001b[39;49m)\n\u001b[1;32m     60\u001b[0m dx \u001b[39m=\u001b[39m \u001b[39mself\u001b[39m\u001b[39m.\u001b[39mfc0(dx)\n\u001b[1;32m     61\u001b[0m dx \u001b[39m=\u001b[39m dx\u001b[39m.\u001b[39mtranspose(\u001b[39m1\u001b[39m,\u001b[39m4\u001b[39m)\n",
      "\u001b[0;31mKeyboardInterrupt\u001b[0m: "
     ]
    }
   ],
   "source": [
    "agent.train(data_loader, loss_function)"
   ]
  },
  {
   "attachments": {},
   "cell_type": "markdown",
   "metadata": {},
   "source": [
    "## _5. Evaluate test data_"
   ]
  },
  {
   "cell_type": "code",
   "execution_count": null,
   "metadata": {},
   "outputs": [],
   "source": [
    "agent.getAverageDiceScore()"
   ]
  }
 ],
 "metadata": {
  "kernelspec": {
   "display_name": "NCA",
   "language": "python",
   "name": "python3"
  },
  "language_info": {
   "codemirror_mode": {
    "name": "ipython",
    "version": 3
   },
   "file_extension": ".py",
   "mimetype": "text/x-python",
   "name": "python",
   "nbconvert_exporter": "python",
   "pygments_lexer": "ipython3",
   "version": "3.8.13"
  },
  "orig_nbformat": 4
 },
 "nbformat": 4,
 "nbformat_minor": 2
}
