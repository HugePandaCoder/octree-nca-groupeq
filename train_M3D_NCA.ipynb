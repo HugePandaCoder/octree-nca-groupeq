{
 "cells": [
  {
   "attachments": {},
   "cell_type": "markdown",
   "metadata": {},
   "source": [
    "# M3D-NCA: Robust 3D Segmentation with Built-in Quality Control\n",
    "### John Kalkhof, Anirban Mukhopadhyay\n",
    "__TBD__\n",
    "\n",
    "\n",
    "\n",
    "***"
   ]
  },
  {
   "attachments": {},
   "cell_type": "markdown",
   "metadata": {},
   "source": [
    "## __The Backbone Model__\n",
    "<div>\n",
    "<img src=\"src/images/model_M3DNCA.png\" width=\"600\"/>\n",
    "</div>"
   ]
  },
  {
   "attachments": {},
   "cell_type": "markdown",
   "metadata": {},
   "source": [
    "## _1. Imports_"
   ]
  },
  {
   "cell_type": "code",
   "execution_count": 4,
   "metadata": {},
   "outputs": [],
   "source": [
    "import torch\n",
    "from src.datasets.Nii_Gz_Dataset_3D import Dataset_NiiGz_3D\n",
    "from src.models.Model_BasicNCA3D import BasicNCA3D\n",
    "from src.losses.LossFunctions import DiceFocalLoss\n",
    "from src.utils.Experiment import Experiment\n",
    "from src.agents.Agent_M3D_NCA import Agent_M3D_NCA"
   ]
  },
  {
   "attachments": {},
   "cell_type": "markdown",
   "metadata": {},
   "source": [
    "## _2. Configure experiment_\n",
    "- __AutoReload__\n",
    "    - If an experiment already exists in _model\\_path_ the config will __always__ be overwritten with the existing one\n",
    "    - Additionally if the model has been saved previously, this state will be reloaded\n",
    "- Download _prostate_ data from 'http://medicaldecathlon.com/' and adapt 'img_path' and 'label_path'"
   ]
  },
  {
   "cell_type": "code",
   "execution_count": 5,
   "metadata": {},
   "outputs": [],
   "source": [
    "config = [{\n",
    "    'img_path': r\"/home/jkalkhof_locale/Documents/Data/Task04_Hippocampus/train/imagesTr/\",\n",
    "    'label_path': r\"/home/jkalkhof_locale/Documents/Data/Task04_Hippocampus/train/labelsTr/\",\n",
    "    'name': r'M3D_NCA_Run8',\n",
    "    'device':\"cuda:0\",\n",
    "    'unlock_CPU': True,\n",
    "    # Optimizer\n",
    "    'lr': 16e-4,\n",
    "    'lr_gamma': 0.9999,\n",
    "    'betas': (0.9, 0.99),\n",
    "    # Training\n",
    "    'save_interval': 10,\n",
    "    'evaluate_interval': 10,\n",
    "    'n_epoch': 3000,\n",
    "    'batch_duplication': 1,\n",
    "    # Model\n",
    "    'channel_n': 16,        # Number of CA state channels\n",
    "    'inference_steps': [10, 10],\n",
    "    'cell_fire_rate': 0.5,\n",
    "    'batch_size': 4,\n",
    "    'input_channels': 1,\n",
    "    'output_channels': 1,\n",
    "    'hidden_size': 64,\n",
    "    'train_model':1,\n",
    "    # Data\n",
    "    'input_size': [(16, 16, 13),(64, 64, 52)], # \n",
    "    'scale_factor': 4,\n",
    "    'data_split': [0.7, 0, 0.3], \n",
    "    'keep_original_scale': True,\n",
    "    'rescale': True,\n",
    "}\n",
    "]"
   ]
  },
  {
   "attachments": {},
   "cell_type": "markdown",
   "metadata": {},
   "source": [
    "## _3. Choose architecture, dataset and training agent_\n",
    "\n",
    "- _Dataset\\_Nii\\_Gz\\_3D_ loads 3D files. If you pass a _slice_ it will be split along the according axis."
   ]
  },
  {
   "cell_type": "code",
   "execution_count": 6,
   "metadata": {},
   "outputs": [
    {
     "name": "stdout",
     "output_type": "stream",
     "text": [
      "Study/Experiments/M3D_NCA_Run7/data_split.dt\n",
      "53ce2309aade49858f757dba\n"
     ]
    },
    {
     "ename": "Timeout",
     "evalue": "The file lock '/home/jkalkhof_locale/Documents/GitHub/NCA/Study/Aim/.aim/locks/53ce2309aade49858f757dba.softlock' could not be acquired.",
     "output_type": "error",
     "traceback": [
      "\u001b[0;31m---------------------------------------------------------------------------\u001b[0m",
      "\u001b[0;31mTimeout\u001b[0m                                   Traceback (most recent call last)",
      "Cell \u001b[0;32mIn[6], line 7\u001b[0m\n\u001b[1;32m      5\u001b[0m ca \u001b[39m=\u001b[39m [ca1, ca2]\n\u001b[1;32m      6\u001b[0m agent \u001b[39m=\u001b[39m Agent_M3D_NCA(ca)\n\u001b[0;32m----> 7\u001b[0m exp \u001b[39m=\u001b[39m Experiment(config, dataset, ca, agent)\n\u001b[1;32m      8\u001b[0m dataset\u001b[39m.\u001b[39mset_experiment(exp)\n\u001b[1;32m      9\u001b[0m exp\u001b[39m.\u001b[39mset_model_state(\u001b[39m'\u001b[39m\u001b[39mtrain\u001b[39m\u001b[39m'\u001b[39m)\n",
      "File \u001b[0;32m~/Documents/GitHub/NCA/src/utils/Experiment.py:27\u001b[0m, in \u001b[0;36mExperiment.__init__\u001b[0;34m(self, config, dataset, model, agent)\u001b[0m\n\u001b[1;32m     25\u001b[0m \u001b[39mself\u001b[39m\u001b[39m.\u001b[39mgeneral()\n\u001b[1;32m     26\u001b[0m \u001b[39mif\u001b[39;00m(os\u001b[39m.\u001b[39mpath\u001b[39m.\u001b[39misdir(os\u001b[39m.\u001b[39mpath\u001b[39m.\u001b[39mjoin(\u001b[39mself\u001b[39m\u001b[39m.\u001b[39mconfig[\u001b[39m'\u001b[39m\u001b[39mmodel_path\u001b[39m\u001b[39m'\u001b[39m], \u001b[39m'\u001b[39m\u001b[39mmodels\u001b[39m\u001b[39m'\u001b[39m))):\n\u001b[0;32m---> 27\u001b[0m     \u001b[39mself\u001b[39;49m\u001b[39m.\u001b[39;49mreload()\n\u001b[1;32m     28\u001b[0m \u001b[39melse\u001b[39;00m:\n\u001b[1;32m     29\u001b[0m     \u001b[39mself\u001b[39m\u001b[39m.\u001b[39msetup()\n",
      "File \u001b[0;32m~/Documents/GitHub/NCA/src/utils/Experiment.py:106\u001b[0m, in \u001b[0;36mExperiment.reload\u001b[0;34m(self)\u001b[0m\n\u001b[1;32m    104\u001b[0m \u001b[39m# Find most recent Experiment with name and reload\u001b[39;00m\n\u001b[1;32m    105\u001b[0m \u001b[39mprint\u001b[39m(\u001b[39mself\u001b[39m\u001b[39m.\u001b[39mprojectConfig[\u001b[39m0\u001b[39m][\u001b[39m'\u001b[39m\u001b[39mhash\u001b[39m\u001b[39m'\u001b[39m])\n\u001b[0;32m--> 106\u001b[0m \u001b[39mself\u001b[39m\u001b[39m.\u001b[39mrun \u001b[39m=\u001b[39m Run(run_hash\u001b[39m=\u001b[39;49m\u001b[39mself\u001b[39;49m\u001b[39m.\u001b[39;49mprojectConfig[\u001b[39m0\u001b[39;49m][\u001b[39m'\u001b[39;49m\u001b[39mhash\u001b[39;49m\u001b[39m'\u001b[39;49m], experiment\u001b[39m=\u001b[39;49m\u001b[39mself\u001b[39;49m\u001b[39m.\u001b[39;49mconfig[\u001b[39m'\u001b[39;49m\u001b[39mname\u001b[39;49m\u001b[39m'\u001b[39;49m], repo\u001b[39m=\u001b[39;49mos\u001b[39m.\u001b[39;49mpath\u001b[39m.\u001b[39;49mjoin(pc\u001b[39m.\u001b[39;49mSTUDY_PATH, \u001b[39m'\u001b[39;49m\u001b[39mAim\u001b[39;49m\u001b[39m'\u001b[39;49m))\n\u001b[1;32m    108\u001b[0m \u001b[39mself\u001b[39m\u001b[39m.\u001b[39mconfig \u001b[39m=\u001b[39m \u001b[39mself\u001b[39m\u001b[39m.\u001b[39mprojectConfig[\u001b[39m0\u001b[39m]\n\u001b[1;32m    109\u001b[0m model_path \u001b[39m=\u001b[39m os\u001b[39m.\u001b[39mpath\u001b[39m.\u001b[39mjoin(\u001b[39mself\u001b[39m\u001b[39m.\u001b[39mconfig[\u001b[39m'\u001b[39m\u001b[39mmodel_path\u001b[39m\u001b[39m'\u001b[39m], \u001b[39m'\u001b[39m\u001b[39mmodels\u001b[39m\u001b[39m'\u001b[39m, \u001b[39m'\u001b[39m\u001b[39mepoch_\u001b[39m\u001b[39m'\u001b[39m \u001b[39m+\u001b[39m \u001b[39mstr\u001b[39m(\u001b[39mself\u001b[39m\u001b[39m.\u001b[39mcurrentStep))\n",
      "File \u001b[0;32m~/anaconda3/envs/NCA_310/lib/python3.10/site-packages/aim/ext/exception_resistant.py:70\u001b[0m, in \u001b[0;36mnoexcept.<locals>.wrapper\u001b[0;34m(*args, **kwargs)\u001b[0m\n\u001b[1;32m     68\u001b[0m     \u001b[39mreturn\u001b[39;00m func(\u001b[39m*\u001b[39margs, \u001b[39m*\u001b[39m\u001b[39m*\u001b[39mkwargs)\n\u001b[1;32m     69\u001b[0m \u001b[39mexcept\u001b[39;00m \u001b[39mException\u001b[39;00m \u001b[39mas\u001b[39;00m e:\n\u001b[0;32m---> 70\u001b[0m     _SafeModeConfig\u001b[39m.\u001b[39;49mexception_callback(e, func)\n",
      "File \u001b[0;32m~/anaconda3/envs/NCA_310/lib/python3.10/site-packages/aim/ext/exception_resistant.py:47\u001b[0m, in \u001b[0;36m_SafeModeConfig.reraise_exception\u001b[0;34m(e, func)\u001b[0m\n\u001b[1;32m     45\u001b[0m \u001b[39m@staticmethod\u001b[39m\n\u001b[1;32m     46\u001b[0m \u001b[39mdef\u001b[39;00m \u001b[39mreraise_exception\u001b[39m(e: \u001b[39mException\u001b[39;00m, func: \u001b[39mcallable\u001b[39m):\n\u001b[0;32m---> 47\u001b[0m     \u001b[39mraise\u001b[39;00m e\n",
      "File \u001b[0;32m~/anaconda3/envs/NCA_310/lib/python3.10/site-packages/aim/ext/exception_resistant.py:68\u001b[0m, in \u001b[0;36mnoexcept.<locals>.wrapper\u001b[0;34m(*args, **kwargs)\u001b[0m\n\u001b[1;32m     65\u001b[0m \u001b[39m@wraps\u001b[39m(func)\n\u001b[1;32m     66\u001b[0m \u001b[39mdef\u001b[39;00m \u001b[39mwrapper\u001b[39m(\u001b[39m*\u001b[39margs, \u001b[39m*\u001b[39m\u001b[39m*\u001b[39mkwargs):\n\u001b[1;32m     67\u001b[0m     \u001b[39mtry\u001b[39;00m:\n\u001b[0;32m---> 68\u001b[0m         \u001b[39mreturn\u001b[39;00m func(\u001b[39m*\u001b[39;49margs, \u001b[39m*\u001b[39;49m\u001b[39m*\u001b[39;49mkwargs)\n\u001b[1;32m     69\u001b[0m     \u001b[39mexcept\u001b[39;00m \u001b[39mException\u001b[39;00m \u001b[39mas\u001b[39;00m e:\n\u001b[1;32m     70\u001b[0m         _SafeModeConfig\u001b[39m.\u001b[39mexception_callback(e, func)\n",
      "File \u001b[0;32m~/anaconda3/envs/NCA_310/lib/python3.10/site-packages/aim/sdk/run.py:828\u001b[0m, in \u001b[0;36mRun.__init__\u001b[0;34m(self, run_hash, repo, read_only, experiment, force_resume, system_tracking_interval, log_system_params, capture_terminal_logs)\u001b[0m\n\u001b[1;32m    819\u001b[0m \u001b[39m@noexcept\u001b[39m\n\u001b[1;32m    820\u001b[0m \u001b[39mdef\u001b[39;00m \u001b[39m__init__\u001b[39m(\u001b[39mself\u001b[39m, run_hash: Optional[\u001b[39mstr\u001b[39m] \u001b[39m=\u001b[39m \u001b[39mNone\u001b[39;00m, \u001b[39m*\u001b[39m,\n\u001b[1;32m    821\u001b[0m              repo: Optional[Union[\u001b[39mstr\u001b[39m, \u001b[39m'\u001b[39m\u001b[39mRepo\u001b[39m\u001b[39m'\u001b[39m, pathlib\u001b[39m.\u001b[39mPath]] \u001b[39m=\u001b[39m \u001b[39mNone\u001b[39;00m,\n\u001b[0;32m   (...)\u001b[0m\n\u001b[1;32m    826\u001b[0m              log_system_params: Optional[\u001b[39mbool\u001b[39m] \u001b[39m=\u001b[39m \u001b[39mFalse\u001b[39;00m,\n\u001b[1;32m    827\u001b[0m              capture_terminal_logs: Optional[\u001b[39mbool\u001b[39m] \u001b[39m=\u001b[39m \u001b[39mTrue\u001b[39;00m):\n\u001b[0;32m--> 828\u001b[0m     \u001b[39msuper\u001b[39;49m()\u001b[39m.\u001b[39;49m\u001b[39m__init__\u001b[39;49m(run_hash, repo\u001b[39m=\u001b[39;49mrepo, read_only\u001b[39m=\u001b[39;49mread_only, experiment\u001b[39m=\u001b[39;49mexperiment, force_resume\u001b[39m=\u001b[39;49mforce_resume)\n\u001b[1;32m    830\u001b[0m     \u001b[39mself\u001b[39m\u001b[39m.\u001b[39m_system_resource_tracker: ResourceTracker \u001b[39m=\u001b[39m \u001b[39mNone\u001b[39;00m\n\u001b[1;32m    831\u001b[0m     \u001b[39mif\u001b[39;00m \u001b[39mnot\u001b[39;00m read_only:\n",
      "File \u001b[0;32m~/anaconda3/envs/NCA_310/lib/python3.10/site-packages/aim/sdk/run.py:276\u001b[0m, in \u001b[0;36mBasicRun.__init__\u001b[0;34m(self, run_hash, repo, read_only, experiment, force_resume)\u001b[0m\n\u001b[1;32m    269\u001b[0m \u001b[39mdef\u001b[39;00m \u001b[39m__init__\u001b[39m(\u001b[39mself\u001b[39m, run_hash: Optional[\u001b[39mstr\u001b[39m] \u001b[39m=\u001b[39m \u001b[39mNone\u001b[39;00m, \u001b[39m*\u001b[39m,\n\u001b[1;32m    270\u001b[0m              repo: Optional[Union[\u001b[39mstr\u001b[39m, \u001b[39m'\u001b[39m\u001b[39mRepo\u001b[39m\u001b[39m'\u001b[39m, pathlib\u001b[39m.\u001b[39mPath]] \u001b[39m=\u001b[39m \u001b[39mNone\u001b[39;00m,\n\u001b[1;32m    271\u001b[0m              read_only: \u001b[39mbool\u001b[39m \u001b[39m=\u001b[39m \u001b[39mFalse\u001b[39;00m,\n\u001b[1;32m    272\u001b[0m              experiment: Optional[\u001b[39mstr\u001b[39m] \u001b[39m=\u001b[39m \u001b[39mNone\u001b[39;00m,\n\u001b[1;32m    273\u001b[0m              force_resume: \u001b[39mbool\u001b[39m \u001b[39m=\u001b[39m \u001b[39mFalse\u001b[39;00m,\n\u001b[1;32m    274\u001b[0m              ):\n\u001b[1;32m    275\u001b[0m     \u001b[39mself\u001b[39m\u001b[39m.\u001b[39m_resources: Optional[BasicRunAutoClean] \u001b[39m=\u001b[39m \u001b[39mNone\u001b[39;00m\n\u001b[0;32m--> 276\u001b[0m     \u001b[39msuper\u001b[39;49m()\u001b[39m.\u001b[39;49m\u001b[39m__init__\u001b[39;49m(run_hash, repo\u001b[39m=\u001b[39;49mrepo, read_only\u001b[39m=\u001b[39;49mread_only, force_resume\u001b[39m=\u001b[39;49mforce_resume)\n\u001b[1;32m    278\u001b[0m     \u001b[39mself\u001b[39m\u001b[39m.\u001b[39mmeta_attrs_tree: TreeView \u001b[39m=\u001b[39m \u001b[39mself\u001b[39m\u001b[39m.\u001b[39mmeta_tree\u001b[39m.\u001b[39msubtree(\u001b[39m'\u001b[39m\u001b[39mattrs\u001b[39m\u001b[39m'\u001b[39m)\n\u001b[1;32m    279\u001b[0m     \u001b[39mself\u001b[39m\u001b[39m.\u001b[39mmeta_run_attrs_tree: TreeView \u001b[39m=\u001b[39m \u001b[39mself\u001b[39m\u001b[39m.\u001b[39mmeta_run_tree\u001b[39m.\u001b[39msubtree(\u001b[39m'\u001b[39m\u001b[39mattrs\u001b[39m\u001b[39m'\u001b[39m)\n",
      "File \u001b[0;32m~/anaconda3/envs/NCA_310/lib/python3.10/site-packages/aim/sdk/base_run.py:50\u001b[0m, in \u001b[0;36mBaseRun.__init__\u001b[0;34m(self, run_hash, repo, read_only, force_resume)\u001b[0m\n\u001b[1;32m     48\u001b[0m         \u001b[39mraise\u001b[39;00m MissingRunError(\u001b[39mf\u001b[39m\u001b[39m'\u001b[39m\u001b[39mCannot find Run \u001b[39m\u001b[39m{\u001b[39;00mrun_hash\u001b[39m}\u001b[39;00m\u001b[39m in aim Repo \u001b[39m\u001b[39m{\u001b[39;00m\u001b[39mself\u001b[39m\u001b[39m.\u001b[39mrepo\u001b[39m.\u001b[39mpath\u001b[39m}\u001b[39;00m\u001b[39m.\u001b[39m\u001b[39m'\u001b[39m)\n\u001b[1;32m     49\u001b[0m     \u001b[39mself\u001b[39m\u001b[39m.\u001b[39m_lock \u001b[39m=\u001b[39m \u001b[39mself\u001b[39m\u001b[39m.\u001b[39mrepo\u001b[39m.\u001b[39mrequest_run_lock(\u001b[39mself\u001b[39m\u001b[39m.\u001b[39mhash)\n\u001b[0;32m---> 50\u001b[0m     \u001b[39mself\u001b[39;49m\u001b[39m.\u001b[39;49m_lock\u001b[39m.\u001b[39;49mlock(force\u001b[39m=\u001b[39;49mforce_resume)\n\u001b[1;32m     52\u001b[0m \u001b[39mself\u001b[39m\u001b[39m.\u001b[39mmeta_tree: TreeView \u001b[39m=\u001b[39m \u001b[39mself\u001b[39m\u001b[39m.\u001b[39mrepo\u001b[39m.\u001b[39mrequest_tree(\n\u001b[1;32m     53\u001b[0m     \u001b[39m'\u001b[39m\u001b[39mmeta\u001b[39m\u001b[39m'\u001b[39m, \u001b[39mself\u001b[39m\u001b[39m.\u001b[39mhash, read_only\u001b[39m=\u001b[39mread_only, from_union\u001b[39m=\u001b[39m\u001b[39mTrue\u001b[39;00m\n\u001b[1;32m     54\u001b[0m )\u001b[39m.\u001b[39msubtree(\u001b[39m'\u001b[39m\u001b[39mmeta\u001b[39m\u001b[39m'\u001b[39m)\n\u001b[1;32m     55\u001b[0m \u001b[39mself\u001b[39m\u001b[39m.\u001b[39mmeta_run_tree: TreeView \u001b[39m=\u001b[39m \u001b[39mself\u001b[39m\u001b[39m.\u001b[39mmeta_tree\u001b[39m.\u001b[39msubtree(\u001b[39m'\u001b[39m\u001b[39mchunks\u001b[39m\u001b[39m'\u001b[39m)\u001b[39m.\u001b[39msubtree(\u001b[39mself\u001b[39m\u001b[39m.\u001b[39mhash)\n",
      "File \u001b[0;32m~/anaconda3/envs/NCA_310/lib/python3.10/site-packages/aim/sdk/lock_manager.py:60\u001b[0m, in \u001b[0;36mSFRunLock.lock\u001b[0;34m(self, force)\u001b[0m\n\u001b[1;32m     59\u001b[0m \u001b[39mdef\u001b[39;00m \u001b[39mlock\u001b[39m(\u001b[39mself\u001b[39m, force: \u001b[39mbool\u001b[39m \u001b[39m=\u001b[39m \u001b[39mFalse\u001b[39;00m):\n\u001b[0;32m---> 60\u001b[0m     \u001b[39mself\u001b[39;49m\u001b[39m.\u001b[39;49m_lock_manager()\u001b[39m.\u001b[39;49mlock(\u001b[39mself\u001b[39;49m\u001b[39m.\u001b[39;49mrun_hash, \u001b[39mself\u001b[39;49m\u001b[39m.\u001b[39;49m_sf_lock, force\u001b[39m=\u001b[39;49mforce)\n",
      "File \u001b[0;32m~/anaconda3/envs/NCA_310/lib/python3.10/site-packages/aim/sdk/lock_manager.py:130\u001b[0m, in \u001b[0;36mLockManager.lock\u001b[0;34m(self, run_hash, run_lock, force)\u001b[0m\n\u001b[1;32m    126\u001b[0m \u001b[39melif\u001b[39;00m \u001b[39mnot\u001b[39;00m \u001b[39mself\u001b[39m\u001b[39m.\u001b[39mrelease_locks(run_hash, force\u001b[39m=\u001b[39m\u001b[39mFalse\u001b[39;00m):\n\u001b[1;32m    127\u001b[0m     \u001b[39mraise\u001b[39;00m RunLockingError(\u001b[39mf\u001b[39m\u001b[39m'\u001b[39m\u001b[39mCannot acquire lock for Run \u001b[39m\u001b[39m\\'\u001b[39;00m\u001b[39m{\u001b[39;00mrun_hash\u001b[39m}\u001b[39;00m\u001b[39m\\'\u001b[39;00m\u001b[39m. \u001b[39m\u001b[39m'\u001b[39m\n\u001b[1;32m    128\u001b[0m                           \u001b[39mf\u001b[39m\u001b[39m'\u001b[39m\u001b[39mMake sure no process uses Run \u001b[39m\u001b[39m\\'\u001b[39;00m\u001b[39m{\u001b[39;00mrun_hash\u001b[39m}\u001b[39;00m\u001b[39m\\'\u001b[39;00m\u001b[39m and close it via Aim CLI:\u001b[39m\u001b[39m\\n\u001b[39;00m\u001b[39m'\u001b[39m\n\u001b[1;32m    129\u001b[0m                           \u001b[39mf\u001b[39m\u001b[39m'\u001b[39m\u001b[39m`aim runs close --force \u001b[39m\u001b[39m{\u001b[39;00mrun_hash\u001b[39m}\u001b[39;00m\u001b[39m`\u001b[39m\u001b[39m'\u001b[39m)\n\u001b[0;32m--> 130\u001b[0m run_lock\u001b[39m.\u001b[39;49macquire()\n\u001b[1;32m    131\u001b[0m \u001b[39mwith\u001b[39;00m \u001b[39mopen\u001b[39m(lock_path, \u001b[39m'\u001b[39m\u001b[39mw\u001b[39m\u001b[39m'\u001b[39m) \u001b[39mas\u001b[39;00m lock_metadata_fh:\n\u001b[1;32m    132\u001b[0m     lock_metadata_fh\u001b[39m.\u001b[39mwrite(\u001b[39mf\u001b[39m\u001b[39m'\u001b[39m\u001b[39m{\u001b[39;00m\u001b[39mself\u001b[39m\u001b[39m.\u001b[39mmachine_id\u001b[39m}\u001b[39;00m\u001b[39m-\u001b[39m\u001b[39m{\u001b[39;00m\u001b[39mself\u001b[39m\u001b[39m.\u001b[39mpid\u001b[39m}\u001b[39;00m\u001b[39m-\u001b[39m\u001b[39m{\u001b[39;00mtime\u001b[39m.\u001b[39mtime()\u001b[39m}\u001b[39;00m\u001b[39m'\u001b[39m)\n",
      "File \u001b[0;32m~/anaconda3/envs/NCA_310/lib/python3.10/site-packages/filelock/_api.py:183\u001b[0m, in \u001b[0;36mBaseFileLock.acquire\u001b[0;34m(self, timeout, poll_interval, poll_intervall, blocking)\u001b[0m\n\u001b[1;32m    181\u001b[0m \u001b[39melif\u001b[39;00m \u001b[39m0\u001b[39m \u001b[39m<\u001b[39m\u001b[39m=\u001b[39m timeout \u001b[39m<\u001b[39m time\u001b[39m.\u001b[39mmonotonic() \u001b[39m-\u001b[39m start_time:\n\u001b[1;32m    182\u001b[0m     _LOGGER\u001b[39m.\u001b[39mdebug(\u001b[39m\"\u001b[39m\u001b[39mTimeout on acquiring lock \u001b[39m\u001b[39m%s\u001b[39;00m\u001b[39m on \u001b[39m\u001b[39m%s\u001b[39;00m\u001b[39m\"\u001b[39m, lock_id, lock_filename)\n\u001b[0;32m--> 183\u001b[0m     \u001b[39mraise\u001b[39;00m Timeout(\u001b[39mself\u001b[39m\u001b[39m.\u001b[39m_lock_file)\n\u001b[1;32m    184\u001b[0m \u001b[39melse\u001b[39;00m:\n\u001b[1;32m    185\u001b[0m     msg \u001b[39m=\u001b[39m \u001b[39m\"\u001b[39m\u001b[39mLock \u001b[39m\u001b[39m%s\u001b[39;00m\u001b[39m not acquired on \u001b[39m\u001b[39m%s\u001b[39;00m\u001b[39m, waiting \u001b[39m\u001b[39m%s\u001b[39;00m\u001b[39m seconds ...\u001b[39m\u001b[39m\"\u001b[39m\n",
      "\u001b[0;31mTimeout\u001b[0m: The file lock '/home/jkalkhof_locale/Documents/GitHub/NCA/Study/Aim/.aim/locks/53ce2309aade49858f757dba.softlock' could not be acquired."
     ]
    }
   ],
   "source": [
    "dataset = Dataset_NiiGz_3D()\n",
    "device = torch.device(config[0]['device'])\n",
    "ca1 = BasicNCA3D(config[0]['channel_n'], config[0]['cell_fire_rate'], device, hidden_size=config[0]['hidden_size'], kernel_size=7, input_channels=config[0]['input_channels']).to(device)\n",
    "ca2 = BasicNCA3D(config[0]['channel_n'], config[0]['cell_fire_rate'], device, hidden_size=config[0]['hidden_size'], kernel_size=3, input_channels=config[0]['input_channels']).to(device)\n",
    "ca = [ca1, ca2]\n",
    "agent = Agent_M3D_NCA(ca)\n",
    "exp = Experiment(config, dataset, ca, agent)\n",
    "dataset.set_experiment(exp)\n",
    "exp.set_model_state('train')\n",
    "data_loader = torch.utils.data.DataLoader(dataset, shuffle=True, batch_size=exp.get_from_config('batch_size'))\n",
    "\n",
    "loss_function = DiceFocalLoss() "
   ]
  },
  {
   "attachments": {},
   "cell_type": "markdown",
   "metadata": {},
   "source": [
    "## _4. Run training_"
   ]
  },
  {
   "cell_type": "code",
   "execution_count": null,
   "metadata": {},
   "outputs": [],
   "source": [
    "agent.train(data_loader, loss_function)"
   ]
  },
  {
   "attachments": {},
   "cell_type": "markdown",
   "metadata": {},
   "source": [
    "## _5. Evaluate test data_"
   ]
  },
  {
   "cell_type": "code",
   "execution_count": null,
   "metadata": {},
   "outputs": [],
   "source": [
    "agent.getAverageDiceScore()"
   ]
  }
 ],
 "metadata": {
  "kernelspec": {
   "display_name": "NCA",
   "language": "python",
   "name": "python3"
  },
  "language_info": {
   "codemirror_mode": {
    "name": "ipython",
    "version": 3
   },
   "file_extension": ".py",
   "mimetype": "text/x-python",
   "name": "python",
   "nbconvert_exporter": "python",
   "pygments_lexer": "ipython3",
   "version": "3.10.11"
  },
  "orig_nbformat": 4,
  "vscode": {
   "interpreter": {
    "hash": "c6635efb78202fbdfae87e948587324e55e71e265e0cd827d1e5c05e66be9040"
   }
  }
 },
 "nbformat": 4,
 "nbformat_minor": 2
}
