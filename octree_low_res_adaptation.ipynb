{
 "cells": [
  {
   "cell_type": "code",
   "execution_count": 1,
   "metadata": {},
   "outputs": [],
   "source": [
    "import numpy as np\n",
    "import torch\n",
    "import matplotlib.pyplot as plt\n",
    "import einops\n",
    "from src.models.Model_OctreeNCAV2 import OctreeNCAV2\n",
    "from src.losses.LossFunctions import DiceBCELoss"
   ]
  },
  {
   "cell_type": "code",
   "execution_count": 25,
   "metadata": {},
   "outputs": [
    {
     "data": {
      "text/plain": [
       "<matplotlib.image.AxesImage at 0x7b34d1f1d510>"
      ]
     },
     "execution_count": 25,
     "metadata": {},
     "output_type": "execute_result"
    },
    {
     "data": {
      "image/png": "[encoded data removed]",
      "text/plain": [
       "<Figure size 640x480 with 1 Axes>"
      ]
     },
     "metadata": {},
     "output_type": "display_data"
    }
   ],
   "source": [
    "def create_sample(segmentation_padding: int):\n",
    "    sample_width, sample_height = 16, 8\n",
    "    sample = np.zeros((1, sample_width, sample_height, 1))\n",
    "    segmentation = np.zeros((1, sample_width, sample_height, 1))\n",
    "    bar_width = 1\n",
    "    bar_height = 4\n",
    "    x_start, y_start = np.random.randint(0, sample_width - bar_width), np.random.randint(0, sample_height - bar_height)\n",
    "    sample[0, x_start:x_start + bar_width, y_start:y_start + bar_height, 0] = 1\n",
    "    segmentation[0, max(x_start - segmentation_padding, 0):min(x_start + bar_width + segmentation_padding, 16),\n",
    "                max(y_start - segmentation_padding, 0):min(y_start + bar_height + segmentation_padding, 16)] = 1\n",
    "    return sample, segmentation\n",
    "\n",
    "sample, segmentation = create_sample(0)\n",
    "plt.imshow(sample[0, :, :, 0], cmap='gray')\n",
    "plt.imshow(segmentation[0, :, :, 0], cmap='jet', alpha=0.5)"
   ]
  },
  {
   "cell_type": "code",
   "execution_count": 52,
   "metadata": {},
   "outputs": [],
   "source": [
    "model = OctreeNCAV2(channel_n=4, fire_rate=0.5, \n",
    "                          device=\"cuda:0\", hidden_size=24, \n",
    "                          input_channels=1, output_channels=1, \n",
    "                          steps=None, \n",
    "                          #octree_res_and_steps=[((16,8), 5), ((8,8), 5), ((4,4), 5), ((2,2), 5)],\n",
    "                          octree_res_and_steps=[((16,8), 5)],\n",
    "                          separate_models=False, compile=False, kernel_size=3)\n",
    "model = model.to(model.device)\n",
    "optimizer = torch.optim.Adam(model.parameters(), lr=0.001)\n",
    "scheduler = torch.optim.lr_scheduler.ExponentialLR(optimizer, 0.99999)\n",
    "loss_function = DiceBCELoss()"
   ]
  },
  {
   "cell_type": "code",
   "execution_count": 60,
   "metadata": {},
   "outputs": [
    {
     "name": "stderr",
     "output_type": "stream",
     "text": [
      "/home/nlemke/remote/miniconda3/envs/nca3/lib/python3.10/site-packages/torch/autograd/graph.py:744: UserWarning: Plan failed with a cudnnException: CUDNN_BACKEND_EXECUTION_PLAN_DESCRIPTOR: cudnnFinalize Descriptor Failed cudnn_status: CUDNN_STATUS_NOT_SUPPORTED (Triggered internally at ../aten/src/ATen/native/cudnn/Conv_v8.cpp:919.)\n",
      "  return Variable._execution_engine.run_backward(  # Calls into the C++ engine to run the backward pass\n"
     ]
    },
    {
     "name": "stdout",
     "output_type": "stream",
     "text": [
      "Epoch 0 Loss: 0.91, lr: 0.0009\n",
      "Epoch 100 Loss: 0.84, lr: 0.0009\n",
      "Epoch 200 Loss: 1.2, lr: 0.0009\n",
      "Epoch 300 Loss: 0.94, lr: 0.0009\n",
      "Epoch 400 Loss: 1.2, lr: 0.0009\n",
      "Epoch 500 Loss: 1.1, lr: 0.0009\n",
      "Epoch 600 Loss: 0.79, lr: 0.0009\n",
      "Epoch 700 Loss: 1.0, lr: 0.0009\n",
      "Epoch 800 Loss: 0.91, lr: 0.0009\n",
      "Epoch 900 Loss: 0.75, lr: 0.0009\n",
      "Epoch 1000 Loss: 0.9, lr: 0.0009\n",
      "Epoch 1100 Loss: 1.1, lr: 0.00089\n",
      "Epoch 1200 Loss: 1.2, lr: 0.00089\n",
      "Epoch 1300 Loss: 1.1, lr: 0.00089\n",
      "Epoch 1400 Loss: 0.86, lr: 0.00089\n",
      "Epoch 1500 Loss: 0.66, lr: 0.00089\n",
      "Epoch 1600 Loss: 1.2, lr: 0.00089\n",
      "Epoch 1700 Loss: 0.8, lr: 0.00089\n",
      "Epoch 1800 Loss: 1.0, lr: 0.00089\n",
      "Epoch 1900 Loss: 1.2, lr: 0.00089\n",
      "Epoch 2000 Loss: 1.2, lr: 0.00089\n",
      "Epoch 2100 Loss: 1.1, lr: 0.00089\n",
      "Epoch 2200 Loss: 1.1, lr: 0.00089\n",
      "Epoch 2300 Loss: 0.88, lr: 0.00088\n",
      "Epoch 2400 Loss: 0.95, lr: 0.00088\n",
      "Epoch 2500 Loss: 0.96, lr: 0.00088\n",
      "Epoch 2600 Loss: 0.98, lr: 0.00088\n",
      "Epoch 2700 Loss: 0.92, lr: 0.00088\n",
      "Epoch 2800 Loss: 1.0, lr: 0.00088\n",
      "Epoch 2900 Loss: 0.95, lr: 0.00088\n",
      "Epoch 3000 Loss: 0.95, lr: 0.00088\n",
      "Epoch 3100 Loss: 0.77, lr: 0.00088\n",
      "Epoch 3200 Loss: 0.8, lr: 0.00088\n",
      "Epoch 3300 Loss: 1.2, lr: 0.00088\n",
      "Epoch 3400 Loss: 1.1, lr: 0.00087\n",
      "Epoch 3500 Loss: 0.7, lr: 0.00087\n",
      "Epoch 3600 Loss: 0.91, lr: 0.00087\n",
      "Epoch 3700 Loss: 0.93, lr: 0.00087\n",
      "Epoch 3800 Loss: 0.98, lr: 0.00087\n",
      "Epoch 3900 Loss: 0.96, lr: 0.00087\n",
      "Epoch 4000 Loss: 0.93, lr: 0.00087\n",
      "Epoch 4100 Loss: 1.1, lr: 0.00087\n",
      "Epoch 4200 Loss: 0.59, lr: 0.00087\n",
      "Epoch 4300 Loss: 1.1, lr: 0.00087\n",
      "Epoch 4400 Loss: 0.91, lr: 0.00087\n",
      "Epoch 4500 Loss: 0.91, lr: 0.00087\n",
      "Epoch 4600 Loss: 0.84, lr: 0.00086\n",
      "Epoch 4700 Loss: 0.87, lr: 0.00086\n",
      "Epoch 4800 Loss: 0.93, lr: 0.00086\n",
      "Epoch 4900 Loss: 0.98, lr: 0.00086\n",
      "Epoch 5000 Loss: 0.93, lr: 0.00086\n",
      "Epoch 5100 Loss: 0.85, lr: 0.00086\n",
      "Epoch 5200 Loss: 0.88, lr: 0.00086\n",
      "Epoch 5300 Loss: 1.0, lr: 0.00086\n",
      "Epoch 5400 Loss: 0.89, lr: 0.00086\n",
      "Epoch 5500 Loss: 0.88, lr: 0.00086\n",
      "Epoch 5600 Loss: 1.0, lr: 0.00086\n",
      "Epoch 5700 Loss: 0.97, lr: 0.00085\n",
      "Epoch 5800 Loss: 0.69, lr: 0.00085\n",
      "Epoch 5900 Loss: 0.92, lr: 0.00085\n",
      "Epoch 6000 Loss: 0.78, lr: 0.00085\n",
      "Epoch 6100 Loss: 0.99, lr: 0.00085\n",
      "Epoch 6200 Loss: 0.83, lr: 0.00085\n",
      "Epoch 6300 Loss: 1.2, lr: 0.00085\n",
      "Epoch 6400 Loss: 1.0, lr: 0.00085\n",
      "Epoch 6500 Loss: 0.93, lr: 0.00085\n",
      "Epoch 6600 Loss: 0.73, lr: 0.00085\n",
      "Epoch 6700 Loss: 0.84, lr: 0.00085\n",
      "Epoch 6800 Loss: 0.67, lr: 0.00085\n",
      "Epoch 6900 Loss: 1.2, lr: 0.00084\n",
      "Epoch 7000 Loss: 0.92, lr: 0.00084\n",
      "Epoch 7100 Loss: 0.96, lr: 0.00084\n",
      "Epoch 7200 Loss: 1.0, lr: 0.00084\n",
      "Epoch 7300 Loss: 0.73, lr: 0.00084\n",
      "Epoch 7400 Loss: 0.72, lr: 0.00084\n",
      "Epoch 7500 Loss: 1.1, lr: 0.00084\n",
      "Epoch 7600 Loss: 1.2, lr: 0.00084\n",
      "Epoch 7700 Loss: 0.96, lr: 0.00084\n",
      "Epoch 7800 Loss: 0.87, lr: 0.00084\n",
      "Epoch 7900 Loss: 0.92, lr: 0.00084\n",
      "Epoch 8000 Loss: 0.76, lr: 0.00084\n",
      "Epoch 8100 Loss: 0.68, lr: 0.00083\n",
      "Epoch 8200 Loss: 1.0, lr: 0.00083\n",
      "Epoch 8300 Loss: 1.1, lr: 0.00083\n",
      "Epoch 8400 Loss: 0.71, lr: 0.00083\n",
      "Epoch 8500 Loss: 0.95, lr: 0.00083\n",
      "Epoch 8600 Loss: 0.85, lr: 0.00083\n",
      "Epoch 8700 Loss: 0.88, lr: 0.00083\n",
      "Epoch 8800 Loss: 0.75, lr: 0.00083\n",
      "Epoch 8900 Loss: 0.95, lr: 0.00083\n",
      "Epoch 9000 Loss: 0.75, lr: 0.00083\n",
      "Epoch 9100 Loss: 0.76, lr: 0.00083\n",
      "Epoch 9200 Loss: 0.86, lr: 0.00083\n",
      "Epoch 9300 Loss: 1.1, lr: 0.00082\n",
      "Epoch 9400 Loss: 1.0, lr: 0.00082\n",
      "Epoch 9500 Loss: 0.97, lr: 0.00082\n",
      "Epoch 9600 Loss: 0.8, lr: 0.00082\n",
      "Epoch 9700 Loss: 0.94, lr: 0.00082\n",
      "Epoch 9800 Loss: 0.85, lr: 0.00082\n",
      "Epoch 9900 Loss: 0.93, lr: 0.00082\n"
     ]
    }
   ],
   "source": [
    "for i in range(10000):\n",
    "    sample_batch, segmentation_batch = [], []\n",
    "    for b in range(3):\n",
    "        sample, segmentation = create_sample(0)\n",
    "        sample = einops.rearrange(sample, 'b h w c -> b c h w')\n",
    "        segmentation = einops.rearrange(segmentation, 'b h w c -> b c h w')\n",
    "        sample = torch.tensor(sample, dtype=torch.float32, device=model.device)\n",
    "        segmentation = torch.tensor(segmentation, dtype=torch.float32, device=model.device)\n",
    "        sample_batch.append(sample)\n",
    "        segmentation_batch.append(segmentation)\n",
    "    sample = torch.cat(sample_batch, dim=0)\n",
    "    segmentation = torch.cat(segmentation_batch, dim=0)\n",
    "    optimizer.zero_grad()\n",
    "    out = model(sample, segmentation)\n",
    "    loss = loss_function(out[0], out[1])\n",
    "    loss.backward()\n",
    "    optimizer.step()\n",
    "    scheduler.step()\n",
    "    if i % 100 == 0:\n",
    "        print(f\"Epoch {i} Loss: {loss.item():.2}, lr: {scheduler.get_last_lr()[0]:.2}\")"
   ]
  },
  {
   "cell_type": "code",
   "execution_count": 58,
   "metadata": {},
   "outputs": [],
   "source": [
    "sample, segmentation = create_sample(0)\n",
    "sample = einops.rearrange(sample, 'b h w c -> b c h w')\n",
    "segmentation = einops.rearrange(segmentation, 'b h w c -> b c h w')\n",
    "sample = torch.tensor(sample, dtype=torch.float32)\n",
    "segmentation = torch.tensor(segmentation, dtype=torch.float32)\n",
    "out = model(sample, segmentation)"
   ]
  },
  {
   "cell_type": "code",
   "execution_count": 59,
   "metadata": {},
   "outputs": [
    {
     "data": {
      "text/plain": [
       "<matplotlib.image.AxesImage at 0x7b33d7ae3a90>"
      ]
     },
     "execution_count": 59,
     "metadata": {},
     "output_type": "execute_result"
    },
    {
     "data": {
      "image/png": "[encoded data removed]",
      "text/plain": [
       "<Figure size 640x480 with 1 Axes>"
      ]
     },
     "metadata": {},
     "output_type": "display_data"
    }
   ],
   "source": [
    "plt.imshow(sample[0].detach().cpu().numpy()[0, :, :], cmap='gray')\n",
    "plt.imshow(out[0].detach().cpu().numpy()[0, :, :, :], cmap='jet', alpha=0.5)"
   ]
  },
  {
   "cell_type": "code",
   "execution_count": null,
   "metadata": {},
   "outputs": [],
   "source": []
  }
 ],
 "metadata": {
  "kernelspec": {
   "display_name": "Python 3",
   "language": "python",
   "name": "python3"
  },
  "language_info": {
   "codemirror_mode": {
    "name": "ipython",
    "version": 3
   },
   "file_extension": ".py",
   "mimetype": "text/x-python",
   "name": "python",
   "nbconvert_exporter": "python",
   "pygments_lexer": "ipython3",
   "version": "3.10.14"
  }
 },
 "nbformat": 4,
 "nbformat_minor": 2
}
