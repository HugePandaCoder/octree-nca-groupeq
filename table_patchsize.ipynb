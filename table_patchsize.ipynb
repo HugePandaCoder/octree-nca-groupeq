{
 "cells": [
  {
   "cell_type": "code",
   "execution_count": 2,
   "metadata": {},
   "outputs": [],
   "source": [
    "import pandas as pd, os, json"
   ]
  },
  {
   "cell_type": "code",
   "execution_count": 3,
   "metadata": {},
   "outputs": [],
   "source": [
    "ROOT_FOLDER = \"/local/scratch/clmn1/octree_study_new/Experiments\""
   ]
  },
  {
   "cell_type": "code",
   "execution_count": 6,
   "metadata": {},
   "outputs": [],
   "source": [
    "def get_results(path):\n",
    "    seg_results = pd.read_csv(path, sep=\"\\t\")\n",
    "    mean_dice = seg_results.mean(numeric_only=True)#[\"DiceScore/0\"]\n",
    "\n",
    "    mean_dice = mean_dice.filter(like=\"DiceScore\").mean()\n",
    "    return mean_dice"
   ]
  },
  {
   "cell_type": "code",
   "execution_count": 10,
   "metadata": {},
   "outputs": [
    {
     "name": "stdout",
     "output_type": "stream",
     "text": [
      "NCA\t 0.8557861602317812\n",
      "NCAp\t 0.85472501217049\n",
      "UNet\t 0.8278858068629864\n",
      "UNetp\t 0.8244295943346005\n"
     ]
    }
   ],
   "source": [
    "print(\"NCA\\t\", get_results(os.path.join(ROOT_FOLDER, \"pesofAbl_none_5_1.0_16_3_1.0_0.99_OctreeNCA2DSegmentation\", \"eval\", \"standard.csv\")))\n",
    "print(\"NCAp\\t\", get_results(os.path.join(ROOT_FOLDER, \"pesofAbl_none_5_1.0_16_3_1.0_0.99_OctreeNCA2DSegmentation\", \"eval\", \"standard_patchsize.csv\")))\n",
    "print(\"UNet\\t\", get_results(os.path.join(ROOT_FOLDER, \"peso_unet_UNet2DSegmentation\", \"eval\", \"standard.csv\")))\n",
    "print(\"UNetp\\t\", get_results(os.path.join(ROOT_FOLDER, \"peso_unet_UNet2DSegmentation\", \"eval\", \"standard_patchsize.csv\")))"
   ]
  }
 ],
 "metadata": {
  "kernelspec": {
   "display_name": "Python 3",
   "language": "python",
   "name": "python3"
  },
  "language_info": {
   "codemirror_mode": {
    "name": "ipython",
    "version": 3
   },
   "file_extension": ".py",
   "mimetype": "text/x-python",
   "name": "python",
   "nbconvert_exporter": "python",
   "pygments_lexer": "ipython3",
   "version": "3.10.14"
  }
 },
 "nbformat": 4,
 "nbformat_minor": 2
}
