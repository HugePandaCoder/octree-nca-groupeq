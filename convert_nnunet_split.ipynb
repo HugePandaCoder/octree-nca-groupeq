{
 "cells": [
  {
   "cell_type": "code",
   "execution_count": 1,
   "metadata": {},
   "outputs": [],
   "source": [
    "import pickle as pkl"
   ]
  },
  {
   "cell_type": "code",
   "execution_count": 2,
   "metadata": {},
   "outputs": [],
   "source": [
    "FOLD = 0\n",
    "MERGE_TRAIN_VAL = True"
   ]
  },
  {
   "cell_type": "code",
   "execution_count": 3,
   "metadata": {},
   "outputs": [],
   "source": [
    "in_split = pkl.load(open(\"/local/scratch/clmn1/cardiacProstate/nnUnet_preprocessed/Task506_Prostate_MEDSeg_split/splits_final.pkl\" ,\"rb\"))\n",
    "in_split = in_split[FOLD]\n",
    "out_split = {\n",
    "    'test': list(in_split['test'])\n",
    "}\n",
    "if MERGE_TRAIN_VAL:\n",
    "    out_split['val'] = []\n",
    "    out_split['train'] = list(in_split['val']) + list(in_split['train'])\n",
    "\n",
    "out_split['test'] = list(map(lambda x: f\"{x}.nii.gz\", out_split['test']))\n",
    "out_split['val'] = list(map(lambda x: f\"{x}.nii.gz\", out_split['val']))\n",
    "out_split['train'] = list(map(lambda x: f\"{x}.nii.gz\", out_split['train']))"
   ]
  },
  {
   "cell_type": "code",
   "execution_count": 4,
   "metadata": {},
   "outputs": [
    {
     "data": {
      "text/plain": [
       "{'test': ['prostate_41.nii.gz',\n",
       "  'prostate_28.nii.gz',\n",
       "  'prostate_47.nii.gz',\n",
       "  'prostate_34.nii.gz',\n",
       "  'prostate_13.nii.gz',\n",
       "  'prostate_32.nii.gz',\n",
       "  'prostate_06.nii.gz'],\n",
       " 'val': [],\n",
       " 'train': ['prostate_00.nii.gz',\n",
       "  'prostate_04.nii.gz',\n",
       "  'prostate_14.nii.gz',\n",
       "  'prostate_20.nii.gz',\n",
       "  'prostate_25.nii.gz',\n",
       "  'prostate_31.nii.gz',\n",
       "  'prostate_42.nii.gz',\n",
       "  'prostate_18.nii.gz',\n",
       "  'prostate_37.nii.gz',\n",
       "  'prostate_24.nii.gz',\n",
       "  'prostate_01.nii.gz',\n",
       "  'prostate_38.nii.gz',\n",
       "  'prostate_44.nii.gz',\n",
       "  'prostate_16.nii.gz',\n",
       "  'prostate_46.nii.gz',\n",
       "  'prostate_39.nii.gz',\n",
       "  'prostate_43.nii.gz',\n",
       "  'prostate_29.nii.gz',\n",
       "  'prostate_21.nii.gz',\n",
       "  'prostate_40.nii.gz',\n",
       "  'prostate_10.nii.gz',\n",
       "  'prostate_02.nii.gz',\n",
       "  'prostate_17.nii.gz',\n",
       "  'prostate_07.nii.gz',\n",
       "  'prostate_35.nii.gz']}"
      ]
     },
     "execution_count": 4,
     "metadata": {},
     "output_type": "execute_result"
    }
   ],
   "source": [
    "out_split"
   ]
  },
  {
   "cell_type": "code",
   "execution_count": 20,
   "metadata": {},
   "outputs": [],
   "source": [
    "pkl.dump(out_split, open(f\"/local/scratch/clmn1/octree_study/nnunet_split_{FOLD}.pkl\", \"wb\"), protocol=pkl.HIGHEST_PROTOCOL)"
   ]
  },
  {
   "cell_type": "code",
   "execution_count": 3,
   "metadata": {},
   "outputs": [
    {
     "data": {
      "text/plain": [
       "{'val': array(['prostate_00', 'prostate_04', 'prostate_14', 'prostate_20',\n",
       "        'prostate_25', 'prostate_31', 'prostate_42'], dtype='<U11'),\n",
       " 'test': array(['prostate_41', 'prostate_28', 'prostate_47', 'prostate_34',\n",
       "        'prostate_13', 'prostate_32', 'prostate_06'], dtype='<U11'),\n",
       " 'train': array(['prostate_18', 'prostate_37', 'prostate_24', 'prostate_01',\n",
       "        'prostate_38', 'prostate_44', 'prostate_16', 'prostate_46',\n",
       "        'prostate_39', 'prostate_43', 'prostate_29', 'prostate_21',\n",
       "        'prostate_40', 'prostate_10', 'prostate_02', 'prostate_17',\n",
       "        'prostate_07', 'prostate_35'], dtype='<U11')}"
      ]
     },
     "execution_count": 3,
     "metadata": {},
     "output_type": "execute_result"
    }
   ],
   "source": [
    "in_split = pkl.load(open(\"/local/scratch/clmn1/cardiacProstate/nnUnet_preprocessed/Task506_Prostate_MEDSeg_split/splits_final.pkl\" ,\"rb\"))\n",
    "in_split[0]"
   ]
  }
 ],
 "metadata": {
  "kernelspec": {
   "display_name": "Python 3",
   "language": "python",
   "name": "python3"
  },
  "language_info": {
   "codemirror_mode": {
    "name": "ipython",
    "version": 3
   },
   "file_extension": ".py",
   "mimetype": "text/x-python",
   "name": "python",
   "nbconvert_exporter": "python",
   "pygments_lexer": "ipython3",
   "version": "3.10.14"
  }
 },
 "nbformat": 4,
 "nbformat_minor": 2
}
