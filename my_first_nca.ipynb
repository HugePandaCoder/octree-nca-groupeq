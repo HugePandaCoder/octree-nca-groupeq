{
 "cells": [
  {
   "cell_type": "code",
   "execution_count": 1,
   "metadata": {},
   "outputs": [],
   "source": [
    "import torch, einops\n",
    "import torch.nn as nn\n",
    "import torch.nn.functional as F\n",
    "import timeit"
   ]
  },
  {
   "cell_type": "code",
   "execution_count": 8,
   "metadata": {},
   "outputs": [
    {
     "name": "stdout",
     "output_type": "stream",
     "text": [
      "num params: 3232\n",
      "num params: 3232\n"
     ]
    },
    {
     "data": {
      "text/plain": [
       "11.568120243959129"
      ]
     },
     "execution_count": 8,
     "metadata": {},
     "output_type": "execute_result"
    }
   ],
   "source": [
    "class MyNCA2D(nn.Module):\n",
    "    def __init__(self, num_channels: int, num_input_channels: int, num_classes: int,\n",
    "                 hidden_size: int, fire_rate: float, num_steps: int):\n",
    "        super(MyNCA2D, self).__init__()\n",
    "\n",
    "        self.fc0 = nn.Linear(2 * num_channels, hidden_size)\n",
    "        self.fc1 = nn.Linear(hidden_size, num_channels - num_input_channels, bias=False)\n",
    "\n",
    "        self.conv = nn.Conv2d(num_channels, num_channels, kernel_size=3, padding='same', \n",
    "                              padding_mode=\"reflect\", groups=num_channels)\n",
    "        self.batch_norm = nn.BatchNorm2d(hidden_size, track_running_stats=False)\n",
    "\n",
    "        with torch.no_grad():\n",
    "            self.fc0.weight.zero_()\n",
    "\n",
    "        self.fire_rate = fire_rate\n",
    "        self.num_channels = num_channels\n",
    "        self.num_input_channels = num_input_channels\n",
    "        self.num_steps = num_steps\n",
    "        self.num_classes = num_classes\n",
    "\n",
    "    def update(self, state):\n",
    "        delta_state = self.conv(state)\n",
    "        delta_state = torch.cat([state, delta_state], dim=1)\n",
    "        delta_state = einops.rearrange(delta_state, 'b c h w -> b h w c')\n",
    "        delta_state = self.fc0(delta_state)\n",
    "        delta_state = einops.rearrange(delta_state, 'b h w c -> b c h w')\n",
    "        delta_state = self.batch_norm(delta_state)\n",
    "        delta_state = einops.rearrange(delta_state, 'b c h w -> b h w c')\n",
    "        delta_state = F.relu(delta_state)\n",
    "        delta_state = self.fc1(delta_state)\n",
    "\n",
    "        stochastic = torch.rand((delta_state.shape[0], delta_state.shape[1], delta_state.shape[2], 1), \n",
    "                                device=delta_state.device)\n",
    "        stochastic = stochastic > 1 - self.fire_rate\n",
    "        stochastic = stochastic.float()\n",
    "        delta_state = delta_state * stochastic\n",
    "\n",
    "        delta_state = einops.rearrange(delta_state, 'b h w c -> b c h w')\n",
    "\n",
    "        return state[:, self.num_input_channels:] + delta_state\n",
    "        \n",
    "\n",
    "\n",
    "    def forward(self, x):\n",
    "        state = torch.zeros(x.shape[0], self.num_channels - self.num_input_channels,\n",
    "                            x.shape[2], x.shape[3], device=x.device)\n",
    "        state = torch.cat([x, state], dim=1)\n",
    "        # state.shape: BCHW\n",
    "        for _ in range(self.num_steps):\n",
    "            new_state = self.update(state)\n",
    "            state = torch.cat([x, new_state], dim=1)\n",
    "        return state[:, self.num_input_channels:self.num_input_channels + self.num_classes]\n",
    "\n",
    "\n",
    "nca = MyNCA2D(num_channels=16, num_input_channels=3, num_classes=2, hidden_size=64, \n",
    "              fire_rate=0.5, num_steps=10)\n",
    "\n",
    "print(\"num params:\", sum(p.numel() for p in nca.parameters()))\n",
    "\n",
    "x = torch.randn(1, 3, 32, 32) # create random 32x32 RGB image\n",
    "y = nca(x)\n",
    "\n",
    "optimizer = torch.optim.Adam(nca.parameters(), lr=1e-3)\n",
    "def dummy_train():\n",
    "    x = torch.randn(1, 3, 32, 32) # create random 32x32 RGB image\n",
    "    y = nca(x)\n",
    "    y.mean().backward() # backpropagate\n",
    "    optimizer.step()\n",
    "    optimizer.zero_grad()\n",
    "\n",
    "timeit.Timer(dummy_train).timeit(number=1000) # ~11.28s on my laptop"
   ]
  },
  {
   "cell_type": "code",
   "execution_count": 7,
   "metadata": {},
   "outputs": [
    {
     "name": "stdout",
     "output_type": "stream",
     "text": [
      "num params: 3232\n",
      "num params: 3232\n"
     ]
    },
    {
     "data": {
      "text/plain": [
       "11.21252716705203"
      ]
     },
     "execution_count": 7,
     "metadata": {},
     "output_type": "execute_result"
    }
   ],
   "source": [
    "class MyNCA2D(nn.Module):\n",
    "    def __init__(self, num_channels: int, num_input_channels: int, num_classes: int,\n",
    "                 hidden_size: int, fire_rate: float, num_steps: int):\n",
    "        super(MyNCA2D, self).__init__()\n",
    "\n",
    "        self.fc0 = nn.Conv2d(2 * num_channels, hidden_size, kernel_size=1)\n",
    "        self.fc1 = nn.Conv2d(hidden_size, num_channels - num_input_channels, kernel_size=1, bias=False)\n",
    "\n",
    "        self.conv = nn.Conv2d(num_channels, num_channels, kernel_size=3, padding='same', \n",
    "                              padding_mode=\"reflect\", groups=num_channels)\n",
    "        self.batch_norm = nn.BatchNorm2d(hidden_size, track_running_stats=False)\n",
    "\n",
    "        with torch.no_grad():\n",
    "            self.fc0.weight.zero_()\n",
    "\n",
    "        self.fire_rate = fire_rate\n",
    "        self.num_channels = num_channels\n",
    "        self.num_input_channels = num_input_channels\n",
    "        self.num_steps = num_steps\n",
    "        self.num_classes = num_classes\n",
    "\n",
    "    def update(self, state):\n",
    "        # state.shape: BCHW\n",
    "        delta_state = self.conv(state)\n",
    "        delta_state = torch.cat([state, delta_state], dim=1)\n",
    "        delta_state = self.fc0(delta_state)\n",
    "        delta_state = self.batch_norm(delta_state)\n",
    "        delta_state = F.relu(delta_state)\n",
    "        delta_state = self.fc1(delta_state)\n",
    "\n",
    "        stochastic = torch.rand((delta_state.shape[0], delta_state.shape[1], delta_state.shape[2], 1), \n",
    "                                device=delta_state.device)\n",
    "        stochastic = stochastic > 1 - self.fire_rate\n",
    "        stochastic = stochastic.float()\n",
    "        delta_state = delta_state * stochastic\n",
    "\n",
    "        return state[:, self.num_input_channels:] + delta_state\n",
    "        \n",
    "\n",
    "\n",
    "    def forward(self, x):\n",
    "        # x.shape: BCHW\n",
    "        state = torch.zeros(x.shape[0], self.num_channels - self.num_input_channels,\n",
    "                            x.shape[2], x.shape[3], device=x.device)\n",
    "        state = torch.cat([x, state], dim=1)\n",
    "        for _ in range(self.num_steps):\n",
    "            new_state = self.update(state)\n",
    "            state = torch.cat([x, new_state], dim=1)\n",
    "        return state[:, self.num_input_channels:self.num_input_channels + self.num_classes]\n",
    "\n",
    "\n",
    "nca = MyNCA2D(num_channels=16, num_input_channels=3, num_classes=2, hidden_size=64, \n",
    "              fire_rate=0.5, num_steps=10)\n",
    "\n",
    "print(\"num params:\", sum(p.numel() for p in nca.parameters()))\n",
    "\n",
    "\n",
    "optimizer = torch.optim.Adam(nca.parameters(), lr=1e-3)\n",
    "def dummy_train():\n",
    "    x = torch.randn(1, 3, 32, 32) # create random 32x32 RGB image\n",
    "    y = nca(x)\n",
    "    y.mean().backward() # backpropagate\n",
    "    optimizer.step()\n",
    "    optimizer.zero_grad()\n",
    "\n",
    "timeit.Timer(dummy_train).timeit(number=1000) # ~11.28s on my laptop\n"
   ]
  },
  {
   "cell_type": "code",
   "execution_count": 6,
   "metadata": {},
   "outputs": [
    {
     "name": "stdout",
     "output_type": "stream",
     "text": [
      "num params: 3232\n"
     ]
    },
    {
     "data": {
      "text/plain": [
       "11.289678088854998"
      ]
     },
     "execution_count": 6,
     "metadata": {},
     "output_type": "execute_result"
    }
   ],
   "source": [
    "class MyNCA2D(nn.Module):\n",
    "    def __init__(self, num_channels: int, num_input_channels: int, num_classes: int,\n",
    "                 hidden_size: int, fire_rate: float, num_steps: int):\n",
    "        super(MyNCA2D, self).__init__()\n",
    "\n",
    "        self.fc0 = nn.Conv2d(2 * num_channels, hidden_size, kernel_size=1)\n",
    "        self.fc1 = nn.Conv2d(hidden_size, num_channels - num_input_channels, kernel_size=1, bias=False)\n",
    "\n",
    "        self.conv_input = nn.Conv2d(num_input_channels, num_input_channels, kernel_size=3, padding='same', \n",
    "                              padding_mode=\"reflect\", groups=num_input_channels)\n",
    "        num_state_channels = num_channels - num_input_channels\n",
    "        self.conv_channels = nn.Conv2d(num_state_channels, num_state_channels, kernel_size=3, padding='same', \n",
    "                              padding_mode=\"reflect\", groups=num_state_channels)\n",
    "        \n",
    "\n",
    "        self.batch_norm = nn.BatchNorm2d(hidden_size, track_running_stats=False)\n",
    "\n",
    "        with torch.no_grad():\n",
    "            self.fc0.weight.zero_()\n",
    "\n",
    "        self.fire_rate = fire_rate\n",
    "        self.num_channels = num_channels\n",
    "        self.num_input_channels = num_input_channels\n",
    "        self.num_steps = num_steps\n",
    "        self.num_classes = num_classes\n",
    "\n",
    "    def forward(self, x):\n",
    "        # x.shape: BCHW\n",
    "        state = torch.zeros(x.shape[0], self.num_channels - self.num_input_channels,\n",
    "                            x.shape[2], x.shape[3], device=x.device)\n",
    "\n",
    "        x_convolved = self.conv_input(x)\n",
    "\n",
    "        for _ in range(self.num_steps):\n",
    "            \n",
    "            state_convolved = self.conv_channels(state)\n",
    "            delta_state = torch.cat([x, state, x_convolved, state_convolved], dim=1)\n",
    "            delta_state = self.fc0(delta_state)\n",
    "            delta_state = self.batch_norm(delta_state)\n",
    "            delta_state = F.relu(delta_state)\n",
    "            delta_state = self.fc1(delta_state)\n",
    "\n",
    "            stochastic = torch.rand((delta_state.shape[0], delta_state.shape[1], delta_state.shape[2], 1), \n",
    "                                    device=delta_state.device)\n",
    "            stochastic = stochastic > 1 - self.fire_rate\n",
    "            stochastic = stochastic.float()\n",
    "            delta_state = delta_state * stochastic\n",
    "\n",
    "            state = state + delta_state\n",
    "\n",
    "        return state[:, :self.num_classes]\n",
    "\n",
    "\n",
    "nca = MyNCA2D(num_channels=16, num_input_channels=3, num_classes=2, hidden_size=64, \n",
    "              fire_rate=0.5, num_steps=10)\n",
    "\n",
    "optimizer = torch.optim.Adam(nca.parameters(), lr=1e-3)\n",
    "\n",
    "print(\"num params:\", sum(p.numel() for p in nca.parameters()))\n",
    "def dummy_train():\n",
    "    x = torch.randn(1, 3, 32, 32) # create random 32x32 RGB image\n",
    "    y = nca(x)\n",
    "    y.mean().backward() # backpropagate\n",
    "    optimizer.step()\n",
    "    optimizer.zero_grad()\n",
    "\n",
    "timeit.Timer(dummy_train).timeit(number=1000) # ~11.28s on my laptop\n"
   ]
  }
 ],
 "metadata": {
  "kernelspec": {
   "display_name": "Python 3",
   "language": "python",
   "name": "python3"
  },
  "language_info": {
   "codemirror_mode": {
    "name": "ipython",
    "version": 3
   },
   "file_extension": ".py",
   "mimetype": "text/x-python",
   "name": "python",
   "nbconvert_exporter": "python",
   "pygments_lexer": "ipython3",
   "version": "3.10.14"
  }
 },
 "nbformat": 4,
 "nbformat_minor": 2
}
