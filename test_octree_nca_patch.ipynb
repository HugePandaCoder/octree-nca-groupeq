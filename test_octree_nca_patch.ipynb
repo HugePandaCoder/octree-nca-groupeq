{
 "cells": [
  {
   "cell_type": "code",
   "execution_count": 1,
   "metadata": {},
   "outputs": [
    {
     "name": "stderr",
     "output_type": "stream",
     "text": [
      "/home/nlemke/remote/miniconda3/envs/nca/lib/python3.10/site-packages/tqdm/auto.py:21: TqdmWarning: IProgress not found. Please update jupyter and ipywidgets. See https://ipywidgets.readthedocs.io/en/stable/user_install.html\n",
      "  from .autonotebook import tqdm as notebook_tqdm\n"
     ]
    }
   ],
   "source": [
    "from matplotlib import pyplot as plt\n",
    "from src.datasets.Nii_Gz_Dataset_3D import Dataset_NiiGz_3D\n",
    "from src.datasets.Nii_Gz_Dataset_3D_customPath import Dataset_NiiGz_3D_customPath\n",
    "from src.models.Model_M3DNCA import M3DNCA\n",
    "from src.agents.Agent_M3DNCA_Simple import M3DNCAAgent\n",
    "from src.losses.LossFunctions import DiceFocalLoss\n",
    "from src.utils.Study import Study\n",
    "from src.utils.ProjectConfiguration import ProjectConfiguration\n",
    "from src.utils.BaselineConfigs import EXP_OctreeNCA3D, EXP_UNet2D, EXP_M3DNCA, EXP_TransUNet, EXP_MEDNCA, EXP_OctreeNCA, EXP_BasicNCA\n",
    "from src.datasets.png_seg_Dataset import png_seg_Dataset\n",
    "from src.datasets.Nii_Gz_Dataset import Nii_Gz_Dataset\n",
    "import octree_vis, os, torch\n",
    "from src.utils.ProjectConfiguration import ProjectConfiguration\n",
    "ProjectConfiguration.STUDY_PATH = r\"/local/scratch/clmn1/octree_study/\""
   ]
  },
  {
   "cell_type": "code",
   "execution_count": 2,
   "metadata": {},
   "outputs": [
    {
     "name": "stdout",
     "output_type": "stream",
     "text": [
      "DATA INSTANCE CREATED\n",
      "CONFIG {'description': 'OctreeNCA3D', 'lr': 0.0016, 'batch_duplication': 2, 'channel_n': 16, 'inference_steps': 64, 'cell_fire_rate': 0.5, 'batch_size': 4, 'hidden_size': 64, 'train_model': 1, 'betas': (0.9, 0.99), 'kernel_size': [3, 5, 7, 3, 3], 'scale_factor': 4, 'levels': 2, 'input_size': [(320, 320, 24)], 'img_path': '/local/scratch/jkalkhof/Data/Prostate/Prostate_MEDSeg/imagesTr/', 'label_path': '/local/scratch/jkalkhof/Data/Prostate/Prostate_MEDSeg/labelsTr/', 'name': 'Prostate25', 'device': 'cuda:0', 'unlock_CPU': True, 'lr_gamma': 0.9999, 'save_interval': 10, 'evaluate_interval': 10, 'n_epoch': 1500, 'input_channels': 1, 'output_channels': 1, 'data_split': [1.0, 0, 0.0], 'keep_original_scale': False, 'rescale': True, 'octree_res_and_steps': [((320, 320, 24), 40), ((160, 160, 12), 0), ((80, 80, 6), 20), ((40, 40, 6), 0), ((20, 20, 6), 0)], 'separate_models': True, 'patch_sizes': [(80, 80, 6), None, None, None, None], 'compile': False}\n",
      "/local/scratch/clmn1/octree_study/Experiments/Prostate25_OctreeNCA3D/data_split.dt\n",
      "f059516293a64d02a1de9ccd\n",
      "/local/scratch/clmn1/octree_study/Experiments/Prostate25_OctreeNCA3D/models/epoch_0\n",
      "DATA INSTANCE CREATED\n"
     ]
    }
   ],
   "source": [
    "study_config = {\n",
    "        'img_path': r\"/local/scratch/jkalkhof/Data/Prostate/Prostate_MEDSeg/imagesTr/\",\n",
    "        'label_path': r\"/local/scratch/jkalkhof/Data/Prostate/Prostate_MEDSeg/labelsTr/\",\n",
    "        'name': r'Prostate25',\n",
    "        'device':\"cuda:0\",\n",
    "        'unlock_CPU': True,\n",
    "        # Optimizer\n",
    "        'lr_gamma': 0.9999,\n",
    "        'betas': (0.9, 0.99),\n",
    "        # Training\n",
    "        'save_interval': 10,\n",
    "        'evaluate_interval': 10,\n",
    "        'n_epoch': 1500,\n",
    "        # Model\n",
    "        'input_channels': 1,\n",
    "        'output_channels': 1,\n",
    "        'hidden_size': 64,\n",
    "        'train_model':1,\n",
    "        'channel_n': 16,\n",
    "        'kernel_size': [3, 5, 7, 3, 3],\n",
    "        # Data\n",
    "        'input_size': [(320, 320, 24)], # (320, 320, 24) -> (160, 160, 12) -> (80, 80, 12) -> (40, 40, 12) -> (20, 20, 12)\n",
    "        \n",
    "        'data_split': [1.0, 0, 0.0], \n",
    "        'keep_original_scale': False,\n",
    "        'rescale': True,\n",
    "        # Octree - specific\n",
    "        'octree_res_and_steps': [((320,320,24), 40), ((160,160,12), 0), ((80,80,6), 20), ((40,40,6), 0), ((20,20,6), 0)],\n",
    "        'separate_models': True,\n",
    "        # (160, 160, 12) <- (160, 160, 12) <- (80, 80, 12) <- (40, 40, 12) <- (20, 20, 12)\n",
    "        'patch_sizes':[((80, 80, 6)), None, None, None, None],\n",
    "        #'patch_sizes': [None] *5,\n",
    "        ### TEMP\n",
    "        \n",
    "\n",
    "        'compile': False,\n",
    "        'batch_size': 4,\n",
    "        'batch_duplication': 2,\n",
    "    }\n",
    "os.environ['CUDA_LAUNCH_BLOCKING'] = '1'\n",
    "torch.autograd.set_detect_anomaly(True)\n",
    "study = Study(study_config)\n",
    "dataset = Dataset_NiiGz_3D()\n",
    "exp = EXP_OctreeNCA3D().createExperiment(study_config, detail_config={}, dataset=dataset)\n",
    "study.add_experiment(exp)\n",
    "\n",
    "hyp99_test = Dataset_NiiGz_3D_customPath(resize=True, size=(320, 320, 24), imagePath=r\"/local/scratch/jkalkhof/Data/Prostate/Prostate_MEDSeg/imagesTs\", labelPath=r\"/local/scratch/jkalkhof/Data/Prostate/Prostate_MEDSeg/labelsTs\")\n",
    "hyp99_test.exp = exp\n",
    "study.my_custom_evaluation_set = hyp99_test\n",
    "def evaluate():\n",
    "    print(\"RUNNING CUSTOM EVALUATION\")\n",
    "\n",
    "    exp.agent.getAverageDiceScore(pseudo_ensemble=True, dataset=study.my_custom_evaluation_set)\n",
    "\n",
    "study.eval_experiments = evaluate"
   ]
  },
  {
   "cell_type": "code",
   "execution_count": 3,
   "metadata": {},
   "outputs": [
    {
     "data": {
      "text/plain": [
       "odict_keys(['backbone_ncas.0.fc0.weight', 'backbone_ncas.0.fc0.bias', 'backbone_ncas.0.fc1.weight', 'backbone_ncas.0.p0.weight', 'backbone_ncas.0.p0.bias', 'backbone_ncas.0.bn.weight', 'backbone_ncas.0.bn.bias', 'backbone_ncas.1.fc0.weight', 'backbone_ncas.1.fc0.bias', 'backbone_ncas.1.fc1.weight', 'backbone_ncas.1.p0.weight', 'backbone_ncas.1.p0.bias', 'backbone_ncas.1.bn.weight', 'backbone_ncas.1.bn.bias', 'backbone_ncas.2.fc0.weight', 'backbone_ncas.2.fc0.bias', 'backbone_ncas.2.fc1.weight', 'backbone_ncas.2.p0.weight', 'backbone_ncas.2.p0.bias', 'backbone_ncas.2.bn.weight', 'backbone_ncas.2.bn.bias', 'backbone_ncas.3.fc0.weight', 'backbone_ncas.3.fc0.bias', 'backbone_ncas.3.fc1.weight', 'backbone_ncas.3.p0.weight', 'backbone_ncas.3.p0.bias', 'backbone_ncas.3.bn.weight', 'backbone_ncas.3.bn.bias', 'backbone_ncas.4.fc0.weight', 'backbone_ncas.4.fc0.bias', 'backbone_ncas.4.fc1.weight', 'backbone_ncas.4.p0.weight', 'backbone_ncas.4.p0.bias', 'backbone_ncas.4.bn.weight', 'backbone_ncas.4.bn.bias'])"
      ]
     },
     "execution_count": 3,
     "metadata": {},
     "output_type": "execute_result"
    }
   ],
   "source": [
    "exp.agent.model.state_dict().keys()"
   ]
  },
  {
   "cell_type": "code",
   "execution_count": 4,
   "metadata": {},
   "outputs": [],
   "source": [
    "weights = torch.load('/local/scratch/clmn1/octree_study/Experiments/MIA_prostate_M3D_NCA_Run3_None/models/epoch_1500/model.pth')\n",
    "\n",
    "backbone2_weights = {}\n",
    "backbone0_weights = {}\n",
    "\n",
    "keys = list(weights.keys())\n",
    "for key in keys:\n",
    "    if key.startswith('model.1'):\n",
    "        new_key = key.replace('model.1.', '')\n",
    "        backbone0_weights[new_key] = weights.pop(key)\n",
    "    elif key.startswith('model.0'):\n",
    "        new_key = key.replace('model.0.', '')\n",
    "        backbone2_weights[new_key] = weights.pop(key)"
   ]
  },
  {
   "cell_type": "code",
   "execution_count": 5,
   "metadata": {},
   "outputs": [
    {
     "data": {
      "text/plain": [
       "<All keys matched successfully>"
      ]
     },
     "execution_count": 5,
     "metadata": {},
     "output_type": "execute_result"
    }
   ],
   "source": [
    "exp.agent.model.backbone_ncas[0].load_state_dict(backbone0_weights)\n",
    "exp.agent.model.backbone_ncas[2].load_state_dict(backbone2_weights)"
   ]
  },
  {
   "cell_type": "code",
   "execution_count": 6,
   "metadata": {},
   "outputs": [
    {
     "name": "stdout",
     "output_type": "stream",
     "text": [
      "RUNNING CUSTOM EVALUATION\n",
      "DATA_ID ['_0_0']\n",
      "NQM Score:  0.0386698\n",
      ", 0.8160544633865356\n",
      "torch.Size([1, 1, 320, 320, 24]) torch.Size([1, 320, 320, 24, 1]) torch.Size([1, 320, 320, 24, 1])\n",
      "DATA_ID ['_1_1']\n",
      "NQM Score:  0.07459224\n",
      ", 0.46690523624420166\n",
      "torch.Size([1, 1, 320, 320, 24]) torch.Size([1, 320, 320, 24, 1]) torch.Size([1, 320, 320, 24, 1])\n",
      "DATA_ID ['_2_2']\n",
      "NQM Score:  0.028645648\n",
      ", 0.6744042038917542\n",
      "torch.Size([1, 1, 320, 320, 24]) torch.Size([1, 320, 320, 24, 1]) torch.Size([1, 320, 320, 24, 1])\n",
      "DATA_ID ['_3_3']\n",
      "NQM Score:  0.030922206\n",
      ", 0.8414003252983093\n",
      "torch.Size([1, 1, 320, 320, 24]) torch.Size([1, 320, 320, 24, 1]) torch.Size([1, 320, 320, 24, 1])\n",
      "DATA_ID ['_4_4']\n",
      "NQM Score:  0.02187545\n",
      ", 0.8712702393531799\n",
      "torch.Size([1, 1, 320, 320, 24]) torch.Size([1, 320, 320, 24, 1]) torch.Size([1, 320, 320, 24, 1])\n",
      "DATA_ID ['_5_5']\n",
      "NQM Score:  0.019616658\n",
      ", 0.7640125155448914\n",
      "torch.Size([1, 1, 320, 320, 24]) torch.Size([1, 320, 320, 24, 1]) torch.Size([1, 320, 320, 24, 1])\n",
      "DATA_ID ['_6_6']\n",
      "NQM Score:  0.07840086\n",
      ", 0.5690336227416992\n",
      "torch.Size([1, 1, 320, 320, 24]) torch.Size([1, 320, 320, 24, 1]) torch.Size([1, 320, 320, 24, 1])\n",
      "Average Dice Loss 3d: 0, 0.7147258009229388\n",
      "Standard Deviation 3d: 0, 0.14016130944230992\n"
     ]
    }
   ],
   "source": [
    "study.eval_experiments()"
   ]
  }
 ],
 "metadata": {
  "kernelspec": {
   "display_name": "Python 3",
   "language": "python",
   "name": "python3"
  },
  "language_info": {
   "codemirror_mode": {
    "name": "ipython",
    "version": 3
   },
   "file_extension": ".py",
   "mimetype": "text/x-python",
   "name": "python",
   "nbconvert_exporter": "python",
   "pygments_lexer": "ipython3",
   "version": "3.10.14"
  }
 },
 "nbformat": 4,
 "nbformat_minor": 2
}
