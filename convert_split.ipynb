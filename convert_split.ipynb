{
 "cells": [
  {
   "cell_type": "code",
   "execution_count": 1,
   "metadata": {},
   "outputs": [
    {
     "name": "stderr",
     "output_type": "stream",
     "text": [
      "/home/nlemke/remote/miniconda3/envs/nca3/lib/python3.10/site-packages/tqdm/auto.py:21: TqdmWarning: IProgress not found. Please update jupyter and ipywidgets. See https://ipywidgets.readthedocs.io/en/stable/user_install.html\n",
      "  from .autonotebook import tqdm as notebook_tqdm\n",
      "/home/nlemke/remote/miniconda3/envs/nca3/lib/python3.10/site-packages/transformers/utils/generic.py:441: UserWarning: torch.utils._pytree._register_pytree_node is deprecated. Please use torch.utils._pytree.register_pytree_node instead.\n",
      "  _torch_pytree._register_pytree_node(\n"
     ]
    }
   ],
   "source": [
    "import pickle as pkl\n",
    "from src.datasets.Nii_Gz_Dataset_3D import Dataset_NiiGz_3D\n",
    "from src.utils.Experiment import DataSplit\n",
    "\n",
    "PROSTATE_49_SPLIT_FILE = r\"/local/scratch/clmn1/octree_study/Experiments/Prostate49_OctreeNCA3D/data_split.dt\"\n",
    "PROSTATE_49_SPLIT = pkl.load(open(PROSTATE_49_SPLIT_FILE, \"rb\"))"
   ]
  },
  {
   "cell_type": "code",
   "execution_count": 3,
   "metadata": {},
   "outputs": [],
   "source": [
    "d = {}\n",
    "d[\"images\"] = PROSTATE_49_SPLIT.images\n",
    "d[\"labels\"] = PROSTATE_49_SPLIT.labels"
   ]
  },
  {
   "cell_type": "code",
   "execution_count": 4,
   "metadata": {},
   "outputs": [],
   "source": [
    "pkl.dump(d, open(r\"/local/scratch/clmn1/octree_study/Experiments/Prostate49_OctreeNCA3D/data_split.pkl\", \"wb\"))"
   ]
  },
  {
   "cell_type": "code",
   "execution_count": 5,
   "metadata": {},
   "outputs": [
    {
     "data": {
      "text/plain": [
       "{'train': {'prostate_34.nii.gz': {0: ('prostate_34.nii.gz',\n",
       "    'prostate_34.nii.gz',\n",
       "    0)},\n",
       "  'prostate_44.nii.gz': {0: ('prostate_44.nii.gz', 'prostate_44.nii.gz', 0)},\n",
       "  'prostate_47.nii.gz': {0: ('prostate_47.nii.gz', 'prostate_47.nii.gz', 0)},\n",
       "  'prostate_41.nii.gz': {0: ('prostate_41.nii.gz', 'prostate_41.nii.gz', 0)},\n",
       "  'prostate_31.nii.gz': {0: ('prostate_31.nii.gz', 'prostate_31.nii.gz', 0)},\n",
       "  'prostate_01.nii.gz': {0: ('prostate_01.nii.gz', 'prostate_01.nii.gz', 0)},\n",
       "  'prostate_24.nii.gz': {0: ('prostate_24.nii.gz', 'prostate_24.nii.gz', 0)},\n",
       "  'prostate_35.nii.gz': {0: ('prostate_35.nii.gz', 'prostate_35.nii.gz', 0)},\n",
       "  'prostate_00.nii.gz': {0: ('prostate_00.nii.gz', 'prostate_00.nii.gz', 0)},\n",
       "  'prostate_43.nii.gz': {0: ('prostate_43.nii.gz', 'prostate_43.nii.gz', 0)},\n",
       "  'prostate_37.nii.gz': {0: ('prostate_37.nii.gz', 'prostate_37.nii.gz', 0)},\n",
       "  'prostate_40.nii.gz': {0: ('prostate_40.nii.gz', 'prostate_40.nii.gz', 0)},\n",
       "  'prostate_38.nii.gz': {0: ('prostate_38.nii.gz', 'prostate_38.nii.gz', 0)},\n",
       "  'prostate_20.nii.gz': {0: ('prostate_20.nii.gz', 'prostate_20.nii.gz', 0)},\n",
       "  'prostate_10.nii.gz': {0: ('prostate_10.nii.gz', 'prostate_10.nii.gz', 0)},\n",
       "  'prostate_18.nii.gz': {0: ('prostate_18.nii.gz', 'prostate_18.nii.gz', 0)},\n",
       "  'prostate_16.nii.gz': {0: ('prostate_16.nii.gz', 'prostate_16.nii.gz', 0)},\n",
       "  'prostate_39.nii.gz': {0: ('prostate_39.nii.gz', 'prostate_39.nii.gz', 0)},\n",
       "  'prostate_07.nii.gz': {0: ('prostate_07.nii.gz', 'prostate_07.nii.gz', 0)},\n",
       "  'prostate_32.nii.gz': {0: ('prostate_32.nii.gz', 'prostate_32.nii.gz', 0)},\n",
       "  'prostate_17.nii.gz': {0: ('prostate_17.nii.gz', 'prostate_17.nii.gz', 0)},\n",
       "  'prostate_25.nii.gz': {0: ('prostate_25.nii.gz', 'prostate_25.nii.gz', 0)},\n",
       "  'prostate_04.nii.gz': {0: ('prostate_04.nii.gz', 'prostate_04.nii.gz', 0)}},\n",
       " 'val': {},\n",
       " 'test': {'prostate_21.nii.gz': {0: ('prostate_21.nii.gz',\n",
       "    'prostate_21.nii.gz',\n",
       "    0)},\n",
       "  'prostate_42.nii.gz': {0: ('prostate_42.nii.gz', 'prostate_42.nii.gz', 0)},\n",
       "  'prostate_29.nii.gz': {0: ('prostate_29.nii.gz', 'prostate_29.nii.gz', 0)},\n",
       "  'prostate_14.nii.gz': {0: ('prostate_14.nii.gz', 'prostate_14.nii.gz', 0)},\n",
       "  'prostate_28.nii.gz': {0: ('prostate_28.nii.gz', 'prostate_28.nii.gz', 0)},\n",
       "  'prostate_13.nii.gz': {0: ('prostate_13.nii.gz', 'prostate_13.nii.gz', 0)},\n",
       "  'prostate_46.nii.gz': {0: ('prostate_46.nii.gz', 'prostate_46.nii.gz', 0)},\n",
       "  'prostate_06.nii.gz': {0: ('prostate_06.nii.gz', 'prostate_06.nii.gz', 0)},\n",
       "  'prostate_02.nii.gz': {0: ('prostate_02.nii.gz', 'prostate_02.nii.gz', 0)}}}"
      ]
     },
     "execution_count": 5,
     "metadata": {},
     "output_type": "execute_result"
    }
   ],
   "source": [
    "PROSTATE_49_SPLIT.labels"
   ]
  }
 ],
 "metadata": {
  "kernelspec": {
   "display_name": "Python 3",
   "language": "python",
   "name": "python3"
  },
  "language_info": {
   "codemirror_mode": {
    "name": "ipython",
    "version": 3
   },
   "file_extension": ".py",
   "mimetype": "text/x-python",
   "name": "python",
   "nbconvert_exporter": "python",
   "pygments_lexer": "ipython3",
   "version": "3.10.14"
  }
 },
 "nbformat": 4,
 "nbformat_minor": 2
}
