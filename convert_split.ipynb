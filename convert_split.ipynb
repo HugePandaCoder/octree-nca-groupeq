{
 "cells": [
  {
   "cell_type": "code",
   "execution_count": 1,
   "metadata": {},
   "outputs": [
    {
     "name": "stderr",
     "output_type": "stream",
     "text": [
      "/home/nlemke/remote/miniconda3/envs/nca3/lib/python3.10/site-packages/tqdm/auto.py:21: TqdmWarning: IProgress not found. Please update jupyter and ipywidgets. See https://ipywidgets.readthedocs.io/en/stable/user_install.html\n",
      "  from .autonotebook import tqdm as notebook_tqdm\n",
      "/home/nlemke/remote/miniconda3/envs/nca3/lib/python3.10/site-packages/transformers/utils/generic.py:441: UserWarning: torch.utils._pytree._register_pytree_node is deprecated. Please use torch.utils._pytree.register_pytree_node instead.\n",
      "  _torch_pytree._register_pytree_node(\n"
     ]
    }
   ],
   "source": [
    "import pickle as pkl\n",
    "from src.datasets.Nii_Gz_Dataset_3D import Dataset_NiiGz_3D\n",
    "from src.utils.Experiment import DataSplit\n",
    "\n",
    "PROSTATE_49_SPLIT_FILE = r\"/local/scratch/clmn1/octree_study/Experiments/cholec_seg_5_OctreeNCA3D/data_split.dt\"\n",
    "PROSTATE_49_SPLIT = pkl.load(open(PROSTATE_49_SPLIT_FILE, \"rb\"))"
   ]
  },
  {
   "cell_type": "code",
   "execution_count": 2,
   "metadata": {},
   "outputs": [],
   "source": [
    "d = {}\n",
    "d[\"images\"] = PROSTATE_49_SPLIT.images\n",
    "d[\"labels\"] = PROSTATE_49_SPLIT.labels"
   ]
  },
  {
   "cell_type": "code",
   "execution_count": 3,
   "metadata": {},
   "outputs": [],
   "source": [
    "pkl.dump(d, open(r\"/local/scratch/clmn1/octree_study/Experiments/cholec_seg_5_OctreeNCA3D/data_split.pkl\", \"wb\"))"
   ]
  },
  {
   "cell_type": "code",
   "execution_count": 4,
   "metadata": {},
   "outputs": [
    {
     "data": {
      "text/plain": [
       "{'train': {'video43': {0: 'video43_00147',\n",
       "   1: 'video43_00307',\n",
       "   2: 'video43_00627',\n",
       "   3: 'video43_00707',\n",
       "   4: 'video43_00387',\n",
       "   5: 'video43_00467',\n",
       "   6: 'video43_00547',\n",
       "   7: 'video43_00067',\n",
       "   8: 'video43_00787'},\n",
       "  'video18': {0: 'video18_00979', 1: 'video18_01139'},\n",
       "  'video28': {0: 'video28_00000',\n",
       "   1: 'video28_00400',\n",
       "   2: 'video28_00480',\n",
       "   3: 'video28_00320',\n",
       "   4: 'video28_00080',\n",
       "   5: 'video28_00240',\n",
       "   6: 'video28_00160'},\n",
       "  'video09': {0: 'video09_00832', 1: 'video09_00992', 2: 'video09_00912'},\n",
       "  'video20': {0: 'video20_03340', 1: 'video20_03260'},\n",
       "  'video48': {0: 'video48_00801', 1: 'video48_00641', 2: 'video48_00561'},\n",
       "  'video55': {0: 'video55_00508', 1: 'video55_00668', 2: 'video55_00588'},\n",
       "  'video37': {0: 'video37_01008',\n",
       "   1: 'video37_00688',\n",
       "   2: 'video37_00848',\n",
       "   3: 'video37_00528',\n",
       "   4: 'video37_00768',\n",
       "   5: 'video37_00928'},\n",
       "  'video26': {0: 'video26_01935',\n",
       "   1: 'video26_02175',\n",
       "   2: 'video26_01855',\n",
       "   3: 'video26_02095'},\n",
       "  'video35': {0: 'video35_00780', 1: 'video35_00940', 2: 'video35_01100'},\n",
       "  'video25': {0: 'video25_00242',\n",
       "   1: 'video25_00402',\n",
       "   2: 'video25_00482',\n",
       "   3: 'video25_00162'},\n",
       "  'video24': {0: 'video24_09596',\n",
       "   1: 'video24_00160',\n",
       "   2: 'video24_09676',\n",
       "   3: 'video24_09836',\n",
       "   4: 'video24_09916',\n",
       "   5: 'video24_00000',\n",
       "   6: 'video24_00480',\n",
       "   7: 'video24_00560',\n",
       "   8: 'video24_00400',\n",
       "   9: 'video24_10076',\n",
       "   10: 'video24_00240',\n",
       "   11: 'video24_00080'}},\n",
       " 'val': {},\n",
       " 'test': {'video01': {0: 'video01_16585',\n",
       "   1: 'video01_28660',\n",
       "   2: 'video01_14859',\n",
       "   3: 'video01_28900',\n",
       "   4: 'video01_16425',\n",
       "   5: 'video01_00240',\n",
       "   6: 'video01_28580',\n",
       "   7: 'video01_28740',\n",
       "   8: 'video01_14939',\n",
       "   9: 'video01_16345',\n",
       "   10: 'video01_00160',\n",
       "   11: 'video01_00080',\n",
       "   12: 'video01_15099',\n",
       "   13: 'video01_28820',\n",
       "   14: 'video01_15019',\n",
       "   15: 'video01_00400'},\n",
       "  'video52': {0: 'video52_00480',\n",
       "   1: 'video52_00320',\n",
       "   2: 'video52_00160',\n",
       "   3: 'video52_00240',\n",
       "   4: 'video52_00400',\n",
       "   5: 'video52_02746',\n",
       "   6: 'video52_00000',\n",
       "   7: 'video52_02826',\n",
       "   8: 'video52_02906',\n",
       "   9: 'video52_00080'},\n",
       "  'video12': {0: 'video12_15750',\n",
       "   1: 'video12_19900',\n",
       "   2: 'video12_19500',\n",
       "   3: 'video12_19740',\n",
       "   4: 'video12_19980',\n",
       "   5: 'video12_19660',\n",
       "   6: 'video12_19580',\n",
       "   7: 'video12_15830'},\n",
       "  'video17': {0: 'video17_01803',\n",
       "   1: 'video17_01563',\n",
       "   2: 'video17_01643',\n",
       "   3: 'video17_01963'},\n",
       "  'video27': {0: 'video27_00240',\n",
       "   1: 'video27_00480',\n",
       "   2: 'video27_00400',\n",
       "   3: 'video27_00640',\n",
       "   4: 'video27_00160'}}}"
      ]
     },
     "execution_count": 4,
     "metadata": {},
     "output_type": "execute_result"
    }
   ],
   "source": [
    "PROSTATE_49_SPLIT.labels"
   ]
  }
 ],
 "metadata": {
  "kernelspec": {
   "display_name": "Python 3",
   "language": "python",
   "name": "python3"
  },
  "language_info": {
   "codemirror_mode": {
    "name": "ipython",
    "version": 3
   },
   "file_extension": ".py",
   "mimetype": "text/x-python",
   "name": "python",
   "nbconvert_exporter": "python",
   "pygments_lexer": "ipython3",
   "version": "3.10.14"
  }
 },
 "nbformat": 4,
 "nbformat_minor": 2
}
