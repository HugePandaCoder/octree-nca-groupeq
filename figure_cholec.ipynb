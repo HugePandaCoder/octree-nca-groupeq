{
 "cells": [
  {
   "cell_type": "code",
   "execution_count": 22,
   "metadata": {},
   "outputs": [],
   "source": [
    "import numpy as np\n",
    "import pandas as pd\n",
    "import seaborn as sns\n",
    "import matplotlib.pyplot as plt\n",
    "import json"
   ]
  },
  {
   "cell_type": "code",
   "execution_count": 23,
   "metadata": {},
   "outputs": [],
   "source": [
    "models = [\n",
    "    #(\"/local/scratch/clmn1/octree_study_new/Experiments/pesoLarge_OctreeNCA2DSegmentation/\", \"OctreeL\"),\n",
    "    #(\"/local/scratch/clmn1/octree_study_new/Experiments/peso_med_OctreeNCA2DSegmentation/\", \"MedNCA\"),\n",
    "    #(\"/local/scratch/clmn1/octree_study_new/Experiments/cholec_OctreeNCASegmentation\", \"OctreeNCA\"),\n",
    "    (\"/local/scratch/clmn1/octree_study_new/Experiments/cholecfFixAbl_none_10_1.0_16_1_1.0_0.99_OctreeNCASegmentation\", \"OctreeNCA\"),\n",
    "\n",
    "    #(\"/local/scratch/clmn1/octree_study_new/Experiments/cholec_UNet_efficientnet-b0_0_MinUNetSegmentation/\", \"UNet Efficientnet\"),\n",
    "    #(\"/local/scratch/clmn1/octree_study_new/Experiments/cholec_UNet_mobilenet_v2_0_MinUNetSegmentation/\", \"UNet Mobilenetv2\"),\n",
    "    #(\"/local/scratch/clmn1/octree_study_new/Experiments/cholec_UNet_resnet18_0_MinUNetSegmentation/\", \"UNet Resnet18\"),\n",
    "    #(\"/local/scratch/clmn1/octree_study_new/Experiments/cholec_UNet_vgg11_0_MinUNetSegmentation/\", \"UNet VGG11\"),\n",
    "    (\"/local/scratch/clmn1/octree_study_new/Experiments/cholec_unet_UNetSegmentation/\", \"UNet3D\"),\n",
    "    (\"/local/scratch/clmn1/octree_study_new/Experiments/cholec_munet3d_UNet_resnet18_0_minUNet3DSegmentation/\", \"UNet3D Resnet18\"),\n",
    "    #(\"/local/scratch/clmn1/octree_study_new/Experiments/cholec_munet3d_UNet_densenet121_0_minUNet3DSegmentation/\", \"UNet3D Densenet121\"),\n",
    "    (\"/local/scratch/clmn1/octree_study_new/Experiments/cholec_M3dSegmentation/\", \"M3D NCA\"),\n",
    "]"
   ]
  },
  {
   "cell_type": "code",
   "execution_count": 24,
   "metadata": {},
   "outputs": [],
   "source": [
    "nan_template = pd.read_csv(f\"/local/scratch/clmn1/octree_study_new/Experiments/cholec_sam_Sam3DSegmentation/eval/standard.csv\", sep='\\t')\n",
    "nan_template.set_index('Unnamed: 0', inplace=True)\n",
    "annnotation_list = []\n",
    "all_files = []\n",
    "for i, (model, model_name) in enumerate(models):\n",
    "    score = pd.read_csv(f\"{model}/eval/standard.csv\", sep='\\t')\n",
    "    score.set_index('Unnamed: 0', inplace=True)\n",
    "    score[nan_template.isna()] = np.nan\n",
    "    \n",
    "    MEAN_DICE = True\n",
    "    if MEAN_DICE:\n",
    "        score = score.loc[:, [\"DiceScore/0\", \"DiceScore/1\", \"DiceScore/2\", \"DiceScore/3\", \"DiceScore/4\"]]\n",
    "        score = score.mean(axis=1)\n",
    "        score = score.mean()\n",
    "    else:\n",
    "        score = score.loc[:, \"DiceScore/0\"].mean()\n",
    "        \n",
    "\n",
    "\n",
    "    mem_allocation = json.load(open(f\"{model}/mem_allocation.json\"))[\"byte\"]\n",
    "    num_params = json.load(open(f\"{model}/num_params.json\"))[\"num_params\"]\n",
    "\n",
    "    eval_file = {}\n",
    "\n",
    "    eval_file[\"model\"] = model\n",
    "    eval_file[\"mem_allocation\"] = mem_allocation\n",
    "    eval_file[\"num_params\"] = num_params\n",
    "    eval_file[\"score\"] = score\n",
    "    df = pd.DataFrame(index=[i], data=eval_file)\n",
    "    all_files.append(df)\n",
    "    annnotation_list.append((num_params, score, model_name))\n",
    "\n",
    "all_files = pd.concat(all_files)"
   ]
  },
  {
   "cell_type": "code",
   "execution_count": 25,
   "metadata": {},
   "outputs": [
    {
     "data": {
      "text/html": [
       "<div>\n",
       "<style scoped>\n",
       "    .dataframe tbody tr th:only-of-type {\n",
       "        vertical-align: middle;\n",
       "    }\n",
       "\n",
       "    .dataframe tbody tr th {\n",
       "        vertical-align: top;\n",
       "    }\n",
       "\n",
       "    .dataframe thead th {\n",
       "        text-align: right;\n",
       "    }\n",
       "</style>\n",
       "<table border=\"1\" class=\"dataframe\">\n",
       "  <thead>\n",
       "    <tr style=\"text-align: right;\">\n",
       "      <th></th>\n",
       "      <th>model</th>\n",
       "      <th>mem_allocation</th>\n",
       "      <th>num_params</th>\n",
       "      <th>score</th>\n",
       "    </tr>\n",
       "  </thead>\n",
       "  <tbody>\n",
       "    <tr>\n",
       "      <th>0</th>\n",
       "      <td>/local/scratch/clmn1/octree_study_new/Experime...</td>\n",
       "      <td>2590576640</td>\n",
       "      <td>16960</td>\n",
       "      <td>0.640107</td>\n",
       "    </tr>\n",
       "    <tr>\n",
       "      <th>1</th>\n",
       "      <td>/local/scratch/clmn1/octree_study_new/Experime...</td>\n",
       "      <td>14993841152</td>\n",
       "      <td>19073285</td>\n",
       "      <td>0.531266</td>\n",
       "    </tr>\n",
       "    <tr>\n",
       "      <th>2</th>\n",
       "      <td>/local/scratch/clmn1/octree_study_new/Experime...</td>\n",
       "      <td>17270131712</td>\n",
       "      <td>42656757</td>\n",
       "      <td>0.618970</td>\n",
       "    </tr>\n",
       "    <tr>\n",
       "      <th>3</th>\n",
       "      <td>/local/scratch/clmn1/octree_study_new/Experime...</td>\n",
       "      <td>14314118656</td>\n",
       "      <td>12480</td>\n",
       "      <td>0.640302</td>\n",
       "    </tr>\n",
       "  </tbody>\n",
       "</table>\n",
       "</div>"
      ],
      "text/plain": [
       "                                               model  mem_allocation  \\\n",
       "0  /local/scratch/clmn1/octree_study_new/Experime...      2590576640   \n",
       "1  /local/scratch/clmn1/octree_study_new/Experime...     14993841152   \n",
       "2  /local/scratch/clmn1/octree_study_new/Experime...     17270131712   \n",
       "3  /local/scratch/clmn1/octree_study_new/Experime...     14314118656   \n",
       "\n",
       "   num_params     score  \n",
       "0       16960  0.640107  \n",
       "1    19073285  0.531266  \n",
       "2    42656757  0.618970  \n",
       "3       12480  0.640302  "
      ]
     },
     "execution_count": 25,
     "metadata": {},
     "output_type": "execute_result"
    }
   ],
   "source": [
    "all_files"
   ]
  },
  {
   "cell_type": "code",
   "execution_count": 26,
   "metadata": {},
   "outputs": [
    {
     "name": "stdout",
     "output_type": "stream",
     "text": [
      "0.60066187474545\n"
     ]
    }
   ],
   "source": [
    "#sam_path = \"/local/scratch/clmn1/octree_study_new/Experiments/cholec_sam_Sam3DSegmentation\"\n",
    "sam_path = \"/local/scratch/clmn1/octree_study_dev/Experiments/cholec_sam2_base_plus_Sam3DSegmentation\"\n",
    "\n",
    "sam_performance = pd.read_csv(f\"{sam_path}/eval/standard.csv\", sep='\\t')\n",
    "\n",
    "sam_performance = sam_performance.loc[:, [\"DiceScore/0\", \"DiceScore/1\", \"DiceScore/2\", \"DiceScore/3\", \"DiceScore/4\"]]\n",
    "sam_performance = sam_performance.mean(axis=1)\n",
    "sam_performance = sam_performance.mean()\n",
    "print(sam_performance)\n",
    "\n",
    "sam_num_params = json.load(open(f\"{sam_path}/num_params.json\"))[\"num_params\"]"
   ]
  },
  {
   "cell_type": "code",
   "execution_count": 27,
   "metadata": {},
   "outputs": [
    {
     "data": {
      "text/plain": [
       "(0.45, 0.7)"
      ]
     },
     "execution_count": 27,
     "metadata": {},
     "output_type": "execute_result"
    },
    {
     "data": {
      "image/png": "[encoded data removed]",
      "text/plain": [
       "<Figure size 640x480 with 1 Axes>"
      ]
     },
     "metadata": {},
     "output_type": "display_data"
    }
   ],
   "source": [
    "sns.set_theme()\n",
    "ax = sns.scatterplot(data=all_files, x=\"num_params\", y=\"score\", hue=\"mem_allocation\", size=\"mem_allocation\",legend=False, sizes=(20, 500))\n",
    "\n",
    "ax.annotate('SAM2', (sam_num_params, sam_performance), textcoords=\"offset points\", xytext=(0,10), ha='center')\n",
    "scatter = ax.scatter(sam_num_params, sam_performance, color='green', marker='*', s=375, edgecolor='white', linewidth=1.25)\n",
    "\n",
    "for x,y,txt in annnotation_list:\n",
    "    ax.annotate(txt, (x,y), textcoords=\"offset points\", xytext=(0,10), ha='center',\n",
    "        bbox=dict(boxstyle=\"round,pad=0.3\", edgecolor=\"black\", facecolor=\"white\"),\n",
    "        arrowprops=dict(arrowstyle=\"->\"))\n",
    "    pass\n",
    "plt.xscale(\"log\")\n",
    "plt.xlabel(\"Number of parameters\")\n",
    "plt.ylabel(\"mDice\")\n",
    "plt.title(\"Cholec video segmentation\")\n",
    "plt.ylim(0.45, 0.7)"
   ]
  }
 ],
 "metadata": {
  "kernelspec": {
   "display_name": "Python 3",
   "language": "python",
   "name": "python3"
  },
  "language_info": {
   "codemirror_mode": {
    "name": "ipython",
    "version": 3
   },
   "file_extension": ".py",
   "mimetype": "text/x-python",
   "name": "python",
   "nbconvert_exporter": "python",
   "pygments_lexer": "ipython3",
   "version": "3.10.14"
  }
 },
 "nbformat": 4,
 "nbformat_minor": 2
}
