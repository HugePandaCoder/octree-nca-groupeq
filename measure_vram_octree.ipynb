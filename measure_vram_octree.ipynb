{
 "cells": [
  {
   "cell_type": "code",
   "execution_count": 1,
   "metadata": {},
   "outputs": [
    {
     "name": "stderr",
     "output_type": "stream",
     "text": [
      "/home/nlemke/remote/miniconda3/envs/nca3/lib/python3.10/site-packages/tqdm/auto.py:21: TqdmWarning: IProgress not found. Please update jupyter and ipywidgets. See https://ipywidgets.readthedocs.io/en/stable/user_install.html\n",
      "  from .autonotebook import tqdm as notebook_tqdm\n",
      "/home/nlemke/remote/miniconda3/envs/nca3/lib/python3.10/site-packages/transformers/utils/generic.py:441: UserWarning: torch.utils._pytree._register_pytree_node is deprecated. Please use torch.utils._pytree.register_pytree_node instead.\n",
      "  _torch_pytree._register_pytree_node(\n"
     ]
    }
   ],
   "source": [
    "from src.models.Model_OctreeNCA_3d_patching2 import OctreeNCA3DPatch2\n",
    "import torch"
   ]
  },
  {
   "cell_type": "code",
   "execution_count": 2,
   "metadata": {},
   "outputs": [],
   "source": [
    "config ={\n",
    "    'model.train.loss_weighted_patching': False,\n",
    "    'model.train.patch_sizes': [None] * 2,\n",
    "    'model.channel_n': 16,\n",
    "    'model.input_channels': 1,\n",
    "    'model.output_channels': 1,\n",
    "    'experiment.device': \"cuda\",\n",
    "    'model.fire_rate': 0.5,\n",
    "    'model.octree.res_and_steps': [[[40,40,3], 5], [[20,20,3], 20]],\n",
    "    'model.octree.separate_models': True,\n",
    "    'model.kernel_size': [3] * 2,\n",
    "    'performance.compile': True,\n",
    "    'model.batchnorm_track_running_stats': False,\n",
    "    'model.hidden_size': 64,\n",
    "    'model.vitca': False,\n",
    "\n",
    "    'performance.inplace_operations': True,\n",
    "}\n",
    "\n",
    "\n",
    "model = OctreeNCA3DPatch2(config)\n",
    "\n",
    "adam = torch.optim.Adam(model.parameters(), lr=1e-3)    "
   ]
  },
  {
   "cell_type": "code",
   "execution_count": 4,
   "metadata": {},
   "outputs": [
    {
     "name": "stderr",
     "output_type": "stream",
     "text": [
      "/gris/gris-f/homestud/nlemke/NCA/src/models/Model_OctreeNCA_3d_patching2.py:131: UserWarning: Named tensors and all their associated APIs are an experimental feature and subject to change. Please do not use them for anything important until they are released as stable. (Triggered internally at ../c10/core/TensorImpl.h:1921.)\n",
      "  x.names = ('B', 'H', 'W', 'D', 'C')\n"
     ]
    }
   ],
   "source": [
    "x = torch.randn(1, 40,40,3, 1, device='cuda')\n",
    "y = torch.randn(1, 40,40,3, 1, device='cuda')\n",
    "out = model(x,y)"
   ]
  },
  {
   "cell_type": "code",
   "execution_count": 5,
   "metadata": {},
   "outputs": [
    {
     "name": "stdout",
     "output_type": "stream",
     "text": [
      "49.7353515625 MB\n",
      "16.9541015625 MB\n"
     ]
    }
   ],
   "source": [
    "print(torch.cuda.memory_allocated() / 1024**2, \"MB\")\n",
    "out[0].mean().backward()\n",
    "print(torch.cuda.memory_allocated() / 1024**2, \"MB\")"
   ]
  }
 ],
 "metadata": {
  "kernelspec": {
   "display_name": "Python 3",
   "language": "python",
   "name": "python3"
  },
  "language_info": {
   "codemirror_mode": {
    "name": "ipython",
    "version": 3
   },
   "file_extension": ".py",
   "mimetype": "text/x-python",
   "name": "python",
   "nbconvert_exporter": "python",
   "pygments_lexer": "ipython3",
   "version": "3.10.14"
  }
 },
 "nbformat": 4,
 "nbformat_minor": 2
}
